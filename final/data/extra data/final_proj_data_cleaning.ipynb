{
 "cells": [
  {
   "cell_type": "code",
   "execution_count": 1,
   "metadata": {},
   "outputs": [],
   "source": [
    "import os \n",
    "import pandas as pd\n",
    "import numpy as np\n",
    "import matplotlib.pyplot as plt\n",
    "import matplotlib.dates as mdates\n",
    "from datetime import date\n"
   ]
  },
  {
   "cell_type": "markdown",
   "metadata": {},
   "source": [
    "loading in data \n"
   ]
  },
  {
   "cell_type": "code",
   "execution_count": 5,
   "metadata": {},
   "outputs": [
    {
     "data": {
      "text/plain": [
       "'c:\\\\Users\\\\Olivia_Pinney\\\\Documents\\\\UChicago_Materials\\\\RA_police\\\\Injuries'"
      ]
     },
     "execution_count": 5,
     "metadata": {},
     "output_type": "execute_result"
    }
   ],
   "source": [
    "os.getcwd()\n",
    "os.chdir(\"..\\RA_police\\Injuries\")"
   ]
  },
  {
   "cell_type": "code",
   "execution_count": 12,
   "metadata": {},
   "outputs": [],
   "source": [
    "data_path_iigh={\n",
    "  \"history_profiles\":\"chicago-police-data/data/unified_data/profiles/final-profiles.csv\",\n",
    "  \"history_roster\":\"chicago-police-data/data/unified_data/roster/roster_1936-2017_2017-04.csv\",\n",
    "  \"history_unit\":\"chicago-police-data/data/unified_data/unit-history/unit-history.csv\", \n",
    "  \"trr_overall\":\"chicago-police-data/data/unified_data/TRR/TRR-main_2004-2016_2016-09.csv\",\n",
    "  \"trr_subjects\":\"chicago-police-data/data/unified_data/TRR/TRR-subjects_2004-2016_2016-09.csv\",\n",
    "  \"trr_officers\":\"chicago-police-data/data/unified_data/TRR/TRR-officers_2004-2016_2016-09.csv\",\n",
    "  \"trr_actions\":\"chicago-police-data/data/unified_data/TRR/TRR-actions-responses_2004-2016_2016-09.csv\",\n",
    "  \"complaints\":\"chicago-police-data/data/unified_data/complaints/complaints-accused.csv\", \n",
    "  \"complaints_detailed\":\"chicago-police-data/data/unified_data/complaints/complaints-complaints.csv\",\n",
    "  \"complaint_types\":\"chicago-police-data/data/context_data/Complaint Categories.csv\", \n",
    "  #the following are internal file paths\n",
    "  \"dat\":\"internal_data/stacked_officer_arrests_01to18.csv\",\n",
    "  \"dat2\":\"internal_data/injuries_3_2022.csv\",\n",
    "  \"dat3\":\"internal_data/injuries_10_2022.csv\"\n",
    "}"
   ]
  },
  {
   "cell_type": "markdown",
   "metadata": {},
   "source": [
    "# Section on Histories"
   ]
  },
  {
   "cell_type": "code",
   "execution_count": 41,
   "metadata": {},
   "outputs": [
    {
     "name": "stderr",
     "output_type": "stream",
     "text": [
      "C:\\Users\\Olivia_Pinney\\AppData\\Local\\Temp\\ipykernel_21952\\2184588313.py:2: DtypeWarning: Columns (4,15) have mixed types. Specify dtype option on import or set low_memory=False.\n",
      "  history_profiles=pd.read_csv(data_path_iigh[\"history_profiles\"])\n"
     ]
    }
   ],
   "source": [
    "#merge history\n",
    "history_profiles=pd.read_csv(data_path_iigh[\"history_profiles\"])\n",
    "history_roster=pd.read_csv(data_path_iigh[\"history_roster\"])\n",
    "history_unit=pd.read_csv(data_path_iigh[\"history_unit\"]) \n",
    "\n",
    "#print(history_profiles.columns) #UID and personal information\n",
    "#print(history_roster.columns) #UID - smaller dataset\n",
    "#print(history_unit.columns) #UID, and their time on each unit"
   ]
  },
  {
   "cell_type": "code",
   "execution_count": 134,
   "metadata": {},
   "outputs": [
    {
     "data": {
      "text/plain": [
       "Index(['row_id', 'gender', 'race', 'birth_year', 'current_age',\n",
       "       'current_status', 'appointed_date', 'rank_no', 'current_rank',\n",
       "       'current_unit', 'unit_description', 'resignation_date', 'star1',\n",
       "       'star2', 'star3', 'star4', 'star5', 'star6', 'star7', 'star8', 'star9',\n",
       "       'star10', 'first_name', 'first_name_NS', 'last_name', 'last_name_NS',\n",
       "       'middle_initial', 'middle_initial2', 'suffix_name', 'merge',\n",
       "       'roster_1936-2017_2017-04_ID', 'UID', 'old_UID', 'link_UID',\n",
       "       'resignation_year', 'appointed_year'],\n",
       "      dtype='object')"
      ]
     },
     "execution_count": 134,
     "metadata": {},
     "output_type": "execute_result"
    }
   ],
   "source": [
    "df=history_roster #[history_roster[\"current_status\"]==1]\n",
    "#df[\"resignation_year\"]\n",
    "df[\"resignation_date\"]=df[\"resignation_date\"].fillna(\"2999-01-01\")\n",
    "df[\"resignation_year\"]=df[\"resignation_date\"].apply(lambda x: int(str(x)[0:4]))\n",
    "\n",
    "df[\"appointed_date\"]=df[\"appointed_date\"].fillna(\"1000-01-01\")\n",
    "df[\"appointed_year\"]=df[\"appointed_date\"].apply(lambda x: int(str(x)[0:4]))\n",
    "\n",
    "df=df[df[\"appointed_year\"]<2015] #officer in 2014\n",
    "df=df[df[\"resignation_year\"]>2013] #officer in 2014\n",
    "df=df[df[\"current_status\"]==1] #latest position\n",
    "\n",
    "df.columns\n"
   ]
  },
  {
   "cell_type": "code",
   "execution_count": 144,
   "metadata": {},
   "outputs": [],
   "source": [
    "temp=df[[\"unit_description\"]].value_counts(sort=True)\n",
    "temp=temp.reset_index()\n",
    "\n",
    "temp.to_csv(\"departments.csv\",index=False)"
   ]
  },
  {
   "cell_type": "markdown",
   "metadata": {},
   "source": [
    "# Section of Complaints"
   ]
  },
  {
   "cell_type": "code",
   "execution_count": 135,
   "metadata": {},
   "outputs": [
    {
     "name": "stderr",
     "output_type": "stream",
     "text": [
      "C:\\Users\\Olivia_Pinney\\AppData\\Local\\Temp\\ipykernel_21952\\3238190781.py:2: DtypeWarning: Columns (3,7,8) have mixed types. Specify dtype option on import or set low_memory=False.\n",
      "  complaints=pd.read_csv(data_path_iigh[\"complaints\"])\n",
      "C:\\Users\\Olivia_Pinney\\AppData\\Local\\Temp\\ipykernel_21952\\3238190781.py:3: DtypeWarning: Columns (0,5,6,7,8,9,10) have mixed types. Specify dtype option on import or set low_memory=False.\n",
      "  complaints_detailed=pd.read_csv(data_path_iigh[\"complaints_detailed\"])\n"
     ]
    }
   ],
   "source": [
    "#merge complaints\n",
    "complaints=pd.read_csv(data_path_iigh[\"complaints\"])\n",
    "complaints_detailed=pd.read_csv(data_path_iigh[\"complaints_detailed\"])\n",
    "complaint_types=pd.read_csv(data_path_iigh[\"complaint_types\"])\n",
    "\n",
    "cmp= complaints.merge(complaints_detailed[[\"cr_id\", \"complaint_date\"]],on=\"cr_id\",how=\"left\")\n",
    "cmp[\"code\"]=cmp[\"complaint_code\"]\n",
    "complaint_types=complaint_types[~pd.isna(complaint_types[\"111\"])]\n",
    "complaint_types[\"code\"]=complaint_types[\"111\"]\n",
    "cmp= cmp.merge(complaint_types,on=\"code\",how=\"left\")"
   ]
  },
  {
   "cell_type": "code",
   "execution_count": 136,
   "metadata": {},
   "outputs": [],
   "source": [
    "#cmp[\"UID\",\"CITIZEN / DEPT\",].value_counts()\n",
    "\n",
    "cmp=cmp[cmp[\"UID\"].isin(df[\"UID\"])]\n",
    "cmp=cmp[cmp[\"CITIZEN / DEPT\"].isin([\"CITIZEN\",\"DEPT\"])]\n",
    "\n"
   ]
  },
  {
   "cell_type": "code",
   "execution_count": 137,
   "metadata": {},
   "outputs": [
    {
     "data": {
      "text/html": [
       "<div>\n",
       "<style scoped>\n",
       "    .dataframe tbody tr th:only-of-type {\n",
       "        vertical-align: middle;\n",
       "    }\n",
       "\n",
       "    .dataframe tbody tr th {\n",
       "        vertical-align: top;\n",
       "    }\n",
       "\n",
       "    .dataframe thead th {\n",
       "        text-align: right;\n",
       "    }\n",
       "</style>\n",
       "<table border=\"1\" class=\"dataframe\">\n",
       "  <thead>\n",
       "    <tr style=\"text-align: right;\">\n",
       "      <th>CITIZEN / DEPT</th>\n",
       "      <th>UID</th>\n",
       "      <th>CITIZEN</th>\n",
       "      <th>DEPT</th>\n",
       "    </tr>\n",
       "  </thead>\n",
       "  <tbody>\n",
       "    <tr>\n",
       "      <th>0</th>\n",
       "      <td>100007.0</td>\n",
       "      <td>8.0</td>\n",
       "      <td>0.0</td>\n",
       "    </tr>\n",
       "    <tr>\n",
       "      <th>1</th>\n",
       "      <td>100009.0</td>\n",
       "      <td>1.0</td>\n",
       "      <td>1.0</td>\n",
       "    </tr>\n",
       "    <tr>\n",
       "      <th>2</th>\n",
       "      <td>100011.0</td>\n",
       "      <td>16.0</td>\n",
       "      <td>2.0</td>\n",
       "    </tr>\n",
       "    <tr>\n",
       "      <th>3</th>\n",
       "      <td>100012.0</td>\n",
       "      <td>3.0</td>\n",
       "      <td>2.0</td>\n",
       "    </tr>\n",
       "    <tr>\n",
       "      <th>4</th>\n",
       "      <td>100013.0</td>\n",
       "      <td>12.0</td>\n",
       "      <td>11.0</td>\n",
       "    </tr>\n",
       "    <tr>\n",
       "      <th>...</th>\n",
       "      <td>...</td>\n",
       "      <td>...</td>\n",
       "      <td>...</td>\n",
       "    </tr>\n",
       "    <tr>\n",
       "      <th>9535</th>\n",
       "      <td>131785.0</td>\n",
       "      <td>9.0</td>\n",
       "      <td>5.0</td>\n",
       "    </tr>\n",
       "    <tr>\n",
       "      <th>9536</th>\n",
       "      <td>131786.0</td>\n",
       "      <td>6.0</td>\n",
       "      <td>4.0</td>\n",
       "    </tr>\n",
       "    <tr>\n",
       "      <th>9537</th>\n",
       "      <td>131787.0</td>\n",
       "      <td>1.0</td>\n",
       "      <td>3.0</td>\n",
       "    </tr>\n",
       "    <tr>\n",
       "      <th>9538</th>\n",
       "      <td>131788.0</td>\n",
       "      <td>2.0</td>\n",
       "      <td>1.0</td>\n",
       "    </tr>\n",
       "    <tr>\n",
       "      <th>9539</th>\n",
       "      <td>131789.0</td>\n",
       "      <td>1.0</td>\n",
       "      <td>0.0</td>\n",
       "    </tr>\n",
       "  </tbody>\n",
       "</table>\n",
       "<p>9540 rows × 3 columns</p>\n",
       "</div>"
      ],
      "text/plain": [
       "CITIZEN / DEPT       UID  CITIZEN  DEPT\n",
       "0               100007.0      8.0   0.0\n",
       "1               100009.0      1.0   1.0\n",
       "2               100011.0     16.0   2.0\n",
       "3               100012.0      3.0   2.0\n",
       "4               100013.0     12.0  11.0\n",
       "...                  ...      ...   ...\n",
       "9535            131785.0      9.0   5.0\n",
       "9536            131786.0      6.0   4.0\n",
       "9537            131787.0      1.0   3.0\n",
       "9538            131788.0      2.0   1.0\n",
       "9539            131789.0      1.0   0.0\n",
       "\n",
       "[9540 rows x 3 columns]"
      ]
     },
     "execution_count": 137,
     "metadata": {},
     "output_type": "execute_result"
    }
   ],
   "source": [
    "#eventually want this\n",
    "#cmp[\"complaint_category\"].value_counts()\n",
    "\n",
    "temp=cmp[[\"UID\",\"CITIZEN / DEPT\"]].value_counts().reset_index()\n",
    "temp = temp.set_axis(['UID', 'CITIZEN / DEPT', 'COUNT'], axis=1, inplace=False)\n",
    "\n",
    "cmp_final=temp.pivot(index=\"UID\",columns=\"CITIZEN / DEPT\",values=\"COUNT\").reset_index()\n",
    "cmp_final.fillna(0.0)\n",
    "df=df.merge(cmp_final,on=\"UID\")"
   ]
  },
  {
   "cell_type": "markdown",
   "metadata": {},
   "source": [
    "## TTR"
   ]
  },
  {
   "cell_type": "code",
   "execution_count": 119,
   "metadata": {},
   "outputs": [],
   "source": [
    "#merge trr\n",
    "trr_overall=pd.read_csv(data_path_iigh[\"trr_overall\"])\n",
    "trr_subjects=pd.read_csv(data_path_iigh[\"trr_subjects\"])\n",
    "trr_officers=pd.read_csv(data_path_iigh[\"trr_officers\"])\n",
    "trr_actions=pd.read_csv(data_path_iigh[\"trr_actions\"])\n",
    "\n",
    "#trr=trr_overall.merge(trr_actions,on=\"trr_id\") #,how=\"left\"\n",
    "trr=trr_overall.merge(trr_officers,on=\"trr_id\") #,how=\"left\"\n",
    "trr=trr.merge(trr_subjects,on=\"trr_id\") #,how=\"left\"\n"
   ]
  },
  {
   "cell_type": "code",
   "execution_count": 124,
   "metadata": {},
   "outputs": [],
   "source": [
    "\n",
    "trr[\"trr_year\"]=trr[\"trr_date_x\"].apply(lambda x: int(str(x)[0:4]))\n",
    "trr_14=trr[trr[\"trr_year\"]==2014]\n"
   ]
  },
  {
   "cell_type": "code",
   "execution_count": 120,
   "metadata": {},
   "outputs": [
    {
     "data": {
      "text/plain": [
       "DID NOT FOLLOW VERBAL DIRECTION                           61833\n",
       "PULLED AWAY                                               52458\n",
       "OTHER (SPECIFY)                                           36366\n",
       "STIFFENED (DEAD WEIGHT)                                   35248\n",
       "IMMINENT THREAT OF BATTERY                                24033\n",
       "FLED                                                      21440\n",
       "ATTACK WITHOUT WEAPON                                     15545\n",
       "ATTACK WITH WEAPON                                         1716\n",
       "USES FORCE LIKELY TO CAUSE DEATH OR GREAT BODILY HARM      1605\n",
       "WEAPON(DESCRIBE IN ADDITIONAL INFO)                        1243\n",
       "Name: action, dtype: int64"
      ]
     },
     "execution_count": 120,
     "metadata": {},
     "output_type": "execute_result"
    }
   ],
   "source": [
    "#come back to this\n",
    "\n",
    "trr_actions[trr_actions[\"person\"] == \"Subject Action\"][\"action\"].value_counts(sort=True,dropna=False)\n",
    "#trr_actions[trr_actions[\"person\"] == \"Subject Action\"][\"resistance_type\"].value_counts(sort=True,dropna=False)\n",
    "\n",
    "#\"Passive Resister\"\n",
    "#\"Active Resister\"\n",
    "\n"
   ]
  },
  {
   "cell_type": "code",
   "execution_count": 389,
   "metadata": {},
   "outputs": [
    {
     "data": {
      "text/plain": [
       "-2690"
      ]
     },
     "execution_count": 389,
     "metadata": {},
     "output_type": "execute_result"
    }
   ],
   "source": [
    "df[\"altercation\"]=False\n",
    "df[\"altercation\"][df[\"UID\"].isin(trr_14[\"UID\"])]=True\n",
    "\n",
    "df[\"civ_complaint\"]=False\n",
    "df[\"dept_complaint\"]=False\n",
    "\n",
    "df[\"civ_complaint\"][df[\"CITIZEN\"]>0]=True\n",
    "df[\"dept_complaint\"][df[\"DEPT\"]>0]=True\n",
    "\n",
    "df[\"dept_complaint\"].value_counts()\n"
   ]
  },
  {
   "cell_type": "code",
   "execution_count": null,
   "metadata": {},
   "outputs": [],
   "source": [
    "temp=df[[\"unit_description\",\"altercation\",\"civ_complaint\",\"dept_complaint\"]].value_counts(sort=True)\n",
    "temp=temp.reset_index()\n",
    "\n",
    "temp.to_csv(\"departments_granular.csv\",index=False)\n",
    "\n",
    "\n",
    "\n",
    "\n"
   ]
  }
 ],
 "metadata": {
  "kernelspec": {
   "display_name": "Python 3.10.7 64-bit",
   "language": "python",
   "name": "python3"
  },
  "language_info": {
   "codemirror_mode": {
    "name": "ipython",
    "version": 3
   },
   "file_extension": ".py",
   "mimetype": "text/x-python",
   "name": "python",
   "nbconvert_exporter": "python",
   "pygments_lexer": "ipython3",
   "version": "3.10.7"
  },
  "orig_nbformat": 4,
  "vscode": {
   "interpreter": {
    "hash": "adb2bf8b6556bf81de5750366772a94ffe20ef8871ec544847e0a0e2a34f4fd1"
   }
  }
 },
 "nbformat": 4,
 "nbformat_minor": 2
}
