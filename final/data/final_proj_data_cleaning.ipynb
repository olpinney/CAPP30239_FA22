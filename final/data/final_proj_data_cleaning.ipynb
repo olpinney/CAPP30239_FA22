{
 "cells": [
  {
   "cell_type": "code",
   "execution_count": 360,
   "metadata": {},
   "outputs": [],
   "source": [
    "import os \n",
    "import pandas as pd\n",
    "import numpy as np\n",
    "import matplotlib.pyplot as plt\n",
    "import matplotlib.dates as mdates\n",
    "from datetime import date\n"
   ]
  },
  {
   "cell_type": "markdown",
   "metadata": {},
   "source": [
    "loading in data \n"
   ]
  },
  {
   "cell_type": "code",
   "execution_count": 361,
   "metadata": {},
   "outputs": [
    {
     "data": {
      "text/plain": [
       "'c:\\\\Users\\\\Olivia_Pinney\\\\Documents\\\\UChicago_Materials\\\\Data_Viz\\\\CAPP30239_FA22\\\\final\\\\data\\\\extra_data'"
      ]
     },
     "execution_count": 361,
     "metadata": {},
     "output_type": "execute_result"
    }
   ],
   "source": [
    "os.getcwd()\n"
   ]
  },
  {
   "cell_type": "code",
   "execution_count": 362,
   "metadata": {},
   "outputs": [],
   "source": [
    "data_path_iigh={\n",
    "  \"history_profiles\":\"chicago-police-data/data/unified_data/profiles/final-profiles.csv\",\n",
    "  \"history_roster\":\"chicago-police-data/data/unified_data/roster/roster_1936-2017_2017-04.csv\",\n",
    "  \"history_unit\":\"chicago-police-data/data/unified_data/unit-history/unit-history.csv\", \n",
    "  \"trr_overall\":\"chicago-police-data/data/unified_data/TRR/TRR-main_2004-2016_2016-09.csv\",\n",
    "  \"trr_subjects\":\"chicago-police-data/data/unified_data/TRR/TRR-subjects_2004-2016_2016-09.csv\",\n",
    "  \"trr_officers\":\"chicago-police-data/data/unified_data/TRR/TRR-officers_2004-2016_2016-09.csv\",\n",
    "  \"trr_actions\":\"chicago-police-data/data/unified_data/TRR/TRR-actions-responses_2004-2016_2016-09.csv\",\n",
    "  \"complaints\":\"chicago-police-data/data/unified_data/complaints/complaints-accused.csv\", \n",
    "  \"complaints_detailed\":\"chicago-police-data/data/unified_data/complaints/complaints-complaints.csv\",\n",
    "  \"complaint_types\":\"chicago-police-data/data/context_data/Complaint Categories.csv\", \n",
    "}"
   ]
  },
  {
   "cell_type": "markdown",
   "metadata": {},
   "source": [
    "# Department Roster"
   ]
  },
  {
   "cell_type": "code",
   "execution_count": 363,
   "metadata": {},
   "outputs": [],
   "source": [
    "history_roster=pd.read_csv(\"roster_1936-2017_2017-04.csv\")\n",
    "# history_unit=pd.read_csv(data_path_iigh[\"history_unit\"]) "
   ]
  },
  {
   "cell_type": "code",
   "execution_count": 364,
   "metadata": {},
   "outputs": [
    {
     "name": "stdout",
     "output_type": "stream",
     "text": [
      "0    131785.0\n",
      "1    131783.0\n",
      "2    131787.0\n",
      "3    131786.0\n",
      "4    131788.0\n",
      "5    131784.0\n",
      "6    131789.0\n",
      "Name: index, dtype: float64\n",
      "(12965, 36)\n",
      "(12958, 36)\n"
     ]
    }
   ],
   "source": [
    "df=history_roster \n",
    "df[\"resignation_date\"]=df[\"resignation_date\"].fillna(\"2999-01-01\")\n",
    "df[\"resignation_year\"]=df[\"resignation_date\"].apply(lambda x: int(str(x)[0:4]))\n",
    "\n",
    "df[\"appointed_date\"]=df[\"appointed_date\"].fillna(\"1000-01-01\")\n",
    "df[\"appointed_year\"]=df[\"appointed_date\"].apply(lambda x: int(str(x)[0:4]))\n",
    "\n",
    "df=df[df[\"appointed_year\"]<2015] #officer in 2014\n",
    "df=df[df[\"resignation_year\"]>2013] #officer in 2014\n",
    "\n",
    "#check that no one is duplicated\n",
    "temp=df.UID.value_counts().reset_index()\n",
    "problem_uids=temp[temp.UID>1][\"index\"]\n",
    "print(problem_uids)\n",
    "print(df.shape)\n",
    "df=df[~(df[\"UID\"].isin(problem_uids) & ~df[\"current_status\"]>0)]\n",
    "print(df.shape)\n"
   ]
  },
  {
   "cell_type": "code",
   "execution_count": 365,
   "metadata": {},
   "outputs": [],
   "source": [
    "df[\"unit_cat\"]=np.where(df[\"unit_description\"].str.contains(\"DISTRICT 0\"),\"DISTRICT\",\n",
    "    np.where(df[\"unit_description\"].str.contains(\"DETECTIVE\"),\"DETECTIVE\",\n",
    "    np.where(df[\"unit_description\"].str.contains(\"SPECIAL INVESTIGATIONS UNIT\"),\"DETECTIVE\",\n",
    "    np.where(df[\"unit_description\"].str.contains(\"TRAFFIC\"),\"TRANSPORT\",\n",
    "    np.where(df[\"unit_description\"].str.contains(\"TRANSPORT\"),\"TRANSPORT\",\n",
    "    np.where(df[\"unit_description\"].str.contains(\"TRANSIT\"),\"TRANSPORT\",    \n",
    "    np.where(df[\"unit_description\"].str.contains(\"AIRPORT\"),\"TRANSPORT\",\n",
    "    np.where(df[\"unit_description\"].str.contains(\"GANG ENFORCEMENT\"),\"GANG ENFORCEMENT\",\n",
    "    \"OTHER\"\n",
    "    ))))))))"
   ]
  },
  {
   "cell_type": "code",
   "execution_count": 366,
   "metadata": {},
   "outputs": [],
   "source": [
    "temp=df[[\"unit_description\",\"unit_cat\"]].value_counts(sort=True)\n",
    "temp=temp.reset_index()\n",
    "#temp=temp.set_index(\"unit_description\")\n",
    "temp.columns=[\"unit_description\",\"unit_cat\",\"headcount\"]\n",
    "temp[\"p_w_alts_2014\"]=0\n",
    "temp[\"p_w_civ_all\"]=0\n",
    "temp[\"p_w_dept_all\"]=0\n",
    "\n",
    "temp.to_json(\"departments_basic.json\",orient=\"records\")\n"
   ]
  },
  {
   "cell_type": "code",
   "execution_count": 367,
   "metadata": {},
   "outputs": [],
   "source": [
    "import json\n",
    "\n",
    "with open(\"departments_basic.json\") as file:\n",
    "    data = json.load(file)"
   ]
  },
  {
   "cell_type": "markdown",
   "metadata": {},
   "source": [
    "# Section of Complaints"
   ]
  },
  {
   "cell_type": "code",
   "execution_count": 368,
   "metadata": {},
   "outputs": [
    {
     "name": "stderr",
     "output_type": "stream",
     "text": [
      "C:\\Users\\Olivia_Pinney\\AppData\\Local\\Temp\\ipykernel_17176\\2517323982.py:2: DtypeWarning: Columns (3,7,8) have mixed types. Specify dtype option on import or set low_memory=False.\n",
      "  complaints=pd.read_csv(\"complaints-accused.csv\")\n",
      "C:\\Users\\Olivia_Pinney\\AppData\\Local\\Temp\\ipykernel_17176\\2517323982.py:3: DtypeWarning: Columns (0,5,6,7,8,9,10) have mixed types. Specify dtype option on import or set low_memory=False.\n",
      "  complaints_detailed=pd.read_csv(\"complaints-complaints.csv\")\n"
     ]
    }
   ],
   "source": [
    "#merge complaints\n",
    "complaints=pd.read_csv(\"complaints-accused.csv\")\n",
    "complaints_detailed=pd.read_csv(\"complaints-complaints.csv\")\n",
    "complaint_types=pd.read_csv(\"Complaint Categories.csv\")\n",
    "\n",
    "cmp= complaints.merge(complaints_detailed[[\"cr_id\", \"complaint_date\"]],on=\"cr_id\",how=\"left\")\n",
    "cmp[\"code\"]=cmp[\"complaint_code\"]\n",
    "complaint_types=complaint_types[~pd.isna(complaint_types[\"111\"])]\n",
    "complaint_types[\"code\"]=complaint_types[\"111\"]\n",
    "cmp= cmp.merge(complaint_types,on=\"code\",how=\"left\")"
   ]
  },
  {
   "cell_type": "markdown",
   "metadata": {},
   "source": [
    "Need to add a section on the outcome of the complaints"
   ]
  },
  {
   "cell_type": "code",
   "execution_count": 369,
   "metadata": {},
   "outputs": [],
   "source": [
    "#complaint results\n",
    "comp_cat={\"NAF\":\"No Affidavit\", \"EX\":\"Complaint Dismissed\", \"UN\":\"Complaint Dismissed\",\"NS\":\"Insufficient Evidence\",\"SU\":\"Complaint Accepted\", \"DIS\":\"Complaint Accepted\",\"NC\":\"Missing Complaint Type\",\"Missing\":\"Missing\"}\n",
    "#NC is missing\n",
    "\n",
    "#outcome\n",
    "#complaints.final_outcome.value_counts()\n",
    "\n",
    "#less important:\n",
    "dept_exclude=[\"OPERATION/PERSONNEL VIOLATION:  MISCELLANEOUS\",\"MISCELLANEOUS\", \"OPERATION/PERSONNEL VIOLATION:  REPORTS - FAIL TO SUBMIT/IMPROPER\", \"OPERATION/PERSONNEL VIOLATION:  INVENTORY PROCEDURES\",\"REPORTS - FAILED TO SUBMIT/IMPROPER\",\"INVENTORY PROCEDURES\",\"OPERATION/PERSONNEL VIOLATION: COMMUNICATION OPERATION PROCEDURES\",\"COMMUNICATION OPERATIONS PROCEDURES\",\"OPERATION/PERSONNEL VIOLATION:  VEHICLE LICENSING - CITY\",\"MISUSE OF DEPARTMENT EQUIPMENT/SUPPLIES\",\"INSUBORDINATION\",\"OPERATION/PERSONNEL VIOLATION:  INSUBORDINATION\",\"MEDICAL ROLL\",\"OPERATION/PERSONNEL VIOLATION:  MEDICAL ROLL\",\"OPERATION/PERSONNEL VIOLATION:  WEAPON/AMMUN./UNIFORM DEVIATION\",\"FAIL TO OBTAIN A COMPLAINT REGISTER NUMBER\",\"OPERATION/PERSONNEL VIOLATION: MISUSE OF DEPT. EQUIPMENT/SUPPLIES\",\"OPERATION/PERSONNEL VIOLATION:  ABSENT WITHOUT PERMISSION\",\"WEAPON/AMMUNITION/UNIFORM DEVIATION\",\"SUPERVISOR RESPONSIBILITY:  FAIL TO OBTAIN COMPLAINT REGISTER NO.\",\"SUPERVISOR RESPONSIBILITY:  MISCELLANEOUS\",\"OPERATION/PERSONNEL VIOLATION:  LEAVING ASGMT (DIST/BEAT/SECT/CT)\",\"ABSENT WITHOUT PERMISSION\",\"OPERATION/PERSONNEL VIOLATION:  RESIDENCY\",\"LEAVING ASSIGNMENT (DISTRICT, BEAT, SECTOR, COURT)\",\"RESIDENCY\",\"OPERATION/PERSONNEL VIOLATION:  COMPENSATORY TIME\",\"VEHICLE LICENSING - CITY\",\"OPERATION/PERSONNEL VIOLATION:  LATE FOR ROLL CALL/ASSIGNMENT/CT.\",\"COMPENSATORY TIME\",\"SUPVR. RESPONSIBILITY:  PROPER ACTION REVIEW/INSPECT- SUBORDINATE\",\"OPERATION/PERSONNEL VIOLATION:  LUNCH/PERSONAL\",\"LATE - ROLL CALL/ASSIGNMENT/COURT\",\"LUNCH/PERSONAL VIOLATIONS\",\"PROPER ACTION REVIEW/INSPECT - SUBORDINATE\",\"EQUIPMENT IRREGULARITY\"]\n"
   ]
  },
  {
   "cell_type": "code",
   "execution_count": 370,
   "metadata": {},
   "outputs": [],
   "source": [
    "force=[\"EXCESSIVE FORCE\",\"STRIKE\",\"ASSAULT\",\"BATTERY\",\"PUSH\",\"PULL\",\"GRAB\",\"CHOKED\",\"KICKED\",\"DRAGGED\",\"TASER\",\"SHOTS FIRED\",\"COERCION - VIOLENCE\",\"MURDER\",\"MANSLAUGHTER\",\"TAKE DOWN\",\"INJURY\",\"DEATH\",\"FIREARM\",\"WEAPON\",\"PHYSICAL CONTACT\"]\n",
    "detain=[\"DETENTION\",\"WARRANT\",\"SEARCH\",\"ARRESTEE\",\"ARREST\",\"LOCKUP\",\"BONDING\",\"BOOKING\",\"PROCESSING\",\"PRISONER'S PROPERTY\", \"PRISONERS PROPERTY\"]\n",
    "hate=[\"RACIAL\",\"SEXUAL ORIENTATION\",\"VERBAL ABUSE\", \"USE OF PROFANITY\", \"THREATS\"]\n",
    "crime=[\"COMMISSION OF CRIME\", \"DAMAGE\",\"TRESPASSING\", \"BURGLARY\", \"THEFT\", \"FELONY\",\"DRUGS\",\"CONTR. SUB\", \"ROBBERY\", \"SHOPLIFTING\",\"DOMESTIC\",\"RAPE\"]\n",
    "\n",
    "#contains\n",
    "citizen_cats={\"EXCESSIVE FORCE\":\"EXCESSIVE FORCE\",\"STRIKE\":\"EXCESSIVE FORCE\",\"ASSAULT\":\"EXCESSIVE FORCE\",\"BATTERY\":\"EXCESSIVE FORCE\",\"PUSH\":\"EXCESSIVE FORCE\",\"PULL\":\"EXCESSIVE FORCE\",\"GRAB\":\"EXCESSIVE FORCE\",\"INJURY\":\"EXCESSIVE FORCE\",\"CHOKED\":\"EXCESSIVE FORCE\",\"KICKED\":\"EXCESSIVE FORCE\",\"DRAGGED\":\"EXCESSIVE FORCE\",\"TASER\":\"EXCESSIVE FORCE\",\"SHOTS FIRED\":\"EXCESSIVE FORCE\",\"COERCION - VIOLENCE\":\"EXCESSIVE FORCE\",\"MURDER/MANSLAUGHTER, ETC.\":\"EXCESSIVE FORCE\",\"TAKE DOWN\":\"EXCESSIVE FORCE\",\n",
    "    \"INJURY/DEATH\":\"INJURY/DEATH\", \n",
    "    \"UNNECESSARY PHYSICAL CONTACT\":\"UNNECESSARY PHYSICAL CONTACT\",\n",
    "    \"FIREARM\": \"WEAPON USAGE\", \"WEAPON\":\"WEAPON USAGE\",\n",
    "    \"EXCESSIVE DETENTION\":\"EXCESSIVE DETENTION\",\n",
    "    \"WARRANT\": \"WARRANT / SEARCH VIOLATION\",\"SEARCH\":\"SEARCH WITHOUT WARRANT\",\n",
    "    \"ARRESTEE\": \"HANDLING OF ARREST / BOOKING\", \"ARREST/LOCKUP\": \"HANDLING OF ARREST / BOOKING\", \"BONDING/BOOKING/PROCESSING\": \"HANDLING OF ARREST / BOOKING\",\"PRISONER'S PROPERTY\":\"HANDLING OF ARREST / BOOKING\" , \"PRISONERS PROPERTY\":\"HANDLING OF ARREST / BOOKING\",\n",
    "    \"ILLEGAL ARREST\": \"ILLEGAL ARREST\",\n",
    "    \"IMPROPER DETENTION\":\"UNLAWFUL DETENTION\", \"UNLAWFUL / EXCESSIVE INVESTIGATIVE DETENTION (WITNESS)\": \"UNLAWFUL DETENTION\",\n",
    "    \"RACIAL\": \"RACIAL PROFILING / ABUSIVE LANGUAGE\",\n",
    "    \"SEXUAL ORIENTATION\":\"SEXUAL ORIENTATION\",\n",
    "    \"VERBAL ABUSE\":\"VERBAL ABUSE\",  \"USE OF PROFANITY\": \"VERBAL ABUSE\", \"THREATS\": \"VERBAL ABUSE\",\n",
    "    \"DOMESTIC\":\"DOMESTIC ALTERCATION\",\n",
    "    \"RAPE/SEX\":\"RAPE/SEX OFFENSES\",\n",
    "    \"TRAFFIC\": \"TRAFFIC (NOT BRIBERY/EX-FORCE)\",\n",
    "    \"NO ARREST\": \"NO ARREST\",\n",
    "    \"COMMISSION OF CRIME\":\"CRIME\", \"DAMAGE/TRESPASSING PROPERTY\":\"CRIME\", \"BURGLARY\":\"CRIME\", \"THEFT\":\"CRIME\", \"OTHER FELONY\":\"CRIME\",\"DRUGS/CONTR. SUB., POSSESSION OR SALE\":\"CRIME\", \"ROBBERY\":\"CRIME\", \"SHOPLIFTING\":\"CRIME\",\n",
    "    \"ATTORNEY/RELATIVE PRIVILEGES\":\"COMMUNICATION\",\"FIRST AMENDMENT\":\"COMMUNICATION\",\n",
    "    \"MISCONDUCT DURING ISSUANCE OF CITATION\":\"OTHER\",\"CIVIL SUIT\":\"OTHER\", \"IMPROPER PROCESSING/REPORTING/PROCEDURES\":\"OTHER\",\"ESCAPE\":\"OTHER\",\"MISCELLANEOUS\":\"OTHER\",\"PARKING COMPLAINTS\":\"OTHER\",\"VIOLATION (OTHER THAN D.U.I.) - ON DUTY\":\"OTHER\",\"POLICE IMPERSONATOR - ADV SECTION USE ON CLOSING ONLY\":\"OTHER\"}\n"
   ]
  },
  {
   "cell_type": "code",
   "execution_count": 371,
   "metadata": {},
   "outputs": [],
   "source": [
    "cmp[\"civ_complaint_force\"]=False\n",
    "cmp[\"civ_complaint_detain\"]=False\n",
    "cmp[\"civ_complaint_hate\"]=False\n",
    "cmp[\"civ_complaint_crime\"]=False\n",
    "\n",
    "cmp[\"civ_complaint_flag\"]=np.where(cmp[\"CITIZEN / DEPT\"]==\"CITIZEN\",1,0)\n",
    "cmp[\"civ_complaint_desc\"]=np.where(cmp[\"civ_complaint_flag\"],cmp.complaint_category,\"\")\n",
    "cmp[\"civ_complaint_desc\"]=np.where(cmp[\"civ_complaint_desc\"].isna(),\"Missing\",cmp[\"civ_complaint_desc\"])\n",
    "\n",
    "for word in force:\n",
    "    cmp[\"civ_complaint_force\"]=np.where(cmp[\"civ_complaint_desc\"].str.contains(word,case=False),True,cmp[\"civ_complaint_force\"])\n",
    "for word in detain:\n",
    "    cmp[\"civ_complaint_detain\"]=np.where(cmp[\"civ_complaint_desc\"].str.contains(word,case=False),True,cmp[\"civ_complaint_detain\"])\n",
    "for word in hate:\n",
    "    cmp[\"civ_complaint_hate\"]=np.where(cmp[\"civ_complaint_desc\"].str.contains(word,case=False),True,cmp[\"civ_complaint_hate\"])\n",
    "for word in crime:\n",
    "    cmp[\"civ_complaint_crime\"]=np.where(cmp[\"civ_complaint_desc\"].str.contains(word,case=False),True,cmp[\"civ_complaint_crime\"])\n",
    "\n",
    "duplicate_words_detain=[\"EXCESSIVE FORCE:  ARRESTEE\",\"EXCESSIVE FORCE:  NO ARREST\"]\n",
    "duplicate_words_force=[\"COMMISSION OF CRIME:  ASSAULT/BATTERY\",\"COMMISSION OF CRIME:  MURDER/MANSLAUGHTER ETC\",\"ARREST/LOCKUP PROCEDURE:  PROPER CARE/INJURY/DEATH\"]\n",
    "duplicate_words_crime=[\"EXCESSIVE FORCE:  DOMESTIC\"]\n",
    "\n",
    "#identify duplicate words here \n",
    "#cmp[[\"civ_complaint_flag\",\"civ_complaint_force\",\"civ_complaint_detain\",\"civ_complaint_hate\",\"civ_complaint_crime\"]].value_counts()\n",
    "#cmp.loc[(cmp[\"civ_complaint_force\"]==True) & (cmp[\"civ_complaint_detain\"]==True)][\"civ_complaint_desc\"].value_counts()\n",
    "\n",
    "for word in duplicate_words_force:\n",
    "    cmp[\"civ_complaint_force\"]=np.where(cmp[\"civ_complaint_desc\"].str.contains(word,case=False),False,cmp[\"civ_complaint_force\"])\n",
    "for word in duplicate_words_detain:\n",
    "    cmp[\"civ_complaint_detain\"]=np.where(cmp[\"civ_complaint_desc\"].str.contains(word,case=False),False,cmp[\"civ_complaint_detain\"])\n",
    "for word in duplicate_words_crime:\n",
    "    cmp[\"civ_complaint_crime\"]=np.where(cmp[\"civ_complaint_desc\"].str.contains(word,case=False),False,cmp[\"civ_complaint_crime\"])\n"
   ]
  },
  {
   "cell_type": "code",
   "execution_count": 372,
   "metadata": {},
   "outputs": [],
   "source": [
    "cmp[\"comp_cat\"]=np.where(cmp.final_finding.isna(),\"Missing\",cmp.final_finding)\n",
    "cmp[\"comp_cat\"]=cmp[\"comp_cat\"].replace(comp_cat)\n",
    "\n",
    "cmp[\"dept_complaint_flag\"]=np.where(cmp[\"CITIZEN / DEPT\"]==\"DEPT\",True,False)\n",
    "cmp[\"dept_complaint_cleaned_flag\"]=np.where(cmp[\"CITIZEN / DEPT\"]==\"DEPT\",np.where(cmp.complaint_category.isin(dept_exclude),False,True),False)\n",
    "cmp[\"dept_complaint_desc\"]=np.where(cmp[\"dept_complaint_cleaned_flag\"],cmp.complaint_category,\"\")\n",
    "\n",
    "cmp[\"civ_complaint_cat\"]=np.where(cmp.civ_complaint_force,\"FORCE\",\n",
    "    np.where(cmp.civ_complaint_detain,\"DETAIN\",\n",
    "    np.where(cmp.civ_complaint_hate,\"HATE\",\n",
    "    np.where(cmp.civ_complaint_crime,\"CRIME\",\n",
    "    np.where(cmp.civ_complaint_flag,\"OTHER\",\"\")))))\n",
    "    \n",
    "#checking flag made correctly\n",
    "#cmp[cmp.dept_complaint_flag==1][[\"complaint_category\",\"dept_complaint_cleaned_flag\"]].value_counts()"
   ]
  },
  {
   "cell_type": "code",
   "execution_count": 373,
   "metadata": {},
   "outputs": [],
   "source": [
    "cmp_counts=cmp.groupby(\"UID\",as_index=False).agg({\"dept_complaint_flag\":\"sum\",\"dept_complaint_cleaned_flag\":\"sum\",\"civ_complaint_flag\":\"sum\",\"civ_complaint_force\":\"sum\",\"civ_complaint_detain\":\"sum\",\"civ_complaint_hate\":\"sum\",\"civ_complaint_crime\":\"sum\"})\n",
    "df=df.merge(cmp_counts,on=\"UID\",how=\"left\")\n",
    "\n",
    "flags=[\"dept_complaint_cleaned_flag\",\"civ_complaint_flag\",\"civ_complaint_force\",\"civ_complaint_detain\",\"civ_complaint_hate\",\"civ_complaint_crime\"]\n",
    "col_names=[\"dept_complaint_desc\",\"civ_complaint_desc\",\"civ_complaint_force_desc\",\"civ_complaint_detain_desc\",\"civ_complaint_hate_desc\",\"civ_complaint_crime_desc\"]\n",
    "for i, flag in enumerate(flags):\n",
    "    temp=cmp[cmp[flag]==True].groupby(\"UID\")[\"complaint_category\"].apply(list).reset_index()\n",
    "    temp.columns=[\"UID\",col_names[i]]\n",
    "    df=df.merge(temp,on=\"UID\",how=\"left\")\n"
   ]
  },
  {
   "cell_type": "markdown",
   "metadata": {},
   "source": [
    "## TTR"
   ]
  },
  {
   "cell_type": "code",
   "execution_count": 374,
   "metadata": {},
   "outputs": [],
   "source": [
    "#merge trr\n",
    "trr_overall=pd.read_csv(\"TRR-main_2004-2016_2016-09.csv\")\n",
    "trr_subjects=pd.read_csv(\"TRR-subjects_2004-2016_2016-09.csv\")\n",
    "trr_officers=pd.read_csv(\"TRR-officers_2004-2016_2016-09.csv\")\n",
    "trr_actions=pd.read_csv(\"TRR-actions-responses_2004-2016_2016-09.csv\")\n",
    "\n",
    "trr=trr_overall.merge(trr_officers,on=\"trr_id\",suffixes=(\"\",\"_officer\")) #,how=\"left\"\n",
    "trr=trr.merge(trr_subjects,on=\"trr_id\",suffixes=(\"\",\"_subject\")) #,how=\"left\"\n",
    "trr=trr.merge(trr_actions[trr_actions.person==\"Member Action\"],on=\"trr_id\",suffixes=(\"\",\"_subject\")) #,how=\"left\"\n",
    "\n",
    "\n",
    "trr[\"trr_year\"]=trr[\"trr_date\"].apply(lambda x: int(str(x)[0:4]))\n",
    "trr_14=trr[trr[\"trr_year\"]==2014]\n"
   ]
  },
  {
   "cell_type": "code",
   "execution_count": 375,
   "metadata": {},
   "outputs": [],
   "source": [
    "action_cat={\"Missing\":\"Missing\",\"Verbal Commands\":\"Other\",\"Member Presence\":\"Other\",\"Physical Force - Stunning\":\"Use of Force\",\"Physical Force - Holding\":\"Use of Force\",\"Physical Force - Direct Mechanical\":\"Use of Force\",\"Other Force\":\"Use of Force\",\"Taser\":\"Use of Weapon\",\"Chemical\":\"Use of Weapon\",\"Impact Weapon\":\"Use of Weapon\",\"Firearm\":\"Use of Weapon\",\"Taser Display\":\"Other\",\"Chemical (Authorized)\":\"Use of Weapon\",\"Other\":\"Other\"} "
   ]
  },
  {
   "cell_type": "code",
   "execution_count": 376,
   "metadata": {},
   "outputs": [
    {
     "name": "stderr",
     "output_type": "stream",
     "text": [
      "C:\\Users\\Olivia_Pinney\\AppData\\Local\\Temp\\ipykernel_17176\\3391038428.py:1: SettingWithCopyWarning: \n",
      "A value is trying to be set on a copy of a slice from a DataFrame.\n",
      "Try using .loc[row_indexer,col_indexer] = value instead\n",
      "\n",
      "See the caveats in the documentation: https://pandas.pydata.org/pandas-docs/stable/user_guide/indexing.html#returning-a-view-versus-a-copy\n",
      "  trr_14[\"force_cat\"]=np.where(trr_14.force_type.isna(),\"Missing\",trr_14.force_type.replace(action_cat))\n",
      "C:\\Users\\Olivia_Pinney\\AppData\\Local\\Temp\\ipykernel_17176\\3391038428.py:2: SettingWithCopyWarning: \n",
      "A value is trying to be set on a copy of a slice from a DataFrame.\n",
      "Try using .loc[row_indexer,col_indexer] = value instead\n",
      "\n",
      "See the caveats in the documentation: https://pandas.pydata.org/pandas-docs/stable/user_guide/indexing.html#returning-a-view-versus-a-copy\n",
      "  trr_14[\"flag\"]=True\n",
      "C:\\Users\\Olivia_Pinney\\AppData\\Local\\Temp\\ipykernel_17176\\3391038428.py:3: SettingWithCopyWarning: \n",
      "A value is trying to be set on a copy of a slice from a DataFrame.\n",
      "Try using .loc[row_indexer,col_indexer] = value instead\n",
      "\n",
      "See the caveats in the documentation: https://pandas.pydata.org/pandas-docs/stable/user_guide/indexing.html#returning-a-view-versus-a-copy\n",
      "  trr_14[\"weapon_flag\"]=np.where(trr_14[\"force_cat\"]==\"Use of Weapon\",True,False)\n",
      "C:\\Users\\Olivia_Pinney\\AppData\\Local\\Temp\\ipykernel_17176\\3391038428.py:4: SettingWithCopyWarning: \n",
      "A value is trying to be set on a copy of a slice from a DataFrame.\n",
      "Try using .loc[row_indexer,col_indexer] = value instead\n",
      "\n",
      "See the caveats in the documentation: https://pandas.pydata.org/pandas-docs/stable/user_guide/indexing.html#returning-a-view-versus-a-copy\n",
      "  trr_14[\"force_flag\"]=np.where(trr_14[\"force_cat\"]==\"Use of Force\",True,trr_14[\"weapon_flag\"])\n"
     ]
    }
   ],
   "source": [
    "trr_14[\"force_cat\"]=np.where(trr_14.force_type.isna(),\"Missing\",trr_14.force_type.replace(action_cat))\n",
    "trr_14[\"flag\"]=True\n",
    "trr_14[\"weapon_flag\"]=np.where(trr_14[\"force_cat\"]==\"Use of Weapon\",True,False)\n",
    "trr_14[\"force_flag\"]=np.where(trr_14[\"force_cat\"]==\"Use of Force\",True,trr_14[\"weapon_flag\"])\n",
    "\n"
   ]
  },
  {
   "cell_type": "code",
   "execution_count": 377,
   "metadata": {},
   "outputs": [],
   "source": [
    "trr_14_counts=trr_14.groupby(\"UID\",as_index=False).agg({\"force_flag\":\"sum\",\"weapon_flag\":\"sum\"})\n",
    "    \n",
    "df=df.merge(trr_14_counts,on=\"UID\",how=\"left\")\n",
    "\n",
    "flags=[\"force_flag\",\"weapon_flag\"]\n",
    "col_names=[\"action_force_desc\",\"action_weapon_desc\"]\n",
    "for i, flag in enumerate(flags):\n",
    "    temp=trr_14[trr_14[flag]==True].groupby(\"UID\")[\"action\"].apply(list).reset_index()\n",
    "    temp.columns=[\"UID\",col_names[i]]\n",
    "    df=df.merge(temp,on=\"UID\",how=\"left\")\n"
   ]
  },
  {
   "cell_type": "code",
   "execution_count": 378,
   "metadata": {},
   "outputs": [
    {
     "data": {
      "text/html": [
       "<div>\n",
       "<style scoped>\n",
       "    .dataframe tbody tr th:only-of-type {\n",
       "        vertical-align: middle;\n",
       "    }\n",
       "\n",
       "    .dataframe tbody tr th {\n",
       "        vertical-align: top;\n",
       "    }\n",
       "\n",
       "    .dataframe thead th {\n",
       "        text-align: right;\n",
       "    }\n",
       "</style>\n",
       "<table border=\"1\" class=\"dataframe\">\n",
       "  <thead>\n",
       "    <tr style=\"text-align: right;\">\n",
       "      <th></th>\n",
       "      <th>UID</th>\n",
       "      <th>action_weapon_desc</th>\n",
       "    </tr>\n",
       "  </thead>\n",
       "  <tbody>\n",
       "    <tr>\n",
       "      <th>0</th>\n",
       "      <td>100010.0</td>\n",
       "      <td>[TASER (PROBE DISCHARGE)]</td>\n",
       "    </tr>\n",
       "    <tr>\n",
       "      <th>1</th>\n",
       "      <td>100036.0</td>\n",
       "      <td>[TASER (PROBE DISCHARGE)]</td>\n",
       "    </tr>\n",
       "    <tr>\n",
       "      <th>2</th>\n",
       "      <td>100068.0</td>\n",
       "      <td>[TASER (PROBE DISCHARGE), TASER (PROBE DISCHAR...</td>\n",
       "    </tr>\n",
       "    <tr>\n",
       "      <th>3</th>\n",
       "      <td>100077.0</td>\n",
       "      <td>[TASER (PROBE DISCHARGE)]</td>\n",
       "    </tr>\n",
       "    <tr>\n",
       "      <th>4</th>\n",
       "      <td>100200.0</td>\n",
       "      <td>[TASER (PROBE DISCHARGE)]</td>\n",
       "    </tr>\n",
       "    <tr>\n",
       "      <th>...</th>\n",
       "      <td>...</td>\n",
       "      <td>...</td>\n",
       "    </tr>\n",
       "    <tr>\n",
       "      <th>521</th>\n",
       "      <td>132258.0</td>\n",
       "      <td>[O.C./CHEMICAL WEAPON]</td>\n",
       "    </tr>\n",
       "    <tr>\n",
       "      <th>522</th>\n",
       "      <td>132269.0</td>\n",
       "      <td>[IMPACT WEAPON (DESCRIBE IN ADDITIONAL INFO)]</td>\n",
       "    </tr>\n",
       "    <tr>\n",
       "      <th>523</th>\n",
       "      <td>132277.0</td>\n",
       "      <td>[TASER (PROBE DISCHARGE)]</td>\n",
       "    </tr>\n",
       "    <tr>\n",
       "      <th>524</th>\n",
       "      <td>132328.0</td>\n",
       "      <td>[FIREARM]</td>\n",
       "    </tr>\n",
       "    <tr>\n",
       "      <th>525</th>\n",
       "      <td>132339.0</td>\n",
       "      <td>[FIREARM]</td>\n",
       "    </tr>\n",
       "  </tbody>\n",
       "</table>\n",
       "<p>526 rows × 2 columns</p>\n",
       "</div>"
      ],
      "text/plain": [
       "          UID                                 action_weapon_desc\n",
       "0    100010.0                          [TASER (PROBE DISCHARGE)]\n",
       "1    100036.0                          [TASER (PROBE DISCHARGE)]\n",
       "2    100068.0  [TASER (PROBE DISCHARGE), TASER (PROBE DISCHAR...\n",
       "3    100077.0                          [TASER (PROBE DISCHARGE)]\n",
       "4    100200.0                          [TASER (PROBE DISCHARGE)]\n",
       "..        ...                                                ...\n",
       "521  132258.0                             [O.C./CHEMICAL WEAPON]\n",
       "522  132269.0      [IMPACT WEAPON (DESCRIBE IN ADDITIONAL INFO)]\n",
       "523  132277.0                          [TASER (PROBE DISCHARGE)]\n",
       "524  132328.0                                          [FIREARM]\n",
       "525  132339.0                                          [FIREARM]\n",
       "\n",
       "[526 rows x 2 columns]"
      ]
     },
     "execution_count": 378,
     "metadata": {},
     "output_type": "execute_result"
    }
   ],
   "source": [
    "temp"
   ]
  },
  {
   "cell_type": "markdown",
   "metadata": {},
   "source": [
    "# Export"
   ]
  },
  {
   "cell_type": "code",
   "execution_count": 379,
   "metadata": {},
   "outputs": [],
   "source": [
    "col_names=[\"force_flag\",\"weapon_flag\",\"dept_complaint_flag\",\"dept_complaint_cleaned_flag\",\"civ_complaint_flag\",\"civ_complaint_force\",\"civ_complaint_detain\",\"civ_complaint_hate\",\"civ_complaint_crime\"]\n",
    "\n",
    "for col in col_names:\n",
    "    df[col+\"_persons_with\"]=np.where(df[col]>0,1,0)"
   ]
  },
  {
   "cell_type": "code",
   "execution_count": 380,
   "metadata": {},
   "outputs": [],
   "source": [
    "unit_all=df.groupby(\"unit_description\").agg({\"UID\":\"count\",\"force_flag\":\"sum\",\"weapon_flag\":\"sum\",\"dept_complaint_flag\":\"sum\",\"dept_complaint_cleaned_flag\":\"sum\",\"civ_complaint_flag\":\"sum\",\"civ_complaint_force\":\"sum\",\"civ_complaint_detain\":\"sum\",\"civ_complaint_hate\":\"sum\",\"civ_complaint_crime\":\"sum\",\"force_flag_persons_with\":\"sum\",\"weapon_flag_persons_with\":\"sum\",\"dept_complaint_flag_persons_with\":\"sum\",\"dept_complaint_cleaned_flag_persons_with\":\"sum\",\"civ_complaint_flag_persons_with\":\"sum\",\"civ_complaint_force_persons_with\":\"sum\",\"civ_complaint_detain_persons_with\":\"sum\",\"civ_complaint_hate_persons_with\":\"sum\",\"civ_complaint_crime_persons_with\":\"sum\"})\n",
    "unit_cats=df.groupby(\"unit_cat\").agg({\"UID\":\"count\",\"force_flag\":\"sum\",\"weapon_flag\":\"sum\",\"dept_complaint_flag\":\"sum\",\"dept_complaint_cleaned_flag\":\"sum\",\"civ_complaint_flag\":\"sum\",\"civ_complaint_force\":\"sum\",\"civ_complaint_detain\":\"sum\",\"civ_complaint_hate\":\"sum\",\"civ_complaint_crime\":\"sum\",\"force_flag_persons_with\":\"sum\",\"weapon_flag_persons_with\":\"sum\",\"dept_complaint_flag_persons_with\":\"sum\",\"dept_complaint_cleaned_flag_persons_with\":\"sum\",\"civ_complaint_flag_persons_with\":\"sum\",\"civ_complaint_force_persons_with\":\"sum\",\"civ_complaint_detain_persons_with\":\"sum\",\"civ_complaint_hate_persons_with\":\"sum\",\"civ_complaint_crime_persons_with\":\"sum\"})\n",
    "\n",
    "unit_all.to_json(\"departments.json\",orient=\"records\")\n",
    "unit_all.to_json(\"departments_cats.json\",orient=\"records\")"
   ]
  },
  {
   "cell_type": "code",
   "execution_count": 381,
   "metadata": {},
   "outputs": [],
   "source": [
    "cols_to_keep=['gender', 'race', 'birth_year', 'current_age','appointed_date', 'current_rank', 'unit_description', 'first_name', 'last_name', 'middle_initial', 'suffix_name','UID','dept_complaint_cleaned_flag', 'civ_complaint_flag','civ_complaint_force', 'civ_complaint_detain', 'civ_complaint_hate','civ_complaint_crime', 'dept_complaint_desc', 'civ_complaint_desc','civ_complaint_force_desc', 'civ_complaint_detain_desc','civ_complaint_hate_desc', 'civ_complaint_crime_desc', 'force_flag','weapon_flag', 'action_force_desc', 'action_weapon_desc']\n",
    "df[cols_to_keep].to_json(\"officers_2014.json\",orient=\"records\")\n"
   ]
  },
  {
   "cell_type": "code",
   "execution_count": 382,
   "metadata": {},
   "outputs": [],
   "source": [
    "#df.force_flag.value_counts()"
   ]
  }
 ],
 "metadata": {
  "kernelspec": {
   "display_name": "Python 3.10.7 64-bit",
   "language": "python",
   "name": "python3"
  },
  "language_info": {
   "codemirror_mode": {
    "name": "ipython",
    "version": 3
   },
   "file_extension": ".py",
   "mimetype": "text/x-python",
   "name": "python",
   "nbconvert_exporter": "python",
   "pygments_lexer": "ipython3",
   "version": "3.10.7"
  },
  "orig_nbformat": 4,
  "vscode": {
   "interpreter": {
    "hash": "adb2bf8b6556bf81de5750366772a94ffe20ef8871ec544847e0a0e2a34f4fd1"
   }
  }
 },
 "nbformat": 4,
 "nbformat_minor": 2
}
