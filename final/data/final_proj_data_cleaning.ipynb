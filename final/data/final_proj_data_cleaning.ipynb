{
 "cells": [
  {
   "cell_type": "code",
   "execution_count": 65,
   "metadata": {},
   "outputs": [],
   "source": [
    "import os \n",
    "import pandas as pd\n",
    "import numpy as np\n",
    "import matplotlib.pyplot as plt\n",
    "import matplotlib.dates as mdates\n",
    "from datetime import date\n"
   ]
  },
  {
   "cell_type": "markdown",
   "metadata": {},
   "source": [
    "## Loading in Data from Invisible Institute\n",
    "\n",
    "All data is pulled from the invisible institute github (https://github.com/invinst/chicago-police-data), and saved locally with the original file names. \n"
   ]
  },
  {
   "cell_type": "markdown",
   "metadata": {},
   "source": [
    "# Cleaning Department Roster\n",
    "\n",
    "Limit officers to those on the CPD Roster in 2016. For officers that appear in multiple positions within 2016, limit to the last known position. Finally, categorize departments by overarching department clusters"
   ]
  },
  {
   "cell_type": "code",
   "execution_count": 66,
   "metadata": {},
   "outputs": [],
   "source": [
    "history_roster=pd.read_csv(\"raw_data/roster_1936-2017_2017-04.csv\")\n"
   ]
  },
  {
   "cell_type": "code",
   "execution_count": 67,
   "metadata": {},
   "outputs": [],
   "source": [
    "df=history_roster \n",
    "df[\"resignation_date\"]=df[\"resignation_date\"].fillna(\"2999-01-01\")\n",
    "df[\"resignation_year\"]=df[\"resignation_date\"].apply(lambda x: int(str(x)[0:4]))\n",
    "\n",
    "df[\"appointed_date\"]=df[\"appointed_date\"].fillna(\"1000-01-01\")\n",
    "df[\"appointed_year\"]=df[\"appointed_date\"].apply(lambda x: int(str(x)[0:4]))\n",
    "\n",
    "df=df[df[\"appointed_year\"]<2017] #officer in 2016\n",
    "df=df[df[\"resignation_year\"]>2015] #officer in 2016\n",
    "\n",
    "#check that no one is duplicated\n",
    "temp=df.UID.value_counts().reset_index()\n",
    "problem_uids=temp[temp.UID>1][\"index\"]\n",
    "df=df[~(df[\"UID\"].isin(problem_uids) & ~df[\"current_status\"]>0)]\n"
   ]
  },
  {
   "cell_type": "code",
   "execution_count": 68,
   "metadata": {},
   "outputs": [
    {
     "data": {
      "text/plain": [
       "2016"
      ]
     },
     "execution_count": 68,
     "metadata": {},
     "output_type": "execute_result"
    }
   ],
   "source": [
    "max(df.appointed_year)"
   ]
  },
  {
   "cell_type": "code",
   "execution_count": 69,
   "metadata": {},
   "outputs": [],
   "source": [
    "df[\"unit_cat\"]=np.where(df[\"unit_description\"].isna(),\"OTHER\",\n",
    "    np.where(df[\"unit_description\"].str.contains(\"DISTRICT 0\"),\"DISTRICT\",\n",
    "    np.where(df[\"unit_description\"].str.contains(\"TRAINING\"),\"TRAINING\",\n",
    "    np.where(df[\"unit_description\"].str.contains(\"DETECTIVE\"),\"DETECTIVE\",\n",
    "    np.where(df[\"unit_description\"].str.contains(\"SPECIAL INVESTIGATIONS UNIT\"),\"DETECTIVE\",\n",
    "    np.where(df[\"unit_description\"].str.contains(\"TRAFFIC\"),\"TRANSPORT\",\n",
    "    np.where(df[\"unit_description\"].str.contains(\"TRANSPORT\"),\"TRANSPORT\",\n",
    "    np.where(df[\"unit_description\"].str.contains(\"TRANSIT\"),\"TRANSPORT\",    \n",
    "    np.where(df[\"unit_description\"].str.contains(\"AIRPORT\"),\"TRANSPORT\",\n",
    "    np.where(df[\"unit_description\"].str.contains(\"GANG\"),\"GANG ENFORCEMENT\",\n",
    "    \"OTHER\"\n",
    "    ))))))))))\n",
    "\n",
    "\n"
   ]
  },
  {
   "cell_type": "markdown",
   "metadata": {},
   "source": [
    "# Section of Complaints\n",
    "\n",
    "Merge all complaint data on unique id (\"cr_id\"). Remove non-severe departmental complaints, and bucket civilian complaint types. (Note: these decissions were made mannually by reading through all of the complaint descriptions). Group the complaints by complaint type to ensure that all complaints are categorized, and none are included in multiple categories. (Note: double checking code is included but commented out). Group complaints by officer (\"UID\") to create complaint counts per person.  \n"
   ]
  },
  {
   "cell_type": "code",
   "execution_count": 70,
   "metadata": {},
   "outputs": [
    {
     "name": "stderr",
     "output_type": "stream",
     "text": [
      "C:\\Users\\Olivia_Pinney\\AppData\\Local\\Temp\\ipykernel_29252\\3966214400.py:1: DtypeWarning: Columns (3,7,8) have mixed types. Specify dtype option on import or set low_memory=False.\n",
      "  complaints=pd.read_csv(\"raw_data/complaints-accused.csv\")\n",
      "C:\\Users\\Olivia_Pinney\\AppData\\Local\\Temp\\ipykernel_29252\\3966214400.py:2: DtypeWarning: Columns (0,5,6,7,8,9,10) have mixed types. Specify dtype option on import or set low_memory=False.\n",
      "  complaints_detailed=pd.read_csv(\"raw_data/complaints-complaints.csv\")\n"
     ]
    }
   ],
   "source": [
    "complaints=pd.read_csv(\"raw_data/complaints-accused.csv\")\n",
    "complaints_detailed=pd.read_csv(\"raw_data/complaints-complaints.csv\")\n",
    "complaint_types=pd.read_csv(\"raw_data/Complaint Categories.csv\")\n",
    "\n",
    "cmp= complaints.merge(complaints_detailed[[\"cr_id\", \"complaint_date\"]],on=\"cr_id\",how=\"left\")\n",
    "cmp[\"code\"]=cmp[\"complaint_code\"]\n",
    "complaint_types=complaint_types[~pd.isna(complaint_types[\"111\"])]\n",
    "complaint_types[\"code\"]=complaint_types[\"111\"]\n",
    "cmp=cmp.merge(complaint_types,on=\"code\",how=\"left\")"
   ]
  },
  {
   "cell_type": "code",
   "execution_count": 71,
   "metadata": {},
   "outputs": [],
   "source": [
    "dept_exclude=[\"OPERATION/PERSONNEL VIOLATION:  MISCELLANEOUS\",\"MISCELLANEOUS\", \"OPERATION/PERSONNEL VIOLATION:  REPORTS - FAIL TO SUBMIT/IMPROPER\", \"OPERATION/PERSONNEL VIOLATION:  INVENTORY PROCEDURES\",\"REPORTS - FAILED TO SUBMIT/IMPROPER\",\"INVENTORY PROCEDURES\",\"OPERATION/PERSONNEL VIOLATION: COMMUNICATION OPERATION PROCEDURES\",\"COMMUNICATION OPERATIONS PROCEDURES\",\"OPERATION/PERSONNEL VIOLATION:  VEHICLE LICENSING - CITY\",\"MISUSE OF DEPARTMENT EQUIPMENT/SUPPLIES\",\"INSUBORDINATION\",\"OPERATION/PERSONNEL VIOLATION:  INSUBORDINATION\",\"MEDICAL ROLL\",\"OPERATION/PERSONNEL VIOLATION:  MEDICAL ROLL\",\"OPERATION/PERSONNEL VIOLATION:  WEAPON/AMMUN./UNIFORM DEVIATION\",\"FAIL TO OBTAIN A COMPLAINT REGISTER NUMBER\",\"OPERATION/PERSONNEL VIOLATION: MISUSE OF DEPT. EQUIPMENT/SUPPLIES\",\"OPERATION/PERSONNEL VIOLATION:  ABSENT WITHOUT PERMISSION\",\"WEAPON/AMMUNITION/UNIFORM DEVIATION\",\"SUPERVISOR RESPONSIBILITY:  FAIL TO OBTAIN COMPLAINT REGISTER NO.\",\"SUPERVISOR RESPONSIBILITY:  MISCELLANEOUS\",\"OPERATION/PERSONNEL VIOLATION:  LEAVING ASGMT (DIST/BEAT/SECT/CT)\",\"ABSENT WITHOUT PERMISSION\",\"OPERATION/PERSONNEL VIOLATION:  RESIDENCY\",\"LEAVING ASSIGNMENT (DISTRICT, BEAT, SECTOR, COURT)\",\"RESIDENCY\",\"OPERATION/PERSONNEL VIOLATION:  COMPENSATORY TIME\",\"VEHICLE LICENSING - CITY\",\"OPERATION/PERSONNEL VIOLATION:  LATE FOR ROLL CALL/ASSIGNMENT/CT.\",\"COMPENSATORY TIME\",\"SUPVR. RESPONSIBILITY:  PROPER ACTION REVIEW/INSPECT- SUBORDINATE\",\"OPERATION/PERSONNEL VIOLATION:  LUNCH/PERSONAL\",\"LATE - ROLL CALL/ASSIGNMENT/COURT\",\"LUNCH/PERSONAL VIOLATIONS\",\"PROPER ACTION REVIEW/INSPECT - SUBORDINATE\",\"EQUIPMENT IRREGULARITY\"]\n",
    "\n",
    "force=[\"EXCESSIVE FORCE\",\"STRIKE\",\"ASSAULT\",\"BATTERY\",\"PUSH\",\"PULL\",\"GRAB\",\"CHOKED\",\"KICKED\",\"DRAGGED\",\"TASER\",\"SHOTS FIRED\",\"COERCION - VIOLENCE\",\"MURDER\",\"MANSLAUGHTER\",\"TAKE DOWN\",\"INJURY\",\"DEATH\",\"FIREARM\",\"WEAPON\",\"PHYSICAL CONTACT\"]\n",
    "detain=[\"DETENTION\",\"WARRANT\",\"SEARCH\",\"ARRESTEE\",\"ARREST\",\"LOCKUP\",\"BONDING\",\"BOOKING\",\"PROCESSING\",\"PRISONER'S PROPERTY\", \"PRISONERS PROPERTY\"]\n",
    "hate=[\"RACIAL\",\"SEXUAL ORIENTATION\",\"VERBAL ABUSE\", \"USE OF PROFANITY\", \"THREATS\"]\n",
    "crime=[\"COMMISSION OF CRIME\", \"DAMAGE\",\"TRESPASSING\", \"BURGLARY\", \"THEFT\", \"FELONY\",\"DRUGS\",\"CONTR. SUB\", \"ROBBERY\", \"SHOPLIFTING\",\"DOMESTIC\",\"RAPE\"]\n"
   ]
  },
  {
   "cell_type": "code",
   "execution_count": 72,
   "metadata": {},
   "outputs": [],
   "source": [
    "cmp[\"civ_complaint_force\"]=False\n",
    "cmp[\"civ_complaint_detain\"]=False\n",
    "cmp[\"civ_complaint_hate\"]=False\n",
    "cmp[\"civ_complaint_crime\"]=False\n",
    "\n",
    "cmp[\"civ_complaint_count\"]=np.where(cmp[\"CITIZEN / DEPT\"]==\"CITIZEN\",1,0)\n",
    "cmp[\"civ_complaint_count_desc\"]=np.where(cmp[\"civ_complaint_count\"],cmp.complaint_category,\"\")\n",
    "cmp[\"civ_complaint_count_desc\"]=np.where(cmp[\"civ_complaint_count_desc\"].isna(),\"Missing\",cmp[\"civ_complaint_count_desc\"])\n",
    "\n",
    "for word in force:\n",
    "    cmp[\"civ_complaint_force\"]=np.where(cmp[\"civ_complaint_count_desc\"].str.contains(word,case=False),True,cmp[\"civ_complaint_force\"])\n",
    "for word in detain:\n",
    "    cmp[\"civ_complaint_detain\"]=np.where(cmp[\"civ_complaint_count_desc\"].str.contains(word,case=False),True,cmp[\"civ_complaint_detain\"])\n",
    "for word in hate:\n",
    "    cmp[\"civ_complaint_hate\"]=np.where(cmp[\"civ_complaint_count_desc\"].str.contains(word,case=False),True,cmp[\"civ_complaint_hate\"])\n",
    "for word in crime:\n",
    "    cmp[\"civ_complaint_crime\"]=np.where(cmp[\"civ_complaint_count_desc\"].str.contains(word,case=False),True,cmp[\"civ_complaint_crime\"])\n",
    "\n",
    "duplicate_words_detain=[\"EXCESSIVE FORCE:  ARRESTEE\",\"EXCESSIVE FORCE:  NO ARREST\"]\n",
    "duplicate_words_force=[\"COMMISSION OF CRIME:  ASSAULT/BATTERY\",\"COMMISSION OF CRIME:  MURDER/MANSLAUGHTER ETC\",\"ARREST/LOCKUP PROCEDURE:  PROPER CARE/INJURY/DEATH\"]\n",
    "duplicate_words_crime=[\"EXCESSIVE FORCE:  DOMESTIC\"]\n",
    "\n",
    "#this is code to identify duplicate words \n",
    "#cmp[[\"civ_complaint_count\",\"civ_complaint_force\",\"civ_complaint_detain\",\"civ_complaint_hate\",\"civ_complaint_crime\"]].value_counts()\n",
    "#cmp.loc[(cmp[\"civ_complaint_force\"]==True) & (cmp[\"civ_complaint_detain\"]==True)][\"civ_complaint_count_desc\"].value_counts()\n",
    "\n",
    "for word in duplicate_words_force:\n",
    "    cmp[\"civ_complaint_force\"]=np.where(cmp[\"civ_complaint_count_desc\"].str.contains(word,case=False),False,cmp[\"civ_complaint_force\"])\n",
    "for word in duplicate_words_detain:\n",
    "    cmp[\"civ_complaint_detain\"]=np.where(cmp[\"civ_complaint_count_desc\"].str.contains(word,case=False),False,cmp[\"civ_complaint_detain\"])\n",
    "for word in duplicate_words_crime:\n",
    "    cmp[\"civ_complaint_crime\"]=np.where(cmp[\"civ_complaint_count_desc\"].str.contains(word,case=False),False,cmp[\"civ_complaint_crime\"])\n",
    "\n",
    "cmp[\"dept_complaint_count\"]=np.where(cmp[\"CITIZEN / DEPT\"]==\"DEPT\",True,False)\n",
    "cmp[\"dept_complaint_cleaned_count\"]=np.where(cmp[\"CITIZEN / DEPT\"]==\"DEPT\",np.where(cmp.complaint_category.isin(dept_exclude),False,True),False)\n",
    "cmp[\"dept_complaint_cleaned_count_desc\"]=np.where(cmp[\"dept_complaint_cleaned_count\"],cmp.complaint_category,\"\")\n",
    "\n",
    "cmp[\"civ_complaint_cat\"]=np.where(cmp.civ_complaint_force,\"FORCE\",\n",
    "    np.where(cmp.civ_complaint_detain,\"DETAIN\",\n",
    "    np.where(cmp.civ_complaint_hate,\"HATE\",\n",
    "    np.where(cmp.civ_complaint_crime,\"CRIME\",\n",
    "    np.where(cmp.civ_complaint_count,\"OTHER\",\"\")))))\n",
    "    \n",
    "#checking count made correctly\n",
    "#cmp[cmp.dept_complaint_count==1][[\"complaint_category\",\"dept_complaint_cleaned_count\"]].value_counts()"
   ]
  },
  {
   "cell_type": "code",
   "execution_count": 73,
   "metadata": {},
   "outputs": [],
   "source": [
    "cmp_counts=cmp.groupby(\"UID\",as_index=False).agg({\"dept_complaint_count\":\"sum\",\"dept_complaint_cleaned_count\":\"sum\",\"civ_complaint_count\":\"sum\",\"civ_complaint_force\":\"sum\",\"civ_complaint_detain\":\"sum\",\"civ_complaint_hate\":\"sum\",\"civ_complaint_crime\":\"sum\"})\n",
    "df=df.merge(cmp_counts,on=\"UID\",how=\"left\")\n",
    "\n",
    "counts=[\"dept_complaint_cleaned_count\",\"civ_complaint_count\",\"civ_complaint_force\",\"civ_complaint_detain\",\"civ_complaint_hate\",\"civ_complaint_crime\"]\n",
    "col_names=[\"dept_complaint_cleaned_count_desc\",\"civ_complaint_count_desc\",\"civ_complaint_force_desc\",\"civ_complaint_detain_desc\",\"civ_complaint_hate_desc\",\"civ_complaint_crime_desc\"]\n",
    "for i, count in enumerate(counts):\n",
    "    temp=cmp[cmp[count]==True].groupby(\"UID\")[\"complaint_category\"].apply(list).reset_index()\n",
    "    temp.columns=[\"UID\",col_names[i]]\n",
    "    df=df.merge(temp,on=\"UID\",how=\"left\")"
   ]
  },
  {
   "cell_type": "markdown",
   "metadata": {},
   "source": [
    "## Tactical Response Reports\n",
    "\n",
    "Merge all tactical response reports on unique id (\"trr_id\"). Bucket report incidents by action type. (Note: all use of force actions were already labeled as \"Physical Force\" in \"force_type\" variable. Weapon usage was categorized mannually based on the \"force_type\" variable. Display of a weapon is not considered weapon usage. All other incidents are categorized as other, and not used in the analysis).  Group incidents by officer (\"UID\") to create incident counts per person. \n"
   ]
  },
  {
   "cell_type": "code",
   "execution_count": 74,
   "metadata": {},
   "outputs": [],
   "source": [
    "trr_overall=pd.read_csv(\"raw_data/TRR-main_2004-2016_2016-09.csv\")\n",
    "trr_subjects=pd.read_csv(\"raw_data/TRR-subjects_2004-2016_2016-09.csv\")\n",
    "trr_officers=pd.read_csv(\"raw_data/TRR-officers_2004-2016_2016-09.csv\")\n",
    "trr_actions=pd.read_csv(\"raw_data/TRR-actions-responses_2004-2016_2016-09.csv\")\n",
    "\n",
    "trr=trr_overall.merge(trr_officers,on=\"trr_id\",suffixes=(\"\",\"_officer\")) #,how=\"left\"\n",
    "trr=trr.merge(trr_subjects,on=\"trr_id\",suffixes=(\"\",\"_subject\")) #,how=\"left\"\n",
    "trr=trr.merge(trr_actions[trr_actions.person==\"Member Action\"],on=\"trr_id\",suffixes=(\"\",\"_subject\"))\n",
    "\n",
    "trr[\"trr_year\"]=trr[\"trr_date\"].apply(lambda x: int(str(x)[0:4]))\n"
   ]
  },
  {
   "cell_type": "code",
   "execution_count": 75,
   "metadata": {},
   "outputs": [],
   "source": [
    "action_cat={\"Missing\":\"Missing\",\"Verbal Commands\":\"Other\",\"Member Presence\":\"Other\",\"Physical Force - Stunning\":\"Use of Force\",\"Physical Force - Holding\":\"Use of Force\",\"Physical Force - Direct Mechanical\":\"Use of Force\",\"Other Force\":\"Use of Force\",\"Taser\":\"Use of Weapon\",\"Chemical\":\"Use of Weapon\",\"Impact Weapon\":\"Use of Weapon\",\"Firearm\":\"Use of Weapon\",\"Taser Display\":\"Other\",\"Chemical (Authorized)\":\"Use of Weapon\",\"Other\":\"Other\"} "
   ]
  },
  {
   "cell_type": "code",
   "execution_count": 76,
   "metadata": {},
   "outputs": [],
   "source": [
    "trr[\"force_cat\"]=np.where(trr.force_type.isna(),\"Missing\",trr.force_type.replace(action_cat))\n",
    "trr[\"count\"]=True\n",
    "trr[\"weapon_count\"]=np.where(trr[\"force_cat\"]==\"Use of Weapon\",True,False)\n",
    "trr[\"force_count\"]=np.where(trr[\"force_cat\"]==\"Use of Force\",True,trr[\"weapon_count\"])\n",
    "trr[\"trr_count\"]=np.where(trr[\"force_cat\"]==\"Other\",True,trr[\"force_count\"])"
   ]
  },
  {
   "cell_type": "code",
   "execution_count": 77,
   "metadata": {},
   "outputs": [],
   "source": [
    "trr_counts=trr.groupby(\"UID\",as_index=False).agg({\"force_count\":\"sum\",\"weapon_count\":\"sum\",\"trr_count\":\"sum\"})\n",
    "    \n",
    "df=df.merge(trr_counts,on=\"UID\",how=\"left\")\n",
    "\n",
    "counts=[\"force_count\",\"weapon_count\",\"trr_count\"]\n",
    "col_names=[\"force_count_desc\",\"weapon_count_desc\",\"trr_count_desc\"]\n",
    "for i, count in enumerate(counts):\n",
    "    temp=trr[trr[count]==True].groupby(\"UID\")[\"action\"].apply(list).reset_index()\n",
    "    temp.columns=[\"UID\",col_names[i]]\n",
    "    df=df.merge(temp,on=\"UID\",how=\"left\")\n"
   ]
  },
  {
   "cell_type": "markdown",
   "metadata": {},
   "source": [
    "# Combine and Export\n",
    "\n",
    "Reformat variables for export: fix percentage, combine full name, calculate years on force, group complaint and self-reported incident descriptions per person. \n",
    "\n",
    "Group by department and export as departments.json\n",
    "Group all and export as total_force.json"
   ]
  },
  {
   "cell_type": "code",
   "execution_count": 78,
   "metadata": {},
   "outputs": [],
   "source": [
    "col_names=[\"force_count\",\"weapon_count\",\"trr_count\",\"dept_complaint_count\",\"dept_complaint_cleaned_count\",\"civ_complaint_count\",\"civ_complaint_force\",\"civ_complaint_detain\",\"civ_complaint_hate\",\"civ_complaint_crime\"]\n",
    "\n",
    "for col in col_names:\n",
    "    df[col+\"_persons_with\"]=np.where(df[col]>0,1,0)"
   ]
  },
  {
   "cell_type": "code",
   "execution_count": 79,
   "metadata": {},
   "outputs": [],
   "source": [
    "df[\"one\"]=1\n",
    "unit_all=df.groupby(\"unit_description\").agg({\"UID\":\"count\",\"force_count\":\"sum\",\"weapon_count\":\"sum\",\"trr_count\":\"sum\",\"dept_complaint_count\":\"sum\",\"dept_complaint_cleaned_count\":\"sum\",\"civ_complaint_count\":\"sum\",\"civ_complaint_force\":\"sum\",\"civ_complaint_detain\":\"sum\",\"civ_complaint_hate\":\"sum\",\"civ_complaint_crime\":\"sum\",\"force_count_persons_with\":\"sum\",\"weapon_count_persons_with\":\"sum\",\"trr_count_persons_with\":\"sum\",\"dept_complaint_count_persons_with\":\"sum\",\"dept_complaint_cleaned_count_persons_with\":\"sum\",\"civ_complaint_count_persons_with\":\"sum\",\"civ_complaint_force_persons_with\":\"sum\",\"civ_complaint_detain_persons_with\":\"sum\",\"civ_complaint_hate_persons_with\":\"sum\",\"civ_complaint_crime_persons_with\":\"sum\"}).reset_index()\n",
    "\n",
    "for col in col_names:\n",
    "    unit_all[col+\"_persons_with_p\"]=unit_all[col+\"_persons_with\"]/unit_all[\"UID\"]\n",
    "\n",
    "unit_all[[\"unit_description\",\"UID\",\"force_count\"]].to_json(\"departments.json\",orient=\"records\")\n",
    "\n",
    "unit_total=df[df.unit_description!=\"RECRUIT TRAINING SECTION\"].groupby(\"one\").agg({\"UID\":\"count\",\"force_count\":\"sum\",\"weapon_count\":\"sum\",\"force_count_persons_with\":\"sum\",\"weapon_count_persons_with\":\"sum\"}).reset_index()\n",
    "unit_total.to_json(\"total_force.json\",orient=\"records\")\n",
    "\n"
   ]
  },
  {
   "cell_type": "code",
   "execution_count": 80,
   "metadata": {},
   "outputs": [],
   "source": [
    "df['appointed_year']=df['appointed_date'].apply(lambda x: str(x)[0:4])\n",
    "df['appointed_year']=df['appointed_year'].astype(\"int\") \n",
    "\n",
    "df[\"years_in_2016\"]=2017-df['appointed_year'].astype(int)\n",
    "df[\"years_in_2016\"]=np.where(df[\"years_in_2016\"]==1017,-1,df[\"years_in_2016\"])\n",
    "\n",
    "df[\"full_name\"]=df['first_name']+\" \"\n",
    "df[\"full_name\"]=np.where(df[\"middle_initial\"].isna(),df[\"full_name\"],df[\"full_name\"]+df['middle_initial']+\". \")\n",
    "df[\"full_name\"]=np.where(df[\"middle_initial2\"].isna(),df[\"full_name\"],df[\"full_name\"]+df['middle_initial2']+\". \")\n",
    "df[\"full_name\"]=df[\"full_name\"]+df['last_name']\n",
    "df[\"full_name\"]=np.where(df[\"suffix_name\"].isna(),df[\"full_name\"],df[\"full_name\"]+\" \"+df['suffix_name'])"
   ]
  },
  {
   "cell_type": "code",
   "execution_count": 81,
   "metadata": {},
   "outputs": [
    {
     "ename": "OSError",
     "evalue": "[Errno 22] Invalid argument: 'officers_2016.json'",
     "output_type": "error",
     "traceback": [
      "\u001b[1;31m---------------------------------------------------------------------------\u001b[0m",
      "\u001b[1;31mOSError\u001b[0m                                   Traceback (most recent call last)",
      "Cell \u001b[1;32mIn [81], line 39\u001b[0m\n\u001b[0;32m     34\u001b[0m df[\u001b[39m\"\u001b[39m\u001b[39mcurrent_rank\u001b[39m\u001b[39m\"\u001b[39m]\u001b[39m=\u001b[39mdf[\u001b[39m\"\u001b[39m\u001b[39mcurrent_rank\u001b[39m\u001b[39m\"\u001b[39m]\u001b[39m.\u001b[39mapply(\u001b[39mlambda\u001b[39;00m x: x\u001b[39m.\u001b[39mtitle())\n\u001b[0;32m     36\u001b[0m cols_to_keep\u001b[39m=\u001b[39m[\u001b[39m'\u001b[39m\u001b[39mUID\u001b[39m\u001b[39m'\u001b[39m,\u001b[39m'\u001b[39m\u001b[39mfull_name\u001b[39m\u001b[39m'\u001b[39m,\u001b[39m'\u001b[39m\u001b[39mlast_name\u001b[39m\u001b[39m'\u001b[39m,\u001b[39m'\u001b[39m\u001b[39mbirth_year\u001b[39m\u001b[39m'\u001b[39m,\u001b[39m'\u001b[39m\u001b[39mappointed_date\u001b[39m\u001b[39m'\u001b[39m, \u001b[39m'\u001b[39m\u001b[39mcurrent_rank\u001b[39m\u001b[39m'\u001b[39m, \u001b[39m'\u001b[39m\u001b[39munit_description\u001b[39m\u001b[39m'\u001b[39m,\u001b[39m'\u001b[39m\u001b[39mdept_complaint_cleaned_count\u001b[39m\u001b[39m'\u001b[39m, \u001b[39m'\u001b[39m\u001b[39mciv_complaint_count\u001b[39m\u001b[39m'\u001b[39m,\u001b[39m'\u001b[39m\u001b[39mciv_complaint_force\u001b[39m\u001b[39m'\u001b[39m, \u001b[39m'\u001b[39m\u001b[39mciv_complaint_detain\u001b[39m\u001b[39m'\u001b[39m, \u001b[39m'\u001b[39m\u001b[39mciv_complaint_hate\u001b[39m\u001b[39m'\u001b[39m,\u001b[39m'\u001b[39m\u001b[39mciv_complaint_crime\u001b[39m\u001b[39m'\u001b[39m, \u001b[39m'\u001b[39m\u001b[39mforce_count\u001b[39m\u001b[39m'\u001b[39m,\u001b[39m'\u001b[39m\u001b[39mweapon_count\u001b[39m\u001b[39m'\u001b[39m,\u001b[39m'\u001b[39m\u001b[39myears_in_2016\u001b[39m\u001b[39m'\u001b[39m,\n\u001b[0;32m     37\u001b[0m \u001b[39m'\u001b[39m\u001b[39mdept_complaint_cleaned_count_desc_list\u001b[39m\u001b[39m'\u001b[39m, \u001b[39m'\u001b[39m\u001b[39mciv_complaint_count_desc_list\u001b[39m\u001b[39m'\u001b[39m,\u001b[39m'\u001b[39m\u001b[39mciv_complaint_force_desc_list\u001b[39m\u001b[39m'\u001b[39m, \u001b[39m'\u001b[39m\u001b[39mciv_complaint_detain_desc_list\u001b[39m\u001b[39m'\u001b[39m,\u001b[39m'\u001b[39m\u001b[39mciv_complaint_hate_desc_list\u001b[39m\u001b[39m'\u001b[39m, \u001b[39m'\u001b[39m\u001b[39mciv_complaint_crime_desc_list\u001b[39m\u001b[39m'\u001b[39m, \u001b[39m'\u001b[39m\u001b[39mforce_count_desc_list\u001b[39m\u001b[39m'\u001b[39m, \u001b[39m'\u001b[39m\u001b[39mweapon_count_desc_list\u001b[39m\u001b[39m'\u001b[39m]\n\u001b[1;32m---> 39\u001b[0m df[cols_to_keep]\u001b[39m.\u001b[39mto_json(\u001b[39m\"\u001b[39m\u001b[39mofficers_2016.json\u001b[39m\u001b[39m\"\u001b[39m,orient\u001b[39m=\u001b[39m\u001b[39m\"\u001b[39m\u001b[39mrecords\u001b[39m\u001b[39m\"\u001b[39m)\n",
      "File \u001b[1;32mc:\\Users\\Olivia_Pinney\\AppData\\Local\\Programs\\Python\\Python310\\lib\\site-packages\\pandas\\core\\generic.py:2633\u001b[0m, in \u001b[0;36mNDFrame.to_json\u001b[1;34m(self, path_or_buf, orient, date_format, double_precision, force_ascii, date_unit, default_handler, lines, compression, index, indent, storage_options)\u001b[0m\n\u001b[0;32m   2630\u001b[0m config\u001b[39m.\u001b[39mis_nonnegative_int(indent)\n\u001b[0;32m   2631\u001b[0m indent \u001b[39m=\u001b[39m indent \u001b[39mor\u001b[39;00m \u001b[39m0\u001b[39m\n\u001b[1;32m-> 2633\u001b[0m \u001b[39mreturn\u001b[39;00m json\u001b[39m.\u001b[39;49mto_json(\n\u001b[0;32m   2634\u001b[0m     path_or_buf\u001b[39m=\u001b[39;49mpath_or_buf,\n\u001b[0;32m   2635\u001b[0m     obj\u001b[39m=\u001b[39;49m\u001b[39mself\u001b[39;49m,\n\u001b[0;32m   2636\u001b[0m     orient\u001b[39m=\u001b[39;49morient,\n\u001b[0;32m   2637\u001b[0m     date_format\u001b[39m=\u001b[39;49mdate_format,\n\u001b[0;32m   2638\u001b[0m     double_precision\u001b[39m=\u001b[39;49mdouble_precision,\n\u001b[0;32m   2639\u001b[0m     force_ascii\u001b[39m=\u001b[39;49mforce_ascii,\n\u001b[0;32m   2640\u001b[0m     date_unit\u001b[39m=\u001b[39;49mdate_unit,\n\u001b[0;32m   2641\u001b[0m     default_handler\u001b[39m=\u001b[39;49mdefault_handler,\n\u001b[0;32m   2642\u001b[0m     lines\u001b[39m=\u001b[39;49mlines,\n\u001b[0;32m   2643\u001b[0m     compression\u001b[39m=\u001b[39;49mcompression,\n\u001b[0;32m   2644\u001b[0m     index\u001b[39m=\u001b[39;49mindex,\n\u001b[0;32m   2645\u001b[0m     indent\u001b[39m=\u001b[39;49mindent,\n\u001b[0;32m   2646\u001b[0m     storage_options\u001b[39m=\u001b[39;49mstorage_options,\n\u001b[0;32m   2647\u001b[0m )\n",
      "File \u001b[1;32mc:\\Users\\Olivia_Pinney\\AppData\\Local\\Programs\\Python\\Python310\\lib\\site-packages\\pandas\\io\\json\\_json.py:127\u001b[0m, in \u001b[0;36mto_json\u001b[1;34m(path_or_buf, obj, orient, date_format, double_precision, force_ascii, date_unit, default_handler, lines, compression, index, indent, storage_options)\u001b[0m\n\u001b[0;32m    123\u001b[0m     s \u001b[39m=\u001b[39m convert_to_line_delimits(s)\n\u001b[0;32m    125\u001b[0m \u001b[39mif\u001b[39;00m path_or_buf \u001b[39mis\u001b[39;00m \u001b[39mnot\u001b[39;00m \u001b[39mNone\u001b[39;00m:\n\u001b[0;32m    126\u001b[0m     \u001b[39m# apply compression and byte/text conversion\u001b[39;00m\n\u001b[1;32m--> 127\u001b[0m     \u001b[39mwith\u001b[39;00m get_handle(\n\u001b[0;32m    128\u001b[0m         path_or_buf, \u001b[39m\"\u001b[39;49m\u001b[39mw\u001b[39;49m\u001b[39m\"\u001b[39;49m, compression\u001b[39m=\u001b[39;49mcompression, storage_options\u001b[39m=\u001b[39;49mstorage_options\n\u001b[0;32m    129\u001b[0m     ) \u001b[39mas\u001b[39;00m handles:\n\u001b[0;32m    130\u001b[0m         handles\u001b[39m.\u001b[39mhandle\u001b[39m.\u001b[39mwrite(s)\n\u001b[0;32m    131\u001b[0m \u001b[39melse\u001b[39;00m:\n",
      "File \u001b[1;32mc:\\Users\\Olivia_Pinney\\AppData\\Local\\Programs\\Python\\Python310\\lib\\site-packages\\pandas\\io\\common.py:789\u001b[0m, in \u001b[0;36mget_handle\u001b[1;34m(path_or_buf, mode, encoding, compression, memory_map, is_text, errors, storage_options)\u001b[0m\n\u001b[0;32m    784\u001b[0m \u001b[39melif\u001b[39;00m \u001b[39misinstance\u001b[39m(handle, \u001b[39mstr\u001b[39m):\n\u001b[0;32m    785\u001b[0m     \u001b[39m# Check whether the filename is to be opened in binary mode.\u001b[39;00m\n\u001b[0;32m    786\u001b[0m     \u001b[39m# Binary mode does not support 'encoding' and 'newline'.\u001b[39;00m\n\u001b[0;32m    787\u001b[0m     \u001b[39mif\u001b[39;00m ioargs\u001b[39m.\u001b[39mencoding \u001b[39mand\u001b[39;00m \u001b[39m\"\u001b[39m\u001b[39mb\u001b[39m\u001b[39m\"\u001b[39m \u001b[39mnot\u001b[39;00m \u001b[39min\u001b[39;00m ioargs\u001b[39m.\u001b[39mmode:\n\u001b[0;32m    788\u001b[0m         \u001b[39m# Encoding\u001b[39;00m\n\u001b[1;32m--> 789\u001b[0m         handle \u001b[39m=\u001b[39m \u001b[39mopen\u001b[39;49m(\n\u001b[0;32m    790\u001b[0m             handle,\n\u001b[0;32m    791\u001b[0m             ioargs\u001b[39m.\u001b[39;49mmode,\n\u001b[0;32m    792\u001b[0m             encoding\u001b[39m=\u001b[39;49mioargs\u001b[39m.\u001b[39;49mencoding,\n\u001b[0;32m    793\u001b[0m             errors\u001b[39m=\u001b[39;49merrors,\n\u001b[0;32m    794\u001b[0m             newline\u001b[39m=\u001b[39;49m\u001b[39m\"\u001b[39;49m\u001b[39m\"\u001b[39;49m,\n\u001b[0;32m    795\u001b[0m         )\n\u001b[0;32m    796\u001b[0m     \u001b[39melse\u001b[39;00m:\n\u001b[0;32m    797\u001b[0m         \u001b[39m# Binary mode\u001b[39;00m\n\u001b[0;32m    798\u001b[0m         handle \u001b[39m=\u001b[39m \u001b[39mopen\u001b[39m(handle, ioargs\u001b[39m.\u001b[39mmode)\n",
      "\u001b[1;31mOSError\u001b[0m: [Errno 22] Invalid argument: 'officers_2016.json'"
     ]
    }
   ],
   "source": [
    "cols_to_keep=['gender', 'race', 'birth_year', 'current_age','appointed_date', 'current_rank', 'unit_description', 'first_name', 'last_name', 'middle_initial', 'suffix_name','UID','dept_complaint_cleaned_count', 'civ_complaint_count','civ_complaint_force', 'civ_complaint_detain', 'civ_complaint_hate','civ_complaint_crime', 'dept_complaint_desc', 'civ_complaint_desc','civ_complaint_force_desc', 'civ_complaint_detain_desc','civ_complaint_hate_desc', 'civ_complaint_crime_desc', 'force_count','weapon_count','trr_count', 'action_force_desc', 'action_weapon_desc']\n",
    "cols_to_keep=['UID','full_name','last_name','birth_year','appointed_date', 'current_rank', 'unit_description','dept_complaint_cleaned_count', 'civ_complaint_count','civ_complaint_force', 'civ_complaint_detain', 'civ_complaint_hate','civ_complaint_crime', 'dept_complaint_cleaned_count_desc', 'civ_complaint_count_desc','civ_complaint_force_desc', 'civ_complaint_detain_desc','civ_complaint_hate_desc', 'civ_complaint_crime_desc', 'force_count','weapon_count','trr_count', 'force_count_desc', 'weapon_count_desc','years_in_2016']\n",
    "\n",
    "cols_to_keep_int=['dept_complaint_cleaned_count', 'civ_complaint_count','civ_complaint_force', 'civ_complaint_detain', 'civ_complaint_hate','civ_complaint_crime', 'force_count','weapon_count','trr_count','years_in_2016']\n",
    "cols_to_keep_str=['full_name','last_name','birth_year','appointed_date', 'current_rank', 'unit_description']\n",
    "cols_to_keep_list=['dept_complaint_cleaned_count_desc', 'civ_complaint_count_desc','civ_complaint_force_desc', 'civ_complaint_detain_desc','civ_complaint_hate_desc', 'civ_complaint_crime_desc', 'force_count_desc', 'weapon_count_desc']\n",
    "\n",
    "\n",
    "for col in cols_to_keep_int:\n",
    "    df[col]=np.where(df[col].isna(),0,df[col])\n",
    "for col in cols_to_keep_str:\n",
    "    df[col]=np.where(df[col].isna(),\"\",df[col])\n",
    "\n",
    "def func(x):\n",
    "    counts,types = x\n",
    "    text=\"\"\n",
    "    counts=counts.tolist()\n",
    "    types=types.tolist()\n",
    "\n",
    "    for i in range(len(counts)):\n",
    "        text=text+\"<br/>\"+str(counts[len(counts)-1-i])+\"x: \"+types[len(counts)-1-i].capitalize()\n",
    "    return text\n",
    "\n",
    "df[\"empty\"]=[list() for x in range(len(df.index))]\n",
    "\n",
    "for col in cols_to_keep_list:\n",
    "    df[col]=np.where(df[col].isna(),df[\"empty\"],df[col])\n",
    "    df[col+\"_types\"]=df[col].apply(lambda x: np.array(list(set(x)))[np.array([x.count(y) for y in set(x)]).argsort()])\n",
    "    df[col+\"_count\"]=df[col].apply(lambda x: np.array([x.count(y) for y in set(x)])[np.array([x.count(y) for y in set(x)]).argsort()])\n",
    "    df[col+\"_listx\"]=list(zip(df[col+\"_count\"],df[col+\"_types\"]))\n",
    "    df[col+\"_list\"]=df[col+\"_listx\"].apply(lambda x: func(x))\n",
    "\n",
    "df[\"full_name\"]=df[\"full_name\"].apply(lambda x: x.title())\n",
    "df[\"current_rank\"]=df[\"current_rank\"].apply(lambda x: x.title())\n",
    "\n",
    "cols_to_keep=['UID','full_name','last_name','birth_year','appointed_date', 'current_rank', 'unit_description','dept_complaint_cleaned_count', 'civ_complaint_count','civ_complaint_force', 'civ_complaint_detain', 'civ_complaint_hate','civ_complaint_crime', 'force_count','weapon_count','years_in_2016',\n",
    "'dept_complaint_cleaned_count_desc_list', 'civ_complaint_count_desc_list','civ_complaint_force_desc_list', 'civ_complaint_detain_desc_list','civ_complaint_hate_desc_list', 'civ_complaint_crime_desc_list', 'force_count_desc_list', 'weapon_count_desc_list']\n",
    "\n",
    "df[cols_to_keep].to_json(\"officers_2016.json\",orient=\"records\")\n"
   ]
  },
  {
   "cell_type": "markdown",
   "metadata": {},
   "source": [
    "# Update Department Json\n",
    "\n",
    "Add officer data as list per department. Export as departments_officers.json"
   ]
  },
  {
   "cell_type": "code",
   "execution_count": null,
   "metadata": {},
   "outputs": [],
   "source": [
    "import json\n",
    "\n",
    "with open(\"departments.json\") as file:\n",
    "    data = json.load(file)\n",
    "\n",
    "with open(\"officers_2016.json\") as file:\n",
    "    officers = json.load(file)\n",
    "\n",
    "for d in data:\n",
    "    d[\"officers\"]=[]\n",
    "    temp=[]\n",
    "    for officer in officers:\n",
    "        if officer[\"unit_description\"]==d[\"unit_description\"]:\n",
    "            d[\"officers\"].append(officer)\n",
    "\n",
    "with open(\"departments_officers.json\", \"w\") as outfile:\n",
    "    json.dump(data, outfile)\n"
   ]
  },
  {
   "cell_type": "markdown",
   "metadata": {},
   "source": [
    "# Tree Hierarchy\n",
    "\n",
    "Reformat list of departments in hierarchical form under department categories. Bucket small departments as other. Export as departments_tree.json"
   ]
  },
  {
   "cell_type": "code",
   "execution_count": null,
   "metadata": {},
   "outputs": [],
   "source": [
    "districts=pd.read_csv(\"raw_data/Districts.csv\")\n",
    "districts[\"District_No_str\"]=districts[\"District_No\"].astype(str)\n",
    "districts[\"District_Id\"]=np.where(districts[\"District_No\"]>9,\"DISTRICT 0\"+districts[\"District_No_str\"],\"DISTRICT 00\"+districts[\"District_No_str\"])\n",
    "districts[\"District_Title\"]=np.where(districts[\"District_No\"]>9,\"0\"+districts[\"District_No_str\"]+\": \"+districts[\"District_Name\"],\"00\"+districts[\"District_No_str\"]+\": \"+districts[\"District_Name\"])\n"
   ]
  },
  {
   "cell_type": "code",
   "execution_count": null,
   "metadata": {},
   "outputs": [],
   "source": [
    "#replicating the groups \n",
    "tree=df[[\"unit_cat\",\"unit_description\"]].value_counts().reset_index()\n",
    "tree.columns=[\"unit_cat\",\"unit_description\",\"count\"]\n",
    "tree2=df[[\"unit_cat\"]].value_counts().reset_index()\n",
    "tree2.columns=[\"unit_cat\",\"count\"]\n",
    "\n",
    "colors=[\"#a63603\",\"#e6550d\",\"#fd8d3c\",\"#fdae6b\",\"#fdd0a2\",\"#feedde\",\"#D3D3D3\"]\n",
    "cats=df[\"unit_cat\"].unique()\n",
    "\n",
    "tree_dict={}\n",
    "tree_dict[\"name\"]=\"FULL ROSTER\"\n",
    "tree_dict[\"children\"]=[]\n",
    "\n",
    "for color_index, cat in enumerate([\"DISTRICT\",\"DETECTIVE\",\"TRAINING\",\"TRANSPORT\",\"GANG ENFORCEMENT\",\"OTHER\"]):\n",
    "    child={}\n",
    "    child[\"name\"]=cat\n",
    "    child[\"color\"]=colors[color_index]\n",
    "    child[\"children\"]=[]\n",
    "    \n",
    "    other_grandchild={}\n",
    "    other_grandchild[\"name\"]=\"OTHER\"\n",
    "    other_grandchild[\"color\"]=colors[color_index]\n",
    "    other_grandchild[\"children\"]=[]\n",
    "\n",
    "    hold=tree[tree.unit_cat==cat]\n",
    "    for index in range(hold.shape[0]):\n",
    "        grandchild={}\n",
    "        if hold.iloc[index,1]==\"\":\n",
    "            grandchild[\"name\"]=hold.iloc[index,1]=\"UNKNOWN: LIKELY UNDERCOVER\"\n",
    "        if cat==\"DISTRICT\":\n",
    "            hold2=districts[districts[\"District_Id\"]==hold.iloc[index,1]]\n",
    "            if hold2.shape[0]>0:                \n",
    "                #print(hold2[\"District_Title\"])\n",
    "                grandchild[\"name\"]=hold2.iloc[0][\"District_Title\"]\n",
    "            else:\n",
    "                grandchild[\"name\"]=hold.iloc[index,1]\n",
    "        else:\n",
    "            grandchild[\"name\"]=hold.iloc[index,1]\n",
    "\n",
    "        grandchild[\"value\"]=int(hold.iloc[index,2])\n",
    "        grandchild[\"percent_value\"]=hold.iloc[index,2]/hold[\"count\"].sum()\n",
    "        grandchild[\"color\"]=colors[color_index]\n",
    "        \n",
    "        if grandchild[\"percent_value\"]<0.02:\n",
    "            other_grandchild[\"children\"].append(grandchild)\n",
    "        else:\n",
    "            child[\"children\"].append(grandchild)\n",
    "\n",
    "    if len(other_grandchild[\"children\"])==0:\n",
    "        pass\n",
    "    elif len(other_grandchild[\"children\"])==1:\n",
    "        child[\"children\"].append(other_grandchild[\"children\"][0])\n",
    "    else:\n",
    "        child[\"children\"].append(other_grandchild)\n",
    "    tree_dict[\"children\"].append(child)\n",
    "with open(\"departments_tree.json\", \"w\") as outfile:\n",
    "    json.dump(tree_dict,outfile)\n"
   ]
  },
  {
   "cell_type": "markdown",
   "metadata": {},
   "source": [
    "# Percentage with Complaint or TRR Incident\n",
    "\n",
    "Remove officers in Recruit Training Section. Format pie size variables. Export as percent_cat.json"
   ]
  },
  {
   "cell_type": "code",
   "execution_count": null,
   "metadata": {},
   "outputs": [],
   "source": [
    "complaint_desc={\"dept_complaint_cleaned_count_persons_with\":\"Severe Departmental Complaint\",\"civ_complaint_count_persons_with\":\"Any Civilian Complaint\",\"civ_complaint_force_persons_with\":\"Use of Force / Weapon\",\"civ_complaint_detain_persons_with\":\"Handling of Arrest / Detainment\",\"civ_complaint_hate_persons_with\":\"Bigotry / Verbal Abuse\",\"civ_complaint_crime_persons_with\":\"Criminal Activity\"}\n",
    "cats=df[\"unit_cat\"].unique()\n",
    "\n",
    "temp=df[df.unit_description!=\"RECRUIT TRAINING SECTION\"].groupby(\"one\").agg({\"UID\":\"count\",\"force_count_persons_with\":\"sum\",\"weapon_count_persons_with\":\"sum\",\"trr_count_persons_with\":\"sum\",\"dept_complaint_count_persons_with\":\"sum\",\"dept_complaint_cleaned_count_persons_with\":\"sum\",\"civ_complaint_count_persons_with\":\"sum\",\"civ_complaint_force_persons_with\":\"sum\",\"civ_complaint_detain_persons_with\":\"sum\",\"civ_complaint_hate_persons_with\":\"sum\",\"civ_complaint_crime_persons_with\":\"sum\"}).reset_index()\n",
    "\n",
    "#for all categories\n",
    "pie_dict={}\n",
    "pies=[]\n",
    "for col in complaint_desc.keys():\n",
    "    pie={}\n",
    "    pie[\"name\"]=complaint_desc[col]\n",
    "    pie[\"denom\"]=int(temp[\"UID\"][0])\n",
    "    yes={\"Answer\":\"Yes\",\"Totals\":int(temp[col][0]),\"Color\":0}\n",
    "    no={\"Answer\":\"No\",\"Totals\":pie[\"denom\"]-int(temp[col][0]),\"Color\":1}\n",
    "    pie[\"Values\"]=[yes,no]\n",
    "    pies.append(pie)\n",
    "pie_dict[\"ALL\"]=pies\n",
    "\n",
    "with open(\"percent_cat.json\", \"w\") as outfile:\n",
    "    json.dump(pie_dict,outfile)\n"
   ]
  },
  {
   "cell_type": "code",
   "execution_count": 86,
   "metadata": {},
   "outputs": [
    {
     "name": "stderr",
     "output_type": "stream",
     "text": [
      "C:\\Users\\Olivia_Pinney\\AppData\\Local\\Temp\\ipykernel_29252\\1499928351.py:1: UserWarning: Pandas doesn't allow columns to be created via a new attribute name - see https://pandas.pydata.org/pandas-docs/stable/indexing.html#attribute-access\n",
      "  df.force_weapon_count=df.force_count+df.weapon_count\n"
     ]
    },
    {
     "data": {
      "text/plain": [
       "222.0"
      ]
     },
     "execution_count": 86,
     "metadata": {},
     "output_type": "execute_result"
    }
   ],
   "source": [
    "df.force_weapon_count=df.force_count+df.weapon_count\n",
    "max(df.force_weapon_count)"
   ]
  }
 ],
 "metadata": {
  "kernelspec": {
   "display_name": "Python 3.10.7 64-bit",
   "language": "python",
   "name": "python3"
  },
  "language_info": {
   "codemirror_mode": {
    "name": "ipython",
    "version": 3
   },
   "file_extension": ".py",
   "mimetype": "text/x-python",
   "name": "python",
   "nbconvert_exporter": "python",
   "pygments_lexer": "ipython3",
   "version": "3.10.7"
  },
  "orig_nbformat": 4,
  "vscode": {
   "interpreter": {
    "hash": "adb2bf8b6556bf81de5750366772a94ffe20ef8871ec544847e0a0e2a34f4fd1"
   }
  }
 },
 "nbformat": 4,
 "nbformat_minor": 2
}
