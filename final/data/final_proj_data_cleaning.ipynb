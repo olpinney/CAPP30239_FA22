{
 "cells": [
  {
   "cell_type": "code",
   "execution_count": 62,
   "metadata": {},
   "outputs": [],
   "source": [
    "import os \n",
    "import pandas as pd\n",
    "import numpy as np\n",
    "import matplotlib.pyplot as plt\n",
    "import matplotlib.dates as mdates\n",
    "from datetime import date\n"
   ]
  },
  {
   "cell_type": "markdown",
   "metadata": {},
   "source": [
    "loading in data \n"
   ]
  },
  {
   "cell_type": "code",
   "execution_count": 63,
   "metadata": {},
   "outputs": [
    {
     "data": {
      "text/plain": [
       "'c:\\\\Users\\\\Olivia_Pinney\\\\Documents\\\\UChicago_Materials\\\\Data_Viz\\\\CAPP30239_FA22\\\\final\\\\data'"
      ]
     },
     "execution_count": 63,
     "metadata": {},
     "output_type": "execute_result"
    }
   ],
   "source": [
    "os.getcwd()\n"
   ]
  },
  {
   "cell_type": "markdown",
   "metadata": {},
   "source": [
    "# Department Roster"
   ]
  },
  {
   "cell_type": "code",
   "execution_count": 64,
   "metadata": {},
   "outputs": [],
   "source": [
    "history_roster=pd.read_csv(\"extra_data/roster_1936-2017_2017-04.csv\")\n",
    "# history_unit=pd.read_csv(data_path_iigh[\"history_unit\"]) "
   ]
  },
  {
   "cell_type": "markdown",
   "metadata": {},
   "source": []
  },
  {
   "cell_type": "code",
   "execution_count": 65,
   "metadata": {},
   "outputs": [
    {
     "name": "stdout",
     "output_type": "stream",
     "text": [
      "0    131785.0\n",
      "1    131788.0\n",
      "2    131787.0\n",
      "3    131783.0\n",
      "4    131784.0\n",
      "5    131789.0\n",
      "6    131786.0\n",
      "Name: index, dtype: float64\n",
      "(13126, 36)\n",
      "(13119, 36)\n"
     ]
    }
   ],
   "source": [
    "df=history_roster \n",
    "df[\"resignation_date\"]=df[\"resignation_date\"].fillna(\"2999-01-01\")\n",
    "df[\"resignation_year\"]=df[\"resignation_date\"].apply(lambda x: int(str(x)[0:4]))\n",
    "\n",
    "df[\"appointed_date\"]=df[\"appointed_date\"].fillna(\"1000-01-01\")\n",
    "df[\"appointed_year\"]=df[\"appointed_date\"].apply(lambda x: int(str(x)[0:4]))\n",
    "\n",
    "df=df[df[\"appointed_year\"]<2017] #officer in 2016\n",
    "df=df[df[\"resignation_year\"]>2015] #officer in 2016\n",
    "\n",
    "#check that no one is duplicated\n",
    "temp=df.UID.value_counts().reset_index()\n",
    "problem_uids=temp[temp.UID>1][\"index\"]\n",
    "print(problem_uids)\n",
    "print(df.shape)\n",
    "df=df[~(df[\"UID\"].isin(problem_uids) & ~df[\"current_status\"]>0)]\n",
    "print(df.shape)\n"
   ]
  },
  {
   "cell_type": "code",
   "execution_count": 66,
   "metadata": {},
   "outputs": [
    {
     "data": {
      "text/plain": [
       "2017"
      ]
     },
     "execution_count": 66,
     "metadata": {},
     "output_type": "execute_result"
    }
   ],
   "source": [
    "max(history_roster.appointed_year)"
   ]
  },
  {
   "cell_type": "code",
   "execution_count": 67,
   "metadata": {},
   "outputs": [],
   "source": [
    "df[\"unit_cat\"]=np.where(df[\"unit_description\"].str.contains(\"DISTRICT 0\"),\"DISTRICT\",\n",
    "    np.where(df[\"unit_description\"].str.contains(\"DETECTIVE\"),\"DETECTIVE\",\n",
    "    np.where(df[\"unit_description\"].str.contains(\"SPECIAL INVESTIGATIONS UNIT\"),\"DETECTIVE\",\n",
    "    np.where(df[\"unit_description\"].str.contains(\"TRAFFIC\"),\"TRANSPORT\",\n",
    "    np.where(df[\"unit_description\"].str.contains(\"TRANSPORT\"),\"TRANSPORT\",\n",
    "    np.where(df[\"unit_description\"].str.contains(\"TRANSIT\"),\"TRANSPORT\",    \n",
    "    np.where(df[\"unit_description\"].str.contains(\"AIRPORT\"),\"TRANSPORT\",\n",
    "    np.where(df[\"unit_description\"].str.contains(\"GANG ENFORCEMENT\"),\"GANG ENFORCEMENT\",\n",
    "    \"OTHER\"\n",
    "    ))))))))"
   ]
  },
  {
   "cell_type": "code",
   "execution_count": 68,
   "metadata": {},
   "outputs": [],
   "source": [
    "temp=df[[\"unit_description\",\"unit_cat\"]].value_counts(sort=True)\n",
    "temp=temp.reset_index()\n",
    "#temp=temp.set_index(\"unit_description\")\n",
    "temp.columns=[\"unit_description\",\"unit_cat\",\"headcount\"]\n",
    "\n",
    "temp.to_json(\"departments_basic.json\",orient=\"records\")\n"
   ]
  },
  {
   "cell_type": "markdown",
   "metadata": {},
   "source": [
    "# Section of Complaints"
   ]
  },
  {
   "cell_type": "code",
   "execution_count": 69,
   "metadata": {},
   "outputs": [
    {
     "name": "stderr",
     "output_type": "stream",
     "text": [
      "C:\\Users\\Olivia_Pinney\\AppData\\Local\\Temp\\ipykernel_10608\\2543640591.py:2: DtypeWarning: Columns (3,7,8) have mixed types. Specify dtype option on import or set low_memory=False.\n",
      "  complaints=pd.read_csv(\"extra_data/complaints-accused.csv\")\n",
      "C:\\Users\\Olivia_Pinney\\AppData\\Local\\Temp\\ipykernel_10608\\2543640591.py:3: DtypeWarning: Columns (0,5,6,7,8,9,10) have mixed types. Specify dtype option on import or set low_memory=False.\n",
      "  complaints_detailed=pd.read_csv(\"extra_data/complaints-complaints.csv\")\n"
     ]
    }
   ],
   "source": [
    "#merge complaints\n",
    "complaints=pd.read_csv(\"extra_data/complaints-accused.csv\")\n",
    "complaints_detailed=pd.read_csv(\"extra_data/complaints-complaints.csv\")\n",
    "complaint_types=pd.read_csv(\"extra_data/Complaint Categories.csv\")\n",
    "\n",
    "cmp= complaints.merge(complaints_detailed[[\"cr_id\", \"complaint_date\"]],on=\"cr_id\",how=\"left\")\n",
    "cmp[\"code\"]=cmp[\"complaint_code\"]\n",
    "complaint_types=complaint_types[~pd.isna(complaint_types[\"111\"])]\n",
    "complaint_types[\"code\"]=complaint_types[\"111\"]\n",
    "cmp= cmp.merge(complaint_types,on=\"code\",how=\"left\")"
   ]
  },
  {
   "cell_type": "markdown",
   "metadata": {},
   "source": [
    "Need to add a section on the outcome of the complaints"
   ]
  },
  {
   "cell_type": "code",
   "execution_count": 70,
   "metadata": {},
   "outputs": [],
   "source": [
    "#complaint results\n",
    "comp_cat={\"NAF\":\"No Affidavit\", \"EX\":\"Complaint Dismissed\", \"UN\":\"Complaint Dismissed\",\"NS\":\"Insufficient Evidence\",\"SU\":\"Complaint Accepted\", \"DIS\":\"Complaint Accepted\",\"NC\":\"Missing Complaint Type\",\"Missing\":\"Missing\"}\n",
    "#NC is missing\n",
    "\n",
    "#outcome\n",
    "#complaints.final_outcome.value_counts()\n",
    "\n",
    "#less important:\n",
    "dept_exclude=[\"OPERATION/PERSONNEL VIOLATION:  MISCELLANEOUS\",\"MISCELLANEOUS\", \"OPERATION/PERSONNEL VIOLATION:  REPORTS - FAIL TO SUBMIT/IMPROPER\", \"OPERATION/PERSONNEL VIOLATION:  INVENTORY PROCEDURES\",\"REPORTS - FAILED TO SUBMIT/IMPROPER\",\"INVENTORY PROCEDURES\",\"OPERATION/PERSONNEL VIOLATION: COMMUNICATION OPERATION PROCEDURES\",\"COMMUNICATION OPERATIONS PROCEDURES\",\"OPERATION/PERSONNEL VIOLATION:  VEHICLE LICENSING - CITY\",\"MISUSE OF DEPARTMENT EQUIPMENT/SUPPLIES\",\"INSUBORDINATION\",\"OPERATION/PERSONNEL VIOLATION:  INSUBORDINATION\",\"MEDICAL ROLL\",\"OPERATION/PERSONNEL VIOLATION:  MEDICAL ROLL\",\"OPERATION/PERSONNEL VIOLATION:  WEAPON/AMMUN./UNIFORM DEVIATION\",\"FAIL TO OBTAIN A COMPLAINT REGISTER NUMBER\",\"OPERATION/PERSONNEL VIOLATION: MISUSE OF DEPT. EQUIPMENT/SUPPLIES\",\"OPERATION/PERSONNEL VIOLATION:  ABSENT WITHOUT PERMISSION\",\"WEAPON/AMMUNITION/UNIFORM DEVIATION\",\"SUPERVISOR RESPONSIBILITY:  FAIL TO OBTAIN COMPLAINT REGISTER NO.\",\"SUPERVISOR RESPONSIBILITY:  MISCELLANEOUS\",\"OPERATION/PERSONNEL VIOLATION:  LEAVING ASGMT (DIST/BEAT/SECT/CT)\",\"ABSENT WITHOUT PERMISSION\",\"OPERATION/PERSONNEL VIOLATION:  RESIDENCY\",\"LEAVING ASSIGNMENT (DISTRICT, BEAT, SECTOR, COURT)\",\"RESIDENCY\",\"OPERATION/PERSONNEL VIOLATION:  COMPENSATORY TIME\",\"VEHICLE LICENSING - CITY\",\"OPERATION/PERSONNEL VIOLATION:  LATE FOR ROLL CALL/ASSIGNMENT/CT.\",\"COMPENSATORY TIME\",\"SUPVR. RESPONSIBILITY:  PROPER ACTION REVIEW/INSPECT- SUBORDINATE\",\"OPERATION/PERSONNEL VIOLATION:  LUNCH/PERSONAL\",\"LATE - ROLL CALL/ASSIGNMENT/COURT\",\"LUNCH/PERSONAL VIOLATIONS\",\"PROPER ACTION REVIEW/INSPECT - SUBORDINATE\",\"EQUIPMENT IRREGULARITY\"]\n"
   ]
  },
  {
   "cell_type": "code",
   "execution_count": 71,
   "metadata": {},
   "outputs": [],
   "source": [
    "force=[\"EXCESSIVE FORCE\",\"STRIKE\",\"ASSAULT\",\"BATTERY\",\"PUSH\",\"PULL\",\"GRAB\",\"CHOKED\",\"KICKED\",\"DRAGGED\",\"TASER\",\"SHOTS FIRED\",\"COERCION - VIOLENCE\",\"MURDER\",\"MANSLAUGHTER\",\"TAKE DOWN\",\"INJURY\",\"DEATH\",\"FIREARM\",\"WEAPON\",\"PHYSICAL CONTACT\"]\n",
    "detain=[\"DETENTION\",\"WARRANT\",\"SEARCH\",\"ARRESTEE\",\"ARREST\",\"LOCKUP\",\"BONDING\",\"BOOKING\",\"PROCESSING\",\"PRISONER'S PROPERTY\", \"PRISONERS PROPERTY\"]\n",
    "hate=[\"RACIAL\",\"SEXUAL ORIENTATION\",\"VERBAL ABUSE\", \"USE OF PROFANITY\", \"THREATS\"]\n",
    "crime=[\"COMMISSION OF CRIME\", \"DAMAGE\",\"TRESPASSING\", \"BURGLARY\", \"THEFT\", \"FELONY\",\"DRUGS\",\"CONTR. SUB\", \"ROBBERY\", \"SHOPLIFTING\",\"DOMESTIC\",\"RAPE\"]\n",
    "\n",
    "#contains\n",
    "citizen_cats={\"EXCESSIVE FORCE\":\"EXCESSIVE FORCE\",\"STRIKE\":\"EXCESSIVE FORCE\",\"ASSAULT\":\"EXCESSIVE FORCE\",\"BATTERY\":\"EXCESSIVE FORCE\",\"PUSH\":\"EXCESSIVE FORCE\",\"PULL\":\"EXCESSIVE FORCE\",\"GRAB\":\"EXCESSIVE FORCE\",\"INJURY\":\"EXCESSIVE FORCE\",\"CHOKED\":\"EXCESSIVE FORCE\",\"KICKED\":\"EXCESSIVE FORCE\",\"DRAGGED\":\"EXCESSIVE FORCE\",\"TASER\":\"EXCESSIVE FORCE\",\"SHOTS FIRED\":\"EXCESSIVE FORCE\",\"COERCION - VIOLENCE\":\"EXCESSIVE FORCE\",\"MURDER/MANSLAUGHTER, ETC.\":\"EXCESSIVE FORCE\",\"TAKE DOWN\":\"EXCESSIVE FORCE\",\n",
    "    \"INJURY/DEATH\":\"INJURY/DEATH\", \n",
    "    \"UNNECESSARY PHYSICAL CONTACT\":\"UNNECESSARY PHYSICAL CONTACT\",\n",
    "    \"FIREARM\": \"WEAPON USAGE\", \"WEAPON\":\"WEAPON USAGE\",\n",
    "    \"EXCESSIVE DETENTION\":\"EXCESSIVE DETENTION\",\n",
    "    \"WARRANT\": \"WARRANT / SEARCH VIOLATION\",\"SEARCH\":\"SEARCH WITHOUT WARRANT\",\n",
    "    \"ARRESTEE\": \"HANDLING OF ARREST / BOOKING\", \"ARREST/LOCKUP\": \"HANDLING OF ARREST / BOOKING\", \"BONDING/BOOKING/PROCESSING\": \"HANDLING OF ARREST / BOOKING\",\"PRISONER'S PROPERTY\":\"HANDLING OF ARREST / BOOKING\" , \"PRISONERS PROPERTY\":\"HANDLING OF ARREST / BOOKING\",\n",
    "    \"ILLEGAL ARREST\": \"ILLEGAL ARREST\",\n",
    "    \"IMPROPER DETENTION\":\"UNLAWFUL DETENTION\", \"UNLAWFUL / EXCESSIVE INVESTIGATIVE DETENTION (WITNESS)\": \"UNLAWFUL DETENTION\",\n",
    "    \"RACIAL\": \"RACIAL PROFILING / ABUSIVE LANGUAGE\",\n",
    "    \"SEXUAL ORIENTATION\":\"SEXUAL ORIENTATION\",\n",
    "    \"VERBAL ABUSE\":\"VERBAL ABUSE\",  \"USE OF PROFANITY\": \"VERBAL ABUSE\", \"THREATS\": \"VERBAL ABUSE\",\n",
    "    \"DOMESTIC\":\"DOMESTIC ALTERCATION\",\n",
    "    \"RAPE/SEX\":\"RAPE/SEX OFFENSES\",\n",
    "    \"TRAFFIC\": \"TRAFFIC (NOT BRIBERY/EX-FORCE)\",\n",
    "    \"NO ARREST\": \"NO ARREST\",\n",
    "    \"COMMISSION OF CRIME\":\"CRIME\", \"DAMAGE/TRESPASSING PROPERTY\":\"CRIME\", \"BURGLARY\":\"CRIME\", \"THEFT\":\"CRIME\", \"OTHER FELONY\":\"CRIME\",\"DRUGS/CONTR. SUB., POSSESSION OR SALE\":\"CRIME\", \"ROBBERY\":\"CRIME\", \"SHOPLIFTING\":\"CRIME\",\n",
    "    \"ATTORNEY/RELATIVE PRIVILEGES\":\"COMMUNICATION\",\"FIRST AMENDMENT\":\"COMMUNICATION\",\n",
    "    \"MISCONDUCT DURING ISSUANCE OF CITATION\":\"OTHER\",\"CIVIL SUIT\":\"OTHER\", \"IMPROPER PROCESSING/REPORTING/PROCEDURES\":\"OTHER\",\"ESCAPE\":\"OTHER\",\"MISCELLANEOUS\":\"OTHER\",\"PARKING COMPLAINTS\":\"OTHER\",\"VIOLATION (OTHER THAN D.U.I.) - ON DUTY\":\"OTHER\",\"POLICE IMPERSONATOR - ADV SECTION USE ON CLOSING ONLY\":\"OTHER\"}\n"
   ]
  },
  {
   "cell_type": "code",
   "execution_count": 72,
   "metadata": {},
   "outputs": [],
   "source": [
    "cmp[\"civ_complaint_force\"]=False\n",
    "cmp[\"civ_complaint_detain\"]=False\n",
    "cmp[\"civ_complaint_hate\"]=False\n",
    "cmp[\"civ_complaint_crime\"]=False\n",
    "\n",
    "cmp[\"civ_complaint_count\"]=np.where(cmp[\"CITIZEN / DEPT\"]==\"CITIZEN\",1,0)\n",
    "cmp[\"civ_complaint_count_desc\"]=np.where(cmp[\"civ_complaint_count\"],cmp.complaint_category,\"\")\n",
    "cmp[\"civ_complaint_count_desc\"]=np.where(cmp[\"civ_complaint_count_desc\"].isna(),\"Missing\",cmp[\"civ_complaint_count_desc\"])\n",
    "\n",
    "for word in force:\n",
    "    cmp[\"civ_complaint_force\"]=np.where(cmp[\"civ_complaint_count_desc\"].str.contains(word,case=False),True,cmp[\"civ_complaint_force\"])\n",
    "for word in detain:\n",
    "    cmp[\"civ_complaint_detain\"]=np.where(cmp[\"civ_complaint_count_desc\"].str.contains(word,case=False),True,cmp[\"civ_complaint_detain\"])\n",
    "for word in hate:\n",
    "    cmp[\"civ_complaint_hate\"]=np.where(cmp[\"civ_complaint_count_desc\"].str.contains(word,case=False),True,cmp[\"civ_complaint_hate\"])\n",
    "for word in crime:\n",
    "    cmp[\"civ_complaint_crime\"]=np.where(cmp[\"civ_complaint_count_desc\"].str.contains(word,case=False),True,cmp[\"civ_complaint_crime\"])\n",
    "\n",
    "duplicate_words_detain=[\"EXCESSIVE FORCE:  ARRESTEE\",\"EXCESSIVE FORCE:  NO ARREST\"]\n",
    "duplicate_words_force=[\"COMMISSION OF CRIME:  ASSAULT/BATTERY\",\"COMMISSION OF CRIME:  MURDER/MANSLAUGHTER ETC\",\"ARREST/LOCKUP PROCEDURE:  PROPER CARE/INJURY/DEATH\"]\n",
    "duplicate_words_crime=[\"EXCESSIVE FORCE:  DOMESTIC\"]\n",
    "\n",
    "#identify duplicate words here \n",
    "#cmp[[\"civ_complaint_count\",\"civ_complaint_force\",\"civ_complaint_detain\",\"civ_complaint_hate\",\"civ_complaint_crime\"]].value_counts()\n",
    "#cmp.loc[(cmp[\"civ_complaint_force\"]==True) & (cmp[\"civ_complaint_detain\"]==True)][\"civ_complaint_count_desc\"].value_counts()\n",
    "\n",
    "for word in duplicate_words_force:\n",
    "    cmp[\"civ_complaint_force\"]=np.where(cmp[\"civ_complaint_count_desc\"].str.contains(word,case=False),False,cmp[\"civ_complaint_force\"])\n",
    "for word in duplicate_words_detain:\n",
    "    cmp[\"civ_complaint_detain\"]=np.where(cmp[\"civ_complaint_count_desc\"].str.contains(word,case=False),False,cmp[\"civ_complaint_detain\"])\n",
    "for word in duplicate_words_crime:\n",
    "    cmp[\"civ_complaint_crime\"]=np.where(cmp[\"civ_complaint_count_desc\"].str.contains(word,case=False),False,cmp[\"civ_complaint_crime\"])\n"
   ]
  },
  {
   "cell_type": "code",
   "execution_count": 73,
   "metadata": {},
   "outputs": [],
   "source": [
    "cmp[\"comp_cat\"]=np.where(cmp.final_finding.isna(),\"Missing\",cmp.final_finding)\n",
    "cmp[\"comp_cat\"]=cmp[\"comp_cat\"].replace(comp_cat)\n",
    "\n",
    "cmp[\"dept_complaint_count\"]=np.where(cmp[\"CITIZEN / DEPT\"]==\"DEPT\",True,False)\n",
    "cmp[\"dept_complaint_cleaned_count\"]=np.where(cmp[\"CITIZEN / DEPT\"]==\"DEPT\",np.where(cmp.complaint_category.isin(dept_exclude),False,True),False)\n",
    "cmp[\"dept_complaint_cleaned_count_desc\"]=np.where(cmp[\"dept_complaint_cleaned_count\"],cmp.complaint_category,\"\")\n",
    "\n",
    "cmp[\"civ_complaint_cat\"]=np.where(cmp.civ_complaint_force,\"FORCE\",\n",
    "    np.where(cmp.civ_complaint_detain,\"DETAIN\",\n",
    "    np.where(cmp.civ_complaint_hate,\"HATE\",\n",
    "    np.where(cmp.civ_complaint_crime,\"CRIME\",\n",
    "    np.where(cmp.civ_complaint_count,\"OTHER\",\"\")))))\n",
    "    \n",
    "#checking count made correctly\n",
    "#cmp[cmp.dept_complaint_count==1][[\"complaint_category\",\"dept_complaint_cleaned_count\"]].value_counts()"
   ]
  },
  {
   "cell_type": "code",
   "execution_count": null,
   "metadata": {},
   "outputs": [],
   "source": []
  },
  {
   "cell_type": "code",
   "execution_count": 74,
   "metadata": {},
   "outputs": [
    {
     "name": "stdout",
     "output_type": "stream",
     "text": [
      "dept_complaint_cleaned_count\n",
      "civ_complaint_count\n",
      "civ_complaint_force\n",
      "civ_complaint_detain\n",
      "civ_complaint_hate\n",
      "civ_complaint_crime\n"
     ]
    }
   ],
   "source": [
    "cmp_counts=cmp.groupby(\"UID\",as_index=False).agg({\"dept_complaint_count\":\"sum\",\"dept_complaint_cleaned_count\":\"sum\",\"civ_complaint_count\":\"sum\",\"civ_complaint_force\":\"sum\",\"civ_complaint_detain\":\"sum\",\"civ_complaint_hate\":\"sum\",\"civ_complaint_crime\":\"sum\"})\n",
    "df=df.merge(cmp_counts,on=\"UID\",how=\"left\")\n",
    "\n",
    "counts=[\"dept_complaint_cleaned_count\",\"civ_complaint_count\",\"civ_complaint_force\",\"civ_complaint_detain\",\"civ_complaint_hate\",\"civ_complaint_crime\"]\n",
    "col_names=[\"dept_complaint_cleaned_count_desc\",\"civ_complaint_count_desc\",\"civ_complaint_force_desc\",\"civ_complaint_detain_desc\",\"civ_complaint_hate_desc\",\"civ_complaint_crime_desc\"]\n",
    "for i, count in enumerate(counts):\n",
    "    print(count)\n",
    "    temp=cmp[cmp[count]==True].groupby(\"UID\")[\"complaint_category\"].apply(list).reset_index()\n",
    "    temp.columns=[\"UID\",col_names[i]]\n",
    "    df=df.merge(temp,on=\"UID\",how=\"left\")\n"
   ]
  },
  {
   "cell_type": "markdown",
   "metadata": {},
   "source": [
    "## TTR"
   ]
  },
  {
   "cell_type": "code",
   "execution_count": 75,
   "metadata": {},
   "outputs": [],
   "source": [
    "#merge trr\n",
    "trr_overall=pd.read_csv(\"extra_data/TRR-main_2004-2016_2016-09.csv\")\n",
    "trr_subjects=pd.read_csv(\"extra_data/TRR-subjects_2004-2016_2016-09.csv\")\n",
    "trr_officers=pd.read_csv(\"extra_data/TRR-officers_2004-2016_2016-09.csv\")\n",
    "trr_actions=pd.read_csv(\"extra_data/TRR-actions-responses_2004-2016_2016-09.csv\")\n",
    "\n",
    "trr=trr_overall.merge(trr_officers,on=\"trr_id\",suffixes=(\"\",\"_officer\")) #,how=\"left\"\n",
    "trr=trr.merge(trr_subjects,on=\"trr_id\",suffixes=(\"\",\"_subject\")) #,how=\"left\"\n",
    "trr=trr.merge(trr_actions[trr_actions.person==\"Member Action\"],on=\"trr_id\",suffixes=(\"\",\"_subject\")) #,how=\"left\"\n",
    "\n",
    "\n",
    "trr[\"trr_year\"]=trr[\"trr_date\"].apply(lambda x: int(str(x)[0:4]))\n",
    "trr_17=trr #[trr[\"trr_year\"]==2017]\n"
   ]
  },
  {
   "cell_type": "code",
   "execution_count": 76,
   "metadata": {},
   "outputs": [],
   "source": [
    "action_cat={\"Missing\":\"Missing\",\"Verbal Commands\":\"Other\",\"Member Presence\":\"Other\",\"Physical Force - Stunning\":\"Use of Force\",\"Physical Force - Holding\":\"Use of Force\",\"Physical Force - Direct Mechanical\":\"Use of Force\",\"Other Force\":\"Use of Force\",\"Taser\":\"Use of Weapon\",\"Chemical\":\"Use of Weapon\",\"Impact Weapon\":\"Use of Weapon\",\"Firearm\":\"Use of Weapon\",\"Taser Display\":\"Other\",\"Chemical (Authorized)\":\"Use of Weapon\",\"Other\":\"Other\"} "
   ]
  },
  {
   "cell_type": "code",
   "execution_count": 77,
   "metadata": {},
   "outputs": [],
   "source": [
    "trr_17[\"force_cat\"]=np.where(trr_17.force_type.isna(),\"Missing\",trr_17.force_type.replace(action_cat))\n",
    "trr_17[\"count\"]=True\n",
    "trr_17[\"weapon_count\"]=np.where(trr_17[\"force_cat\"]==\"Use of Weapon\",True,False)\n",
    "trr_17[\"force_count\"]=np.where(trr_17[\"force_cat\"]==\"Use of Force\",True,trr_17[\"weapon_count\"])\n",
    "trr_17[\"trr_count\"]=np.where(trr_17[\"force_cat\"]==\"Other\",True,trr_17[\"force_count\"])\n",
    "\n"
   ]
  },
  {
   "cell_type": "code",
   "execution_count": 78,
   "metadata": {},
   "outputs": [],
   "source": [
    "trr_17_counts=trr_17.groupby(\"UID\",as_index=False).agg({\"force_count\":\"sum\",\"weapon_count\":\"sum\",\"trr_count\":\"sum\"})\n",
    "    \n",
    "df=df.merge(trr_17_counts,on=\"UID\",how=\"left\")\n",
    "\n",
    "counts=[\"force_count\",\"weapon_count\",\"trr_count\"]\n",
    "col_names=[\"force_count_desc\",\"weapon_count_desc\",\"trr_count_desc\"]\n",
    "for i, count in enumerate(counts):\n",
    "    temp=trr_17[trr_17[count]==True].groupby(\"UID\")[\"action\"].apply(list).reset_index()\n",
    "    temp.columns=[\"UID\",col_names[i]]\n",
    "    df=df.merge(temp,on=\"UID\",how=\"left\")\n"
   ]
  },
  {
   "cell_type": "code",
   "execution_count": 79,
   "metadata": {},
   "outputs": [
    {
     "data": {
      "text/html": [
       "<div>\n",
       "<style scoped>\n",
       "    .dataframe tbody tr th:only-of-type {\n",
       "        vertical-align: middle;\n",
       "    }\n",
       "\n",
       "    .dataframe tbody tr th {\n",
       "        vertical-align: top;\n",
       "    }\n",
       "\n",
       "    .dataframe thead th {\n",
       "        text-align: right;\n",
       "    }\n",
       "</style>\n",
       "<table border=\"1\" class=\"dataframe\">\n",
       "  <thead>\n",
       "    <tr style=\"text-align: right;\">\n",
       "      <th></th>\n",
       "      <th>UID</th>\n",
       "      <th>trr_count_desc</th>\n",
       "    </tr>\n",
       "  </thead>\n",
       "  <tbody>\n",
       "    <tr>\n",
       "      <th>0</th>\n",
       "      <td>100007.0</td>\n",
       "      <td>[MEMBER PRESENCE, VERBAL COMMANDS, TAKE DOWN/E...</td>\n",
       "    </tr>\n",
       "    <tr>\n",
       "      <th>1</th>\n",
       "      <td>100009.0</td>\n",
       "      <td>[TAKE DOWN/EMERGENCY HANDCUFFING, MEMBER PRESE...</td>\n",
       "    </tr>\n",
       "    <tr>\n",
       "      <th>2</th>\n",
       "      <td>100010.0</td>\n",
       "      <td>[TASER (PROBE DISCHARGE), TASER (PROBE DISCHAR...</td>\n",
       "    </tr>\n",
       "    <tr>\n",
       "      <th>3</th>\n",
       "      <td>100011.0</td>\n",
       "      <td>[TAKE DOWN/EMERGENCY HANDCUFFING, CLOSED HAND ...</td>\n",
       "    </tr>\n",
       "    <tr>\n",
       "      <th>4</th>\n",
       "      <td>100012.0</td>\n",
       "      <td>[TAKE DOWN/EMERGENCY HANDCUFFING, TAKE DOWN/EM...</td>\n",
       "    </tr>\n",
       "    <tr>\n",
       "      <th>...</th>\n",
       "      <td>...</td>\n",
       "      <td>...</td>\n",
       "    </tr>\n",
       "    <tr>\n",
       "      <th>10772</th>\n",
       "      <td>132446.0</td>\n",
       "      <td>[O.C./CHEMICAL WEAPON, ESCORT HOLDS, MEMBER PR...</td>\n",
       "    </tr>\n",
       "    <tr>\n",
       "      <th>10773</th>\n",
       "      <td>132453.0</td>\n",
       "      <td>[TAKE DOWN/EMERGENCY HANDCUFFING, MEMBER PRESE...</td>\n",
       "    </tr>\n",
       "    <tr>\n",
       "      <th>10774</th>\n",
       "      <td>132466.0</td>\n",
       "      <td>[TAKE DOWN/EMERGENCY HANDCUFFING, VERBAL COMMA...</td>\n",
       "    </tr>\n",
       "    <tr>\n",
       "      <th>10775</th>\n",
       "      <td>132518.0</td>\n",
       "      <td>[TAKE DOWN/EMERGENCY HANDCUFFING, MEMBER PRESE...</td>\n",
       "    </tr>\n",
       "    <tr>\n",
       "      <th>10776</th>\n",
       "      <td>133028.0</td>\n",
       "      <td>[OTHER (SPECIFY)]</td>\n",
       "    </tr>\n",
       "  </tbody>\n",
       "</table>\n",
       "<p>10777 rows × 2 columns</p>\n",
       "</div>"
      ],
      "text/plain": [
       "            UID                                     trr_count_desc\n",
       "0      100007.0  [MEMBER PRESENCE, VERBAL COMMANDS, TAKE DOWN/E...\n",
       "1      100009.0  [TAKE DOWN/EMERGENCY HANDCUFFING, MEMBER PRESE...\n",
       "2      100010.0  [TASER (PROBE DISCHARGE), TASER (PROBE DISCHAR...\n",
       "3      100011.0  [TAKE DOWN/EMERGENCY HANDCUFFING, CLOSED HAND ...\n",
       "4      100012.0  [TAKE DOWN/EMERGENCY HANDCUFFING, TAKE DOWN/EM...\n",
       "...         ...                                                ...\n",
       "10772  132446.0  [O.C./CHEMICAL WEAPON, ESCORT HOLDS, MEMBER PR...\n",
       "10773  132453.0  [TAKE DOWN/EMERGENCY HANDCUFFING, MEMBER PRESE...\n",
       "10774  132466.0  [TAKE DOWN/EMERGENCY HANDCUFFING, VERBAL COMMA...\n",
       "10775  132518.0  [TAKE DOWN/EMERGENCY HANDCUFFING, MEMBER PRESE...\n",
       "10776  133028.0                                  [OTHER (SPECIFY)]\n",
       "\n",
       "[10777 rows x 2 columns]"
      ]
     },
     "execution_count": 79,
     "metadata": {},
     "output_type": "execute_result"
    }
   ],
   "source": [
    "temp"
   ]
  },
  {
   "cell_type": "markdown",
   "metadata": {},
   "source": [
    "# Export"
   ]
  },
  {
   "cell_type": "code",
   "execution_count": 80,
   "metadata": {},
   "outputs": [],
   "source": [
    "col_names=[\"force_count\",\"weapon_count\",\"trr_count\",\"dept_complaint_count\",\"dept_complaint_cleaned_count\",\"civ_complaint_count\",\"civ_complaint_force\",\"civ_complaint_detain\",\"civ_complaint_hate\",\"civ_complaint_crime\"]\n",
    "\n",
    "for col in col_names:\n",
    "    df[col+\"_persons_with\"]=np.where(df[col]>0,1,0)"
   ]
  },
  {
   "cell_type": "code",
   "execution_count": 81,
   "metadata": {},
   "outputs": [],
   "source": [
    "unit_all=df.groupby(\"unit_description\").agg({\"UID\":\"count\",\"force_count\":\"sum\",\"weapon_count\":\"sum\",\"trr_count\":\"sum\",\"dept_complaint_count\":\"sum\",\"dept_complaint_cleaned_count\":\"sum\",\"civ_complaint_count\":\"sum\",\"civ_complaint_force\":\"sum\",\"civ_complaint_detain\":\"sum\",\"civ_complaint_hate\":\"sum\",\"civ_complaint_crime\":\"sum\",\"force_count_persons_with\":\"sum\",\"weapon_count_persons_with\":\"sum\",\"trr_count_persons_with\":\"sum\",\"dept_complaint_count_persons_with\":\"sum\",\"dept_complaint_cleaned_count_persons_with\":\"sum\",\"civ_complaint_count_persons_with\":\"sum\",\"civ_complaint_force_persons_with\":\"sum\",\"civ_complaint_detain_persons_with\":\"sum\",\"civ_complaint_hate_persons_with\":\"sum\",\"civ_complaint_crime_persons_with\":\"sum\"}).reset_index()\n",
    "unit_cats=df.groupby(\"unit_cat\").agg({\"UID\":\"count\",\"force_count\":\"sum\",\"weapon_count\":\"sum\",\"trr_count\":\"sum\",\"dept_complaint_count\":\"sum\",\"dept_complaint_cleaned_count\":\"sum\",\"civ_complaint_count\":\"sum\",\"civ_complaint_force\":\"sum\",\"civ_complaint_detain\":\"sum\",\"civ_complaint_hate\":\"sum\",\"civ_complaint_crime\":\"sum\",\"force_count_persons_with\":\"sum\",\"weapon_count_persons_with\":\"sum\",\"trr_count_persons_with\":\"sum\",\"dept_complaint_count_persons_with\":\"sum\",\"dept_complaint_cleaned_count_persons_with\":\"sum\",\"civ_complaint_count_persons_with\":\"sum\",\"civ_complaint_force_persons_with\":\"sum\",\"civ_complaint_detain_persons_with\":\"sum\",\"civ_complaint_hate_persons_with\":\"sum\",\"civ_complaint_crime_persons_with\":\"sum\"}).reset_index()\n",
    "\n",
    "unit_all.to_json(\"departments.json\",orient=\"records\")\n",
    "unit_cats.to_json(\"departments_cats.json\",orient=\"records\")"
   ]
  },
  {
   "cell_type": "code",
   "execution_count": 82,
   "metadata": {},
   "outputs": [],
   "source": [
    "df['appointed_year']=df['appointed_date'].apply(lambda x: str(x)[0:4])\n",
    "df['appointed_year']=df['appointed_year'].astype(\"int\")\n",
    "df[\"years_in_2016\"]=2017-df['appointed_year'].astype(int)\n",
    "df[\"years_in_2016\"]=np.where(df[\"years_in_2016\"]==1017,-1,df[\"years_in_2016\"])\n",
    "df['force_count_per_year']=df['force_count']/df[\"years_in_2016\"]\n",
    "df['dept_complaint_cleaned_per_year']=df['dept_complaint_cleaned_count']/df[\"years_in_2016\"]\n",
    "df['civ_complaint_per_year']=df['civ_complaint_count']/df[\"years_in_2016\"]\n",
    "\n",
    "\n",
    "\n",
    "df[\"full_name\"]=df['first_name']+\" \"\n",
    "df[\"full_name\"]=np.where(df[\"middle_initial\"].isna(),df[\"full_name\"],df[\"full_name\"]+df['middle_initial']+\". \")\n",
    "df[\"full_name\"]=np.where(df[\"middle_initial2\"].isna(),df[\"full_name\"],df[\"full_name\"]+df['middle_initial2']+\". \")\n",
    "df[\"full_name\"]=df[\"full_name\"]+df['last_name']\n",
    "df[\"full_name\"]=np.where(df[\"suffix_name\"].isna(),df[\"full_name\"],df[\"full_name\"]+\" \"+df['suffix_name'])\n",
    "\n"
   ]
  },
  {
   "cell_type": "code",
   "execution_count": 83,
   "metadata": {},
   "outputs": [
    {
     "data": {
      "text/plain": [
       "0        0.166667\n",
       "1        0.000000\n",
       "2        0.090909\n",
       "3        0.000000\n",
       "4        0.333333\n",
       "           ...   \n",
       "13114    0.166667\n",
       "13115         NaN\n",
       "13116    0.266667\n",
       "13117    0.000000\n",
       "13118         NaN\n",
       "Name: dept_complaint_cleaned_per_year, Length: 13119, dtype: float64"
      ]
     },
     "execution_count": 83,
     "metadata": {},
     "output_type": "execute_result"
    }
   ],
   "source": [
    "df['dept_complaint_cleaned_per_year']"
   ]
  },
  {
   "cell_type": "code",
   "execution_count": 85,
   "metadata": {},
   "outputs": [],
   "source": [
    "cols_to_keep=['gender', 'race', 'birth_year', 'current_age','appointed_date', 'current_rank', 'unit_description', 'first_name', 'last_name', 'middle_initial', 'suffix_name','UID','dept_complaint_cleaned_count', 'civ_complaint_count','civ_complaint_force', 'civ_complaint_detain', 'civ_complaint_hate','civ_complaint_crime', 'dept_complaint_desc', 'civ_complaint_desc','civ_complaint_force_desc', 'civ_complaint_detain_desc','civ_complaint_hate_desc', 'civ_complaint_crime_desc', 'force_count','weapon_count','trr_count', 'action_force_desc', 'action_weapon_desc']\n",
    "cols_to_keep=['full_name','last_name','birth_year','appointed_date', 'current_rank', 'unit_description','dept_complaint_cleaned_count', 'civ_complaint_count','civ_complaint_force', 'civ_complaint_detain', 'civ_complaint_hate','civ_complaint_crime', 'dept_complaint_cleaned_count_desc', 'civ_complaint_count_desc','civ_complaint_force_desc', 'civ_complaint_detain_desc','civ_complaint_hate_desc', 'civ_complaint_crime_desc', 'force_count','weapon_count','trr_count', 'force_count_desc', 'weapon_count_desc','force_count_per_year','dept_complaint_cleaned_per_year','civ_complaint_per_year','years_in_2016']\n",
    "\n",
    "cols_to_keep_int=['dept_complaint_cleaned_count', 'civ_complaint_count','civ_complaint_force', 'civ_complaint_detain', 'civ_complaint_hate','civ_complaint_crime', 'force_count','weapon_count','trr_count','force_count_per_year','dept_complaint_cleaned_per_year','civ_complaint_per_year','years_in_2016']\n",
    "cols_to_keep_str=['full_name','last_name','birth_year','appointed_date', 'current_rank', 'unit_description']\n",
    "cols_to_keep_list=['dept_complaint_cleaned_count_desc', 'civ_complaint_count_desc','civ_complaint_force_desc', 'civ_complaint_detain_desc','civ_complaint_hate_desc', 'civ_complaint_crime_desc', 'action_force_desc', 'action_weapon_desc']\n",
    "\n",
    "for col in cols_to_keep_int:\n",
    "    df[col]=np.where(df[col].isna(),0,df[col])\n",
    "for col in cols_to_keep_str:\n",
    "    df[col]=np.where(df[col].isna(),\"\",df[col])\n",
    "# for col in cols_to_keep_list:\n",
    "#     df[col]=np.where(df[col].isna(),list(),df[col])\n",
    "\n",
    "\n",
    "df[cols_to_keep].to_json(\"officers_2016.json\",orient=\"records\")\n"
   ]
  },
  {
   "cell_type": "markdown",
   "metadata": {},
   "source": [
    "# Update Department Json"
   ]
  },
  {
   "cell_type": "code",
   "execution_count": 86,
   "metadata": {},
   "outputs": [],
   "source": [
    "import json\n",
    "\n",
    "with open(\"departments.json\") as file:\n",
    "    data = json.load(file)\n",
    "\n",
    "with open(\"officers_2016.json\") as file:\n",
    "    officers = json.load(file)\n",
    "\n",
    "for d in data:\n",
    "    d[\"officers\"]=[]\n",
    "    temp=[]\n",
    "    for officer in officers:\n",
    "        if officer[\"unit_description\"]==d[\"unit_description\"]:\n",
    "            d[\"officers\"].append(officer)\n",
    "\n",
    "with open(\"departments_officers.json\", \"w\") as outfile:\n",
    "    json.dump(data, outfile)\n"
   ]
  },
  {
   "cell_type": "code",
   "execution_count": null,
   "metadata": {},
   "outputs": [],
   "source": [
    "\n",
    "    "
   ]
  },
  {
   "cell_type": "code",
   "execution_count": null,
   "metadata": {},
   "outputs": [
    {
     "data": {
      "text/plain": [
       "                                                                     200812\n",
       "INADEQUATE/FAILURE TO PROVIDE SERVICE                                 15134\n",
       "OPERATION/PERSONNEL VIOLS.:  NEGLECT OF DUTY / CONDUCT UNBECOMING      8517\n",
       "NEGLECT OF DUTY/CONDUCT UNBECOMING - ON DUTY                           8060\n",
       "OPERATION/PERSONNEL VIOLATION: INADEQUATE/FAIL TO PROVIDE SERVICE      7269\n",
       "FEDERAL CIVIL SUIT                                                     1781\n",
       "STATE CIVIL SUIT                                                       1084\n",
       "SEXUAL HARRASSMENT                                                      271\n",
       "OPERATION/PERSONNEL VIOLATION:  COURT IRREGULARITIES                    222\n",
       "MISUSE DEPARTMENT RECORDS                                               202\n",
       "OPERATION/PERSONNEL VIOLATION:  SEXUAL HARRASEMENT                      142\n",
       "COURT IRREGULARITIES                                                    134\n",
       "OPERATION/PERSONNEL VIOLATION:  SECONDARY/SPECIAL EMPLOYMENT            117\n",
       "PROPER ACTION, INITIATE                                                 113\n",
       "SUPERVISOR RESPONSIBILITY:  PROPER ACTION - INITIATE                     89\n",
       "OPERATION/PERSONNEL VIOLATION:  MISUSE OF DEPARTMENT RECORDS             83\n",
       "SUPERVISOR RESPONSIBILITY:  IMPROPER/INADEQUATE INVESTIGATION            77\n",
       "IMPROPER/INADEQUATE INVESTIGATION                                        72\n",
       "SECONDARY/SPECIAL EMPLOYMENT                                             53\n",
       "OPERATION/PERSONNEL VIOL.:  ACT TO CIRCUMVENT PROPER ADMIN ACTION        41\n",
       "SUPERVISOR RESPONSIBILITY:  PROPER DIRECTION - SUBORDINATE               39\n",
       "PROPER DIRECTION - SUBORDINATE                                           37\n",
       "ACT TO CIRCUMVENT PROPER ADMINISTRATIVE ACTION                           22\n",
       "FORWARDED TO OEC FOR INVESTIGATION                                       16\n",
       "INADEQUATE / FAILURE TO PROVIDE SERVICE                                  16\n",
       "OPERATION/PERSONNEL VIOLATION:  UNFIT FOR DUTY                           10\n",
       "UNFIT FOR DUTY                                                            5\n",
       "FORWARDED TO O.E.C.                                                       4\n",
       "WEAPON / AMMUNITION                                                       3\n",
       "CONDUCT UNBECOMING                                                        2\n",
       "NEGLECT OF DUTY                                                           2\n",
       "TRAFFIC PURSUIT                                                           2\n",
       "STREET                                                                    2\n",
       "MISUSE OF DEPARTMENT RECORDS                                              1\n",
       "POLITICAL ACTIVITY                                                        1\n",
       "PROPERLY DIRECT SUBORDINATE                                               1\n",
       "Name: dept_complaint_desc, dtype: int64"
      ]
     },
     "execution_count": 40,
     "metadata": {},
     "output_type": "execute_result"
    }
   ],
   "source": [
    "# temp=df[df.weapon_count>10].action_force_desc\n",
    "# temp[12331]\n",
    "# #df.columns\n",
    "\n",
    "#df.force_count.value_counts()\n",
    "cmp.dept_complaint_desc.value_counts()"
   ]
  }
 ],
 "metadata": {
  "kernelspec": {
   "display_name": "Python 3.10.7 64-bit",
   "language": "python",
   "name": "python3"
  },
  "language_info": {
   "codemirror_mode": {
    "name": "ipython",
    "version": 3
   },
   "file_extension": ".py",
   "mimetype": "text/x-python",
   "name": "python",
   "nbconvert_exporter": "python",
   "pygments_lexer": "ipython3",
   "version": "3.10.7"
  },
  "orig_nbformat": 4,
  "vscode": {
   "interpreter": {
    "hash": "adb2bf8b6556bf81de5750366772a94ffe20ef8871ec544847e0a0e2a34f4fd1"
   }
  }
 },
 "nbformat": 4,
 "nbformat_minor": 2
}
