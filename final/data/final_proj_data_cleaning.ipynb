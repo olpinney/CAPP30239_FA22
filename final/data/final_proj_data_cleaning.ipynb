{
 "cells": [
  {
   "cell_type": "code",
   "execution_count": 41,
   "metadata": {},
   "outputs": [],
   "source": [
    "import os \n",
    "import pandas as pd\n",
    "import numpy as np\n",
    "import matplotlib.pyplot as plt\n",
    "import matplotlib.dates as mdates\n",
    "from datetime import date\n"
   ]
  },
  {
   "cell_type": "markdown",
   "metadata": {},
   "source": [
    "loading in data \n"
   ]
  },
  {
   "cell_type": "code",
   "execution_count": 42,
   "metadata": {},
   "outputs": [
    {
     "data": {
      "text/plain": [
       "'c:\\\\Users\\\\Olivia_Pinney\\\\Documents\\\\UChicago_Materials\\\\Data_Viz\\\\CAPP30239_FA22\\\\final\\\\data'"
      ]
     },
     "execution_count": 42,
     "metadata": {},
     "output_type": "execute_result"
    }
   ],
   "source": [
    "os.getcwd()\n"
   ]
  },
  {
   "cell_type": "markdown",
   "metadata": {},
   "source": [
    "# Department Roster"
   ]
  },
  {
   "cell_type": "code",
   "execution_count": 43,
   "metadata": {},
   "outputs": [],
   "source": [
    "history_roster=pd.read_csv(\"extra_data/roster_1936-2017_2017-04.csv\")\n"
   ]
  },
  {
   "cell_type": "code",
   "execution_count": 44,
   "metadata": {},
   "outputs": [
    {
     "name": "stdout",
     "output_type": "stream",
     "text": [
      "0    131785.0\n",
      "1    131788.0\n",
      "2    131787.0\n",
      "3    131783.0\n",
      "4    131784.0\n",
      "5    131789.0\n",
      "6    131786.0\n",
      "Name: index, dtype: float64\n",
      "(13126, 36)\n",
      "(13119, 36)\n"
     ]
    }
   ],
   "source": [
    "df=history_roster \n",
    "df[\"resignation_date\"]=df[\"resignation_date\"].fillna(\"2999-01-01\")\n",
    "df[\"resignation_year\"]=df[\"resignation_date\"].apply(lambda x: int(str(x)[0:4]))\n",
    "\n",
    "df[\"appointed_date\"]=df[\"appointed_date\"].fillna(\"1000-01-01\")\n",
    "df[\"appointed_year\"]=df[\"appointed_date\"].apply(lambda x: int(str(x)[0:4]))\n",
    "\n",
    "df=df[df[\"appointed_year\"]<2017] #officer in 2016\n",
    "df=df[df[\"resignation_year\"]>2015] #officer in 2016\n",
    "\n",
    "#check that no one is duplicated\n",
    "temp=df.UID.value_counts().reset_index()\n",
    "problem_uids=temp[temp.UID>1][\"index\"]\n",
    "print(problem_uids)\n",
    "print(df.shape)\n",
    "df=df[~(df[\"UID\"].isin(problem_uids) & ~df[\"current_status\"]>0)]\n",
    "print(df.shape)\n"
   ]
  },
  {
   "cell_type": "code",
   "execution_count": 45,
   "metadata": {},
   "outputs": [
    {
     "data": {
      "text/plain": [
       "2016"
      ]
     },
     "execution_count": 45,
     "metadata": {},
     "output_type": "execute_result"
    }
   ],
   "source": [
    "max(df.appointed_year)"
   ]
  },
  {
   "cell_type": "code",
   "execution_count": 142,
   "metadata": {},
   "outputs": [],
   "source": [
    "df[\"unit_cat\"]=np.where(df[\"unit_description\"].isna(),\"OTHER\",\n",
    "    np.where(df[\"unit_description\"].str.contains(\"DISTRICT 0\"),\"DISTRICT\",\n",
    "    np.where(df[\"unit_description\"].str.contains(\"TRAINING\"),\"TRAINING\",\n",
    "    np.where(df[\"unit_description\"].str.contains(\"DETECTIVE\"),\"DETECTIVE\",\n",
    "    np.where(df[\"unit_description\"].str.contains(\"SPECIAL INVESTIGATIONS UNIT\"),\"DETECTIVE\",\n",
    "    np.where(df[\"unit_description\"].str.contains(\"TRAFFIC\"),\"TRANSPORT\",\n",
    "    np.where(df[\"unit_description\"].str.contains(\"TRANSPORT\"),\"TRANSPORT\",\n",
    "    np.where(df[\"unit_description\"].str.contains(\"TRANSIT\"),\"TRANSPORT\",    \n",
    "    np.where(df[\"unit_description\"].str.contains(\"AIRPORT\"),\"TRANSPORT\",\n",
    "    np.where(df[\"unit_description\"].str.contains(\"GANG\"),\"GANG ENFORCEMENT\",\n",
    "    \"OTHER\"\n",
    "    ))))))))))\n"
   ]
  },
  {
   "cell_type": "markdown",
   "metadata": {},
   "source": [
    "# Section of Complaints"
   ]
  },
  {
   "cell_type": "code",
   "execution_count": 143,
   "metadata": {},
   "outputs": [
    {
     "name": "stderr",
     "output_type": "stream",
     "text": [
      "C:\\Users\\Olivia_Pinney\\AppData\\Local\\Temp\\ipykernel_22944\\3007505927.py:1: DtypeWarning: Columns (3,7,8) have mixed types. Specify dtype option on import or set low_memory=False.\n",
      "  complaints=pd.read_csv(\"extra_data/complaints-accused.csv\")\n",
      "C:\\Users\\Olivia_Pinney\\AppData\\Local\\Temp\\ipykernel_22944\\3007505927.py:2: DtypeWarning: Columns (0,5,6,7,8,9,10) have mixed types. Specify dtype option on import or set low_memory=False.\n",
      "  complaints_detailed=pd.read_csv(\"extra_data/complaints-complaints.csv\")\n"
     ]
    }
   ],
   "source": [
    "complaints=pd.read_csv(\"extra_data/complaints-accused.csv\")\n",
    "complaints_detailed=pd.read_csv(\"extra_data/complaints-complaints.csv\")\n",
    "complaint_types=pd.read_csv(\"extra_data/Complaint Categories.csv\")\n",
    "\n",
    "cmp= complaints.merge(complaints_detailed[[\"cr_id\", \"complaint_date\"]],on=\"cr_id\",how=\"left\")\n",
    "cmp[\"code\"]=cmp[\"complaint_code\"]\n",
    "complaint_types=complaint_types[~pd.isna(complaint_types[\"111\"])]\n",
    "complaint_types[\"code\"]=complaint_types[\"111\"]\n",
    "cmp= cmp.merge(complaint_types,on=\"code\",how=\"left\")"
   ]
  },
  {
   "cell_type": "code",
   "execution_count": 144,
   "metadata": {},
   "outputs": [],
   "source": [
    "#complaint results: did not end up using\n",
    "comp_cat={\"NAF\":\"No Affidavit\", \"EX\":\"Complaint Dismissed\", \"UN\":\"Complaint Dismissed\",\"NS\":\"Insufficient Evidence\",\"SU\":\"Complaint Accepted\", \"DIS\":\"Complaint Accepted\",\"NC\":\"Missing Complaint Type\",\"Missing\":\"Missing\"}\n",
    "\n",
    "dept_exclude=[\"OPERATION/PERSONNEL VIOLATION:  MISCELLANEOUS\",\"MISCELLANEOUS\", \"OPERATION/PERSONNEL VIOLATION:  REPORTS - FAIL TO SUBMIT/IMPROPER\", \"OPERATION/PERSONNEL VIOLATION:  INVENTORY PROCEDURES\",\"REPORTS - FAILED TO SUBMIT/IMPROPER\",\"INVENTORY PROCEDURES\",\"OPERATION/PERSONNEL VIOLATION: COMMUNICATION OPERATION PROCEDURES\",\"COMMUNICATION OPERATIONS PROCEDURES\",\"OPERATION/PERSONNEL VIOLATION:  VEHICLE LICENSING - CITY\",\"MISUSE OF DEPARTMENT EQUIPMENT/SUPPLIES\",\"INSUBORDINATION\",\"OPERATION/PERSONNEL VIOLATION:  INSUBORDINATION\",\"MEDICAL ROLL\",\"OPERATION/PERSONNEL VIOLATION:  MEDICAL ROLL\",\"OPERATION/PERSONNEL VIOLATION:  WEAPON/AMMUN./UNIFORM DEVIATION\",\"FAIL TO OBTAIN A COMPLAINT REGISTER NUMBER\",\"OPERATION/PERSONNEL VIOLATION: MISUSE OF DEPT. EQUIPMENT/SUPPLIES\",\"OPERATION/PERSONNEL VIOLATION:  ABSENT WITHOUT PERMISSION\",\"WEAPON/AMMUNITION/UNIFORM DEVIATION\",\"SUPERVISOR RESPONSIBILITY:  FAIL TO OBTAIN COMPLAINT REGISTER NO.\",\"SUPERVISOR RESPONSIBILITY:  MISCELLANEOUS\",\"OPERATION/PERSONNEL VIOLATION:  LEAVING ASGMT (DIST/BEAT/SECT/CT)\",\"ABSENT WITHOUT PERMISSION\",\"OPERATION/PERSONNEL VIOLATION:  RESIDENCY\",\"LEAVING ASSIGNMENT (DISTRICT, BEAT, SECTOR, COURT)\",\"RESIDENCY\",\"OPERATION/PERSONNEL VIOLATION:  COMPENSATORY TIME\",\"VEHICLE LICENSING - CITY\",\"OPERATION/PERSONNEL VIOLATION:  LATE FOR ROLL CALL/ASSIGNMENT/CT.\",\"COMPENSATORY TIME\",\"SUPVR. RESPONSIBILITY:  PROPER ACTION REVIEW/INSPECT- SUBORDINATE\",\"OPERATION/PERSONNEL VIOLATION:  LUNCH/PERSONAL\",\"LATE - ROLL CALL/ASSIGNMENT/COURT\",\"LUNCH/PERSONAL VIOLATIONS\",\"PROPER ACTION REVIEW/INSPECT - SUBORDINATE\",\"EQUIPMENT IRREGULARITY\"]\n",
    "\n",
    "force=[\"EXCESSIVE FORCE\",\"STRIKE\",\"ASSAULT\",\"BATTERY\",\"PUSH\",\"PULL\",\"GRAB\",\"CHOKED\",\"KICKED\",\"DRAGGED\",\"TASER\",\"SHOTS FIRED\",\"COERCION - VIOLENCE\",\"MURDER\",\"MANSLAUGHTER\",\"TAKE DOWN\",\"INJURY\",\"DEATH\",\"FIREARM\",\"WEAPON\",\"PHYSICAL CONTACT\"]\n",
    "detain=[\"DETENTION\",\"WARRANT\",\"SEARCH\",\"ARRESTEE\",\"ARREST\",\"LOCKUP\",\"BONDING\",\"BOOKING\",\"PROCESSING\",\"PRISONER'S PROPERTY\", \"PRISONERS PROPERTY\"]\n",
    "hate=[\"RACIAL\",\"SEXUAL ORIENTATION\",\"VERBAL ABUSE\", \"USE OF PROFANITY\", \"THREATS\"]\n",
    "crime=[\"COMMISSION OF CRIME\", \"DAMAGE\",\"TRESPASSING\", \"BURGLARY\", \"THEFT\", \"FELONY\",\"DRUGS\",\"CONTR. SUB\", \"ROBBERY\", \"SHOPLIFTING\",\"DOMESTIC\",\"RAPE\"]\n"
   ]
  },
  {
   "cell_type": "code",
   "execution_count": 145,
   "metadata": {},
   "outputs": [],
   "source": [
    "cmp[\"civ_complaint_force\"]=False\n",
    "cmp[\"civ_complaint_detain\"]=False\n",
    "cmp[\"civ_complaint_hate\"]=False\n",
    "cmp[\"civ_complaint_crime\"]=False\n",
    "\n",
    "cmp[\"civ_complaint_count\"]=np.where(cmp[\"CITIZEN / DEPT\"]==\"CITIZEN\",1,0)\n",
    "cmp[\"civ_complaint_count_desc\"]=np.where(cmp[\"civ_complaint_count\"],cmp.complaint_category,\"\")\n",
    "cmp[\"civ_complaint_count_desc\"]=np.where(cmp[\"civ_complaint_count_desc\"].isna(),\"Missing\",cmp[\"civ_complaint_count_desc\"])\n",
    "\n",
    "for word in force:\n",
    "    cmp[\"civ_complaint_force\"]=np.where(cmp[\"civ_complaint_count_desc\"].str.contains(word,case=False),True,cmp[\"civ_complaint_force\"])\n",
    "for word in detain:\n",
    "    cmp[\"civ_complaint_detain\"]=np.where(cmp[\"civ_complaint_count_desc\"].str.contains(word,case=False),True,cmp[\"civ_complaint_detain\"])\n",
    "for word in hate:\n",
    "    cmp[\"civ_complaint_hate\"]=np.where(cmp[\"civ_complaint_count_desc\"].str.contains(word,case=False),True,cmp[\"civ_complaint_hate\"])\n",
    "for word in crime:\n",
    "    cmp[\"civ_complaint_crime\"]=np.where(cmp[\"civ_complaint_count_desc\"].str.contains(word,case=False),True,cmp[\"civ_complaint_crime\"])\n",
    "\n",
    "duplicate_words_detain=[\"EXCESSIVE FORCE:  ARRESTEE\",\"EXCESSIVE FORCE:  NO ARREST\"]\n",
    "duplicate_words_force=[\"COMMISSION OF CRIME:  ASSAULT/BATTERY\",\"COMMISSION OF CRIME:  MURDER/MANSLAUGHTER ETC\",\"ARREST/LOCKUP PROCEDURE:  PROPER CARE/INJURY/DEATH\"]\n",
    "duplicate_words_crime=[\"EXCESSIVE FORCE:  DOMESTIC\"]\n",
    "\n",
    "#this is code to identify duplicate words \n",
    "#cmp[[\"civ_complaint_count\",\"civ_complaint_force\",\"civ_complaint_detain\",\"civ_complaint_hate\",\"civ_complaint_crime\"]].value_counts()\n",
    "#cmp.loc[(cmp[\"civ_complaint_force\"]==True) & (cmp[\"civ_complaint_detain\"]==True)][\"civ_complaint_count_desc\"].value_counts()\n",
    "\n",
    "for word in duplicate_words_force:\n",
    "    cmp[\"civ_complaint_force\"]=np.where(cmp[\"civ_complaint_count_desc\"].str.contains(word,case=False),False,cmp[\"civ_complaint_force\"])\n",
    "for word in duplicate_words_detain:\n",
    "    cmp[\"civ_complaint_detain\"]=np.where(cmp[\"civ_complaint_count_desc\"].str.contains(word,case=False),False,cmp[\"civ_complaint_detain\"])\n",
    "for word in duplicate_words_crime:\n",
    "    cmp[\"civ_complaint_crime\"]=np.where(cmp[\"civ_complaint_count_desc\"].str.contains(word,case=False),False,cmp[\"civ_complaint_crime\"])\n"
   ]
  },
  {
   "cell_type": "code",
   "execution_count": 146,
   "metadata": {},
   "outputs": [],
   "source": [
    "cmp[\"comp_cat\"]=np.where(cmp.final_finding.isna(),\"Missing\",cmp.final_finding)\n",
    "cmp[\"comp_cat\"]=cmp[\"comp_cat\"].replace(comp_cat)\n",
    "\n",
    "cmp[\"dept_complaint_count\"]=np.where(cmp[\"CITIZEN / DEPT\"]==\"DEPT\",True,False)\n",
    "cmp[\"dept_complaint_cleaned_count\"]=np.where(cmp[\"CITIZEN / DEPT\"]==\"DEPT\",np.where(cmp.complaint_category.isin(dept_exclude),False,True),False)\n",
    "cmp[\"dept_complaint_cleaned_count_desc\"]=np.where(cmp[\"dept_complaint_cleaned_count\"],cmp.complaint_category,\"\")\n",
    "\n",
    "cmp[\"civ_complaint_cat\"]=np.where(cmp.civ_complaint_force,\"FORCE\",\n",
    "    np.where(cmp.civ_complaint_detain,\"DETAIN\",\n",
    "    np.where(cmp.civ_complaint_hate,\"HATE\",\n",
    "    np.where(cmp.civ_complaint_crime,\"CRIME\",\n",
    "    np.where(cmp.civ_complaint_count,\"OTHER\",\"\")))))\n",
    "    \n",
    "#checking count made correctly\n",
    "#cmp[cmp.dept_complaint_count==1][[\"complaint_category\",\"dept_complaint_cleaned_count\"]].value_counts()"
   ]
  },
  {
   "cell_type": "markdown",
   "metadata": {},
   "source": [
    "## This is where I can redo to get value counts"
   ]
  },
  {
   "cell_type": "code",
   "execution_count": 147,
   "metadata": {},
   "outputs": [],
   "source": [
    "cmp_counts=cmp.groupby(\"UID\",as_index=False).agg({\"dept_complaint_count\":\"sum\",\"dept_complaint_cleaned_count\":\"sum\",\"civ_complaint_count\":\"sum\",\"civ_complaint_force\":\"sum\",\"civ_complaint_detain\":\"sum\",\"civ_complaint_hate\":\"sum\",\"civ_complaint_crime\":\"sum\"})\n",
    "df=df.merge(cmp_counts,on=\"UID\",how=\"left\")\n",
    "\n",
    "counts=[\"dept_complaint_cleaned_count\",\"civ_complaint_count\",\"civ_complaint_force\",\"civ_complaint_detain\",\"civ_complaint_hate\",\"civ_complaint_crime\"]\n",
    "col_names=[\"dept_complaint_cleaned_count_desc\",\"civ_complaint_count_desc\",\"civ_complaint_force_desc\",\"civ_complaint_detain_desc\",\"civ_complaint_hate_desc\",\"civ_complaint_crime_desc\"]\n",
    "for i, count in enumerate(counts):\n",
    "    temp=cmp[cmp[count]==True].groupby(\"UID\")[\"complaint_category\"].apply(list).reset_index()\n",
    "    temp.columns=[\"UID\",col_names[i]]\n",
    "    df=df.merge(temp,on=\"UID\",how=\"left\")\n"
   ]
  },
  {
   "cell_type": "markdown",
   "metadata": {},
   "source": [
    "## TTR"
   ]
  },
  {
   "cell_type": "code",
   "execution_count": 148,
   "metadata": {},
   "outputs": [],
   "source": [
    "trr_overall=pd.read_csv(\"extra_data/TRR-main_2004-2016_2016-09.csv\")\n",
    "trr_subjects=pd.read_csv(\"extra_data/TRR-subjects_2004-2016_2016-09.csv\")\n",
    "trr_officers=pd.read_csv(\"extra_data/TRR-officers_2004-2016_2016-09.csv\")\n",
    "trr_actions=pd.read_csv(\"extra_data/TRR-actions-responses_2004-2016_2016-09.csv\")\n",
    "\n",
    "trr=trr_overall.merge(trr_officers,on=\"trr_id\",suffixes=(\"\",\"_officer\")) #,how=\"left\"\n",
    "trr=trr.merge(trr_subjects,on=\"trr_id\",suffixes=(\"\",\"_subject\")) #,how=\"left\"\n",
    "trr=trr.merge(trr_actions[trr_actions.person==\"Member Action\"],on=\"trr_id\",suffixes=(\"\",\"_subject\"))\n",
    "\n",
    "trr[\"trr_year\"]=trr[\"trr_date\"].apply(lambda x: int(str(x)[0:4]))\n"
   ]
  },
  {
   "cell_type": "code",
   "execution_count": 149,
   "metadata": {},
   "outputs": [],
   "source": [
    "action_cat={\"Missing\":\"Missing\",\"Verbal Commands\":\"Other\",\"Member Presence\":\"Other\",\"Physical Force - Stunning\":\"Use of Force\",\"Physical Force - Holding\":\"Use of Force\",\"Physical Force - Direct Mechanical\":\"Use of Force\",\"Other Force\":\"Use of Force\",\"Taser\":\"Use of Weapon\",\"Chemical\":\"Use of Weapon\",\"Impact Weapon\":\"Use of Weapon\",\"Firearm\":\"Use of Weapon\",\"Taser Display\":\"Other\",\"Chemical (Authorized)\":\"Use of Weapon\",\"Other\":\"Other\"} "
   ]
  },
  {
   "cell_type": "code",
   "execution_count": 150,
   "metadata": {},
   "outputs": [],
   "source": [
    "trr[\"force_cat\"]=np.where(trr.force_type.isna(),\"Missing\",trr.force_type.replace(action_cat))\n",
    "trr[\"count\"]=True\n",
    "trr[\"weapon_count\"]=np.where(trr[\"force_cat\"]==\"Use of Weapon\",True,False)\n",
    "trr[\"force_count\"]=np.where(trr[\"force_cat\"]==\"Use of Force\",True,trr[\"weapon_count\"])\n",
    "trr[\"trr_count\"]=np.where(trr[\"force_cat\"]==\"Other\",True,trr[\"force_count\"])\n",
    "\n"
   ]
  },
  {
   "cell_type": "markdown",
   "metadata": {},
   "source": [
    "## Also can update TRR here to get better lists"
   ]
  },
  {
   "cell_type": "code",
   "execution_count": 151,
   "metadata": {},
   "outputs": [],
   "source": [
    "trr_counts=trr.groupby(\"UID\",as_index=False).agg({\"force_count\":\"sum\",\"weapon_count\":\"sum\",\"trr_count\":\"sum\"})\n",
    "    \n",
    "df=df.merge(trr_counts,on=\"UID\",how=\"left\")\n",
    "\n",
    "counts=[\"force_count\",\"weapon_count\",\"trr_count\"]\n",
    "col_names=[\"force_count_desc\",\"weapon_count_desc\",\"trr_count_desc\"]\n",
    "for i, count in enumerate(counts):\n",
    "    temp=trr[trr[count]==True].groupby(\"UID\")[\"action\"].apply(list).reset_index()\n",
    "    temp.columns=[\"UID\",col_names[i]]\n",
    "    df=df.merge(temp,on=\"UID\",how=\"left\")\n"
   ]
  },
  {
   "cell_type": "markdown",
   "metadata": {},
   "source": [
    "# Export"
   ]
  },
  {
   "cell_type": "code",
   "execution_count": 152,
   "metadata": {},
   "outputs": [],
   "source": [
    "col_names=[\"force_count\",\"weapon_count\",\"trr_count\",\"dept_complaint_count\",\"dept_complaint_cleaned_count\",\"civ_complaint_count\",\"civ_complaint_force\",\"civ_complaint_detain\",\"civ_complaint_hate\",\"civ_complaint_crime\"]\n",
    "\n",
    "for col in col_names:\n",
    "    df[col+\"_persons_with\"]=np.where(df[col]>0,1,0)"
   ]
  },
  {
   "cell_type": "code",
   "execution_count": 153,
   "metadata": {},
   "outputs": [],
   "source": [
    "df[\"one\"]=1\n",
    "unit_all=df.groupby(\"unit_description\").agg({\"UID\":\"count\",\"force_count\":\"sum\",\"weapon_count\":\"sum\",\"trr_count\":\"sum\",\"dept_complaint_count\":\"sum\",\"dept_complaint_cleaned_count\":\"sum\",\"civ_complaint_count\":\"sum\",\"civ_complaint_force\":\"sum\",\"civ_complaint_detain\":\"sum\",\"civ_complaint_hate\":\"sum\",\"civ_complaint_crime\":\"sum\",\"force_count_persons_with\":\"sum\",\"weapon_count_persons_with\":\"sum\",\"trr_count_persons_with\":\"sum\",\"dept_complaint_count_persons_with\":\"sum\",\"dept_complaint_cleaned_count_persons_with\":\"sum\",\"civ_complaint_count_persons_with\":\"sum\",\"civ_complaint_force_persons_with\":\"sum\",\"civ_complaint_detain_persons_with\":\"sum\",\"civ_complaint_hate_persons_with\":\"sum\",\"civ_complaint_crime_persons_with\":\"sum\"}).reset_index()\n",
    "unit_cats=df.groupby(\"unit_cat\").agg({\"UID\":\"count\",\"force_count\":\"sum\",\"weapon_count\":\"sum\",\"trr_count\":\"sum\",\"dept_complaint_count\":\"sum\",\"dept_complaint_cleaned_count\":\"sum\",\"civ_complaint_count\":\"sum\",\"civ_complaint_force\":\"sum\",\"civ_complaint_detain\":\"sum\",\"civ_complaint_hate\":\"sum\",\"civ_complaint_crime\":\"sum\",\"force_count_persons_with\":\"sum\",\"weapon_count_persons_with\":\"sum\",\"trr_count_persons_with\":\"sum\",\"dept_complaint_count_persons_with\":\"sum\",\"dept_complaint_cleaned_count_persons_with\":\"sum\",\"civ_complaint_count_persons_with\":\"sum\",\"civ_complaint_force_persons_with\":\"sum\",\"civ_complaint_detain_persons_with\":\"sum\",\"civ_complaint_hate_persons_with\":\"sum\",\"civ_complaint_crime_persons_with\":\"sum\"}).reset_index()\n",
    "#unit_total=df.groupby(\"one\").agg({\"UID\":\"count\",\"force_count\":\"sum\",\"weapon_count\":\"sum\",\"trr_count\":\"sum\",\"dept_complaint_count\":\"sum\",\"dept_complaint_cleaned_count\":\"sum\",\"civ_complaint_count\":\"sum\",\"civ_complaint_force\":\"sum\",\"civ_complaint_detain\":\"sum\",\"civ_complaint_hate\":\"sum\",\"civ_complaint_crime\":\"sum\",\"force_count_persons_with\":\"sum\",\"weapon_count_persons_with\":\"sum\",\"trr_count_persons_with\":\"sum\",\"dept_complaint_count_persons_with\":\"sum\",\"dept_complaint_cleaned_count_persons_with\":\"sum\",\"civ_complaint_count_persons_with\":\"sum\",\"civ_complaint_force_persons_with\":\"sum\",\"civ_complaint_detain_persons_with\":\"sum\",\"civ_complaint_hate_persons_with\":\"sum\",\"civ_complaint_crime_persons_with\":\"sum\"}).reset_index()\n",
    "unit_total=df[df.unit_description!=\"RECRUIT TRAINING SECTION\"].groupby(\"one\").agg({\"UID\":\"count\",\"force_count\":\"sum\",\"weapon_count\":\"sum\",\"force_count_persons_with\":\"sum\",\"weapon_count_persons_with\":\"sum\"}).reset_index()\n",
    "\n",
    "for col in col_names:\n",
    "    unit_all[col+\"_persons_with_p\"]=unit_all[col+\"_persons_with\"]/unit_all[\"UID\"]\n",
    "    unit_cats[col+\"_persons_with_p\"]=unit_cats[col+\"_persons_with\"]/unit_cats[\"UID\"]\n",
    "\n",
    "unit_all.to_json(\"departments.json\",orient=\"records\")\n",
    "unit_cats.to_json(\"departments_cats.json\",orient=\"records\")\n",
    "unit_total.to_json(\"total_force.json\",orient=\"records\")\n"
   ]
  },
  {
   "cell_type": "markdown",
   "metadata": {},
   "source": [
    "Need to fix this years in 2016. why am i getting negative?"
   ]
  },
  {
   "cell_type": "code",
   "execution_count": 154,
   "metadata": {},
   "outputs": [],
   "source": [
    "df['appointed_year']=df['appointed_date'].apply(lambda x: str(x)[0:4])\n",
    "df['appointed_year']=df['appointed_year'].astype(\"int\") \n",
    "\n",
    "df[\"years_in_2016\"]=2017-df['appointed_year'].astype(int)\n",
    "df[\"years_in_2016\"]=np.where(df[\"years_in_2016\"]==1017,-1,df[\"years_in_2016\"])\n",
    "# df['force_count_per_year']=df['force_count']/df[\"years_in_2016\"]\n",
    "# df['dept_complaint_cleaned_per_year']=df['dept_complaint_cleaned_count']/df[\"years_in_2016\"]\n",
    "# df['civ_complaint_per_year']=df['civ_complaint_count']/df[\"years_in_2016\"]\n",
    "\n",
    "df[\"full_name\"]=df['first_name']+\" \"\n",
    "df[\"full_name\"]=np.where(df[\"middle_initial\"].isna(),df[\"full_name\"],df[\"full_name\"]+df['middle_initial']+\". \")\n",
    "df[\"full_name\"]=np.where(df[\"middle_initial2\"].isna(),df[\"full_name\"],df[\"full_name\"]+df['middle_initial2']+\". \")\n",
    "df[\"full_name\"]=df[\"full_name\"]+df['last_name']\n",
    "df[\"full_name\"]=np.where(df[\"suffix_name\"].isna(),df[\"full_name\"],df[\"full_name\"]+\" \"+df['suffix_name'])\n",
    "\n"
   ]
  },
  {
   "cell_type": "code",
   "execution_count": 155,
   "metadata": {},
   "outputs": [],
   "source": [
    "# df['dept_complaint_cleaned_per_year']"
   ]
  },
  {
   "cell_type": "code",
   "execution_count": 156,
   "metadata": {},
   "outputs": [],
   "source": [
    "cols_to_keep=['gender', 'race', 'birth_year', 'current_age','appointed_date', 'current_rank', 'unit_description', 'first_name', 'last_name', 'middle_initial', 'suffix_name','UID','dept_complaint_cleaned_count', 'civ_complaint_count','civ_complaint_force', 'civ_complaint_detain', 'civ_complaint_hate','civ_complaint_crime', 'dept_complaint_desc', 'civ_complaint_desc','civ_complaint_force_desc', 'civ_complaint_detain_desc','civ_complaint_hate_desc', 'civ_complaint_crime_desc', 'force_count','weapon_count','trr_count', 'action_force_desc', 'action_weapon_desc']\n",
    "cols_to_keep=['full_name','last_name','birth_year','appointed_date', 'current_rank', 'unit_description','dept_complaint_cleaned_count', 'civ_complaint_count','civ_complaint_force', 'civ_complaint_detain', 'civ_complaint_hate','civ_complaint_crime', 'dept_complaint_cleaned_count_desc', 'civ_complaint_count_desc','civ_complaint_force_desc', 'civ_complaint_detain_desc','civ_complaint_hate_desc', 'civ_complaint_crime_desc', 'force_count','weapon_count','trr_count', 'force_count_desc', 'weapon_count_desc','years_in_2016']\n",
    "\n",
    "cols_to_keep_int=['dept_complaint_cleaned_count', 'civ_complaint_count','civ_complaint_force', 'civ_complaint_detain', 'civ_complaint_hate','civ_complaint_crime', 'force_count','weapon_count','trr_count','years_in_2016']\n",
    "cols_to_keep_str=['full_name','last_name','birth_year','appointed_date', 'current_rank', 'unit_description']\n",
    "cols_to_keep_list=['dept_complaint_cleaned_count_desc', 'civ_complaint_count_desc','civ_complaint_force_desc', 'civ_complaint_detain_desc','civ_complaint_hate_desc', 'civ_complaint_crime_desc', 'action_force_desc', 'action_weapon_desc']\n",
    "\n",
    "for col in cols_to_keep_int:\n",
    "    df[col]=np.where(df[col].isna(),0,df[col])\n",
    "for col in cols_to_keep_str:\n",
    "    df[col]=np.where(df[col].isna(),\"\",df[col])\n",
    "# for col in cols_to_keep_list:\n",
    "#     df[col]=np.where(df[col].isna(),list(),df[col])\n",
    "\n",
    "\n",
    "df[cols_to_keep].to_json(\"officers_2016.json\",orient=\"records\")\n"
   ]
  },
  {
   "cell_type": "markdown",
   "metadata": {},
   "source": [
    "# Update Department Json"
   ]
  },
  {
   "cell_type": "code",
   "execution_count": 157,
   "metadata": {},
   "outputs": [],
   "source": [
    "import json\n",
    "\n",
    "with open(\"departments.json\") as file:\n",
    "    data = json.load(file)\n",
    "\n",
    "with open(\"officers_2016.json\") as file:\n",
    "    officers = json.load(file)\n",
    "\n",
    "for d in data:\n",
    "    d[\"officers\"]=[]\n",
    "    temp=[]\n",
    "    for officer in officers:\n",
    "        if officer[\"unit_description\"]==d[\"unit_description\"]:\n",
    "            d[\"officers\"].append(officer)\n",
    "\n",
    "with open(\"departments_officers.json\", \"w\") as outfile:\n",
    "    json.dump(data, outfile)\n"
   ]
  },
  {
   "cell_type": "markdown",
   "metadata": {},
   "source": [
    "# Make JSON with Colors"
   ]
  },
  {
   "cell_type": "markdown",
   "metadata": {},
   "source": [
    "## edits:\n",
    "need to add district names\n",
    "fix other order\n",
    "fix text wrap\n"
   ]
  },
  {
   "cell_type": "code",
   "execution_count": 158,
   "metadata": {},
   "outputs": [],
   "source": [
    "districts=pd.read_csv(\"extra_data/Districts.csv\")"
   ]
  },
  {
   "cell_type": "code",
   "execution_count": 159,
   "metadata": {},
   "outputs": [
    {
     "data": {
      "text/html": [
       "<div>\n",
       "<style scoped>\n",
       "    .dataframe tbody tr th:only-of-type {\n",
       "        vertical-align: middle;\n",
       "    }\n",
       "\n",
       "    .dataframe tbody tr th {\n",
       "        vertical-align: top;\n",
       "    }\n",
       "\n",
       "    .dataframe thead th {\n",
       "        text-align: right;\n",
       "    }\n",
       "</style>\n",
       "<table border=\"1\" class=\"dataframe\">\n",
       "  <thead>\n",
       "    <tr style=\"text-align: right;\">\n",
       "      <th></th>\n",
       "      <th>District_No</th>\n",
       "      <th>District_Name</th>\n",
       "      <th>Population</th>\n",
       "      <th>Latino</th>\n",
       "      <th>White</th>\n",
       "      <th>Black</th>\n",
       "      <th>Native_American</th>\n",
       "      <th>Asian</th>\n",
       "      <th>Other</th>\n",
       "      <th>Latino%</th>\n",
       "      <th>White%</th>\n",
       "      <th>Black%</th>\n",
       "      <th>Native_American%</th>\n",
       "      <th>Asian%</th>\n",
       "      <th>Other%</th>\n",
       "      <th>Majority</th>\n",
       "      <th>District_No_str</th>\n",
       "      <th>District_Id</th>\n",
       "      <th>District_Title</th>\n",
       "    </tr>\n",
       "  </thead>\n",
       "  <tbody>\n",
       "    <tr>\n",
       "      <th>0</th>\n",
       "      <td>1</td>\n",
       "      <td>Central</td>\n",
       "      <td>62,781</td>\n",
       "      <td>3,766</td>\n",
       "      <td>32,952</td>\n",
       "      <td>13,452</td>\n",
       "      <td>95</td>\n",
       "      <td>10,790</td>\n",
       "      <td>1,726</td>\n",
       "      <td>6%</td>\n",
       "      <td>52%</td>\n",
       "      <td>21%</td>\n",
       "      <td>0%</td>\n",
       "      <td>17%</td>\n",
       "      <td>3%</td>\n",
       "      <td>White</td>\n",
       "      <td>1</td>\n",
       "      <td>DISTRICT 001</td>\n",
       "      <td>001: Central</td>\n",
       "    </tr>\n",
       "    <tr>\n",
       "      <th>1</th>\n",
       "      <td>2</td>\n",
       "      <td>Wentworth</td>\n",
       "      <td>95,439</td>\n",
       "      <td>3,242</td>\n",
       "      <td>17,747</td>\n",
       "      <td>65,993</td>\n",
       "      <td>138</td>\n",
       "      <td>5,837</td>\n",
       "      <td>2,482</td>\n",
       "      <td>3%</td>\n",
       "      <td>19%</td>\n",
       "      <td>69%</td>\n",
       "      <td>0%</td>\n",
       "      <td>6%</td>\n",
       "      <td>3%</td>\n",
       "      <td>Black</td>\n",
       "      <td>2</td>\n",
       "      <td>DISTRICT 002</td>\n",
       "      <td>002: Wentworth</td>\n",
       "    </tr>\n",
       "    <tr>\n",
       "      <th>2</th>\n",
       "      <td>3</td>\n",
       "      <td>Grand Crossing</td>\n",
       "      <td>75,235</td>\n",
       "      <td>1,123</td>\n",
       "      <td>1,472</td>\n",
       "      <td>71,010</td>\n",
       "      <td>169</td>\n",
       "      <td>312</td>\n",
       "      <td>1,149</td>\n",
       "      <td>1%</td>\n",
       "      <td>2%</td>\n",
       "      <td>94%</td>\n",
       "      <td>0%</td>\n",
       "      <td>0%</td>\n",
       "      <td>2%</td>\n",
       "      <td>Black</td>\n",
       "      <td>3</td>\n",
       "      <td>DISTRICT 003</td>\n",
       "      <td>003: Grand Crossing</td>\n",
       "    </tr>\n",
       "    <tr>\n",
       "      <th>3</th>\n",
       "      <td>4</td>\n",
       "      <td>South Chicago</td>\n",
       "      <td>123,575</td>\n",
       "      <td>35,381</td>\n",
       "      <td>9,925</td>\n",
       "      <td>76,399</td>\n",
       "      <td>223</td>\n",
       "      <td>258</td>\n",
       "      <td>1,389</td>\n",
       "      <td>29%</td>\n",
       "      <td>8%</td>\n",
       "      <td>62%</td>\n",
       "      <td>0%</td>\n",
       "      <td>0%</td>\n",
       "      <td>1%</td>\n",
       "      <td>Black</td>\n",
       "      <td>4</td>\n",
       "      <td>DISTRICT 004</td>\n",
       "      <td>004: South Chicago</td>\n",
       "    </tr>\n",
       "    <tr>\n",
       "      <th>4</th>\n",
       "      <td>5</td>\n",
       "      <td>Calumet</td>\n",
       "      <td>74,396</td>\n",
       "      <td>2,524</td>\n",
       "      <td>843</td>\n",
       "      <td>70,064</td>\n",
       "      <td>118</td>\n",
       "      <td>38</td>\n",
       "      <td>809</td>\n",
       "      <td>3%</td>\n",
       "      <td>1%</td>\n",
       "      <td>94%</td>\n",
       "      <td>0%</td>\n",
       "      <td>0%</td>\n",
       "      <td>1%</td>\n",
       "      <td>Black</td>\n",
       "      <td>5</td>\n",
       "      <td>DISTRICT 005</td>\n",
       "      <td>005: Calumet</td>\n",
       "    </tr>\n",
       "  </tbody>\n",
       "</table>\n",
       "</div>"
      ],
      "text/plain": [
       "   District_No   District_Name Population  Latino   White   Black  \\\n",
       "0            1         Central     62,781   3,766  32,952  13,452   \n",
       "1            2       Wentworth     95,439   3,242  17,747  65,993   \n",
       "2            3  Grand Crossing     75,235   1,123   1,472  71,010   \n",
       "3            4   South Chicago    123,575  35,381   9,925  76,399   \n",
       "4            5         Calumet     74,396   2,524     843  70,064   \n",
       "\n",
       "   Native_American   Asian  Other Latino% White% Black% Native_American%  \\\n",
       "0               95  10,790  1,726      6%    52%    21%               0%   \n",
       "1              138   5,837  2,482      3%    19%    69%               0%   \n",
       "2              169     312  1,149      1%     2%    94%               0%   \n",
       "3              223     258  1,389     29%     8%    62%               0%   \n",
       "4              118      38    809      3%     1%    94%               0%   \n",
       "\n",
       "  Asian% Other% Majority District_No_str   District_Id       District_Title  \n",
       "0    17%     3%    White               1  DISTRICT 001         001: Central  \n",
       "1     6%     3%    Black               2  DISTRICT 002       002: Wentworth  \n",
       "2     0%     2%    Black               3  DISTRICT 003  003: Grand Crossing  \n",
       "3     0%     1%    Black               4  DISTRICT 004   004: South Chicago  \n",
       "4     0%     1%    Black               5  DISTRICT 005         005: Calumet  "
      ]
     },
     "execution_count": 159,
     "metadata": {},
     "output_type": "execute_result"
    }
   ],
   "source": [
    "districts[\"District_No_str\"]=districts[\"District_No\"].astype(str)\n",
    "districts[\"District_Id\"]=np.where(districts[\"District_No\"]>9,\"DISTRICT 0\"+districts[\"District_No_str\"],\"DISTRICT 00\"+districts[\"District_No_str\"])\n",
    "districts[\"District_Title\"]=np.where(districts[\"District_No\"]>9,\"0\"+districts[\"District_No_str\"]+\": \"+districts[\"District_Name\"],\"00\"+districts[\"District_No_str\"]+\": \"+districts[\"District_Name\"])\n",
    "\n",
    "# districts.set_index(\"District_Id\")\n",
    "districts.head()\n"
   ]
  },
  {
   "cell_type": "code",
   "execution_count": 160,
   "metadata": {},
   "outputs": [
    {
     "name": "stdout",
     "output_type": "stream",
     "text": [
      "6    007: Englewood\n",
      "Name: District_Title, dtype: object\n",
      "10    011: Harrison\n",
      "Name: District_Title, dtype: object\n",
      "7    008: Chicago Lawn\n",
      "Name: District_Title, dtype: object\n",
      "2    003: Grand Crossing\n",
      "Name: District_Title, dtype: object\n",
      "17    019: Town Hall\n",
      "Name: District_Title, dtype: object\n",
      "5    006: Gresham\n",
      "Name: District_Title, dtype: object\n",
      "1    002: Wentworth\n",
      "Name: District_Title, dtype: object\n",
      "9    010: Ogden\n",
      "Name: District_Title, dtype: object\n",
      "4    005: Calumet\n",
      "Name: District_Title, dtype: object\n",
      "11    012: Near West\n",
      "Name: District_Title, dtype: object\n",
      "13    015: Austin\n",
      "Name: District_Title, dtype: object\n",
      "3    004: South Chicago\n",
      "Name: District_Title, dtype: object\n",
      "8    009: Deering\n",
      "Name: District_Title, dtype: object\n",
      "21    025: Grand Central\n",
      "Name: District_Title, dtype: object\n",
      "16    018: Near North\n",
      "Name: District_Title, dtype: object\n",
      "0    001: Central\n",
      "Name: District_Title, dtype: object\n",
      "19    022: Morgan Park\n",
      "Name: District_Title, dtype: object\n",
      "14    016: Jefferson Park\n",
      "Name: District_Title, dtype: object\n",
      "20    024: Rogers Park\n",
      "Name: District_Title, dtype: object\n",
      "12    014: Shakespeare\n",
      "Name: District_Title, dtype: object\n",
      "15    017: Albany Park\n",
      "Name: District_Title, dtype: object\n",
      "18    020: Lincoln\n",
      "Name: District_Title, dtype: object\n"
     ]
    }
   ],
   "source": [
    "#replicating the groups \n",
    "tree=df[[\"unit_cat\",\"unit_description\"]].value_counts().reset_index()\n",
    "tree.columns=[\"unit_cat\",\"unit_description\",\"count\"]\n",
    "tree2=df[[\"unit_cat\"]].value_counts().reset_index()\n",
    "tree2.columns=[\"unit_cat\",\"count\"]\n",
    "\n",
    "colors=[\"#a63603\",\"#e6550d\",\"#fd8d3c\",\"#fdae6b\",\"#fdd0a2\",\"#feedde\",\"#D3D3D3\"]\n",
    "cats=df[\"unit_cat\"].unique()\n",
    "\n",
    "tree_dict={}\n",
    "tree_dict[\"name\"]=\"FULL ROSTER\"\n",
    "tree_dict[\"children\"]=[]\n",
    "\n",
    "for color_index, cat in enumerate([\"DISTRICT\",\"DETECTIVE\",\"TRAINING\",\"TRANSPORT\",\"GANG ENFORCEMENT\",\"OTHER\"]):\n",
    "    child={}\n",
    "    child[\"name\"]=cat\n",
    "    #child['value']=int(tree2.iloc[color_index,1])\n",
    "    child[\"color\"]=colors[color_index]\n",
    "    child[\"children\"]=[]\n",
    "    \n",
    "    other_grandchild={}\n",
    "    other_grandchild[\"name\"]=\"OTHER\"\n",
    "    other_grandchild[\"color\"]=colors[color_index]\n",
    "    other_grandchild[\"children\"]=[]\n",
    "\n",
    "    hold=tree[tree.unit_cat==cat]\n",
    "    for index in range(hold.shape[0]):\n",
    "        grandchild={}\n",
    "        if hold.iloc[index,1]==\"\":\n",
    "            grandchild[\"name\"]=hold.iloc[index,1]=\"UNKNOWN: LIKELY UNDERCOVER\"\n",
    "        if cat==\"DISTRICT\":\n",
    "            hold2=districts[districts[\"District_Id\"]==hold.iloc[index,1]]\n",
    "            if hold2.shape[0]>0:                \n",
    "                print(hold2[\"District_Title\"])\n",
    "                grandchild[\"name\"]=hold2.iloc[0][\"District_Title\"]\n",
    "            else:\n",
    "                grandchild[\"name\"]=hold.iloc[index,1]\n",
    "        else:\n",
    "            grandchild[\"name\"]=hold.iloc[index,1]\n",
    "\n",
    "        grandchild[\"value\"]=int(hold.iloc[index,2])\n",
    "        grandchild[\"percent_value\"]=hold.iloc[index,2]/hold[\"count\"].sum()\n",
    "        grandchild[\"color\"]=colors[color_index]\n",
    "        \n",
    "        if grandchild[\"percent_value\"]<0.02:\n",
    "            other_grandchild[\"children\"].append(grandchild)\n",
    "        else:\n",
    "            child[\"children\"].append(grandchild)\n",
    "\n",
    "    if len(other_grandchild[\"children\"])==0:\n",
    "        pass\n",
    "    elif len(other_grandchild[\"children\"])==1:\n",
    "        child[\"children\"].append(other_grandchild[\"children\"][0])\n",
    "    else:\n",
    "        child[\"children\"].append(other_grandchild)\n",
    "    tree_dict[\"children\"].append(child)\n",
    "with open(\"departments_tree.json\", \"w\") as outfile:\n",
    "    json.dump(tree_dict,outfile)\n",
    "\n"
   ]
  },
  {
   "cell_type": "markdown",
   "metadata": {},
   "source": [
    "# Make JSON for pie charts"
   ]
  },
  {
   "cell_type": "markdown",
   "metadata": {},
   "source": []
  },
  {
   "cell_type": "code",
   "execution_count": 161,
   "metadata": {},
   "outputs": [],
   "source": [
    "#//want json with issue, then list of values, with cat (str) and totals (int)\n",
    "df.columns\n",
    "\n",
    "\n",
    "temp=df[df.unit_description!=\"RECRUIT TRAINING SECTION\"].groupby(\"one\").agg({\"UID\":\"count\",\"force_count_persons_with\":\"sum\",\"weapon_count_persons_with\":\"sum\",\"trr_count_persons_with\":\"sum\",\"dept_complaint_count_persons_with\":\"sum\",\"dept_complaint_cleaned_count_persons_with\":\"sum\",\"civ_complaint_count_persons_with\":\"sum\",\"civ_complaint_force_persons_with\":\"sum\",\"civ_complaint_detain_persons_with\":\"sum\",\"civ_complaint_hate_persons_with\":\"sum\",\"civ_complaint_crime_persons_with\":\"sum\"}).reset_index()\n",
    "temp2=df[df.unit_description!=\"RECRUIT TRAINING SECTION\"].groupby(\"unit_cat\").agg({\"UID\":\"count\",\"force_count_persons_with\":\"sum\",\"weapon_count_persons_with\":\"sum\",\"trr_count_persons_with\":\"sum\",\"dept_complaint_count_persons_with\":\"sum\",\"dept_complaint_cleaned_count_persons_with\":\"sum\",\"civ_complaint_count_persons_with\":\"sum\",\"civ_complaint_force_persons_with\":\"sum\",\"civ_complaint_detain_persons_with\":\"sum\",\"civ_complaint_hate_persons_with\":\"sum\",\"civ_complaint_crime_persons_with\":\"sum\"}).reset_index()\n",
    "temp3=df.groupby(\"unit_description\").agg({\"UID\":\"count\",\"force_count_persons_with\":\"sum\",\"weapon_count_persons_with\":\"sum\",\"trr_count_persons_with\":\"sum\",\"dept_complaint_count_persons_with\":\"sum\",\"dept_complaint_cleaned_count_persons_with\":\"sum\",\"civ_complaint_count_persons_with\":\"sum\",\"civ_complaint_force_persons_with\":\"sum\",\"civ_complaint_detain_persons_with\":\"sum\",\"civ_complaint_hate_persons_with\":\"sum\",\"civ_complaint_crime_persons_with\":\"sum\"}).reset_index()\n",
    "\n",
    "# for col in temp.columns[2:]:\n",
    "#     temp[col]=temp[col]/temp[\"UID\"]\n",
    "#     temp2[col]=temp2[col]/temp2[\"UID\"]\n",
    "#     temp3[col]=temp3[col]/temp3[\"UID\"]\n",
    "\n",
    "# temp.to_json(\"percent_all.json\",orient=\"records\")\n",
    "# temp2.to_json(\"percent_cat.json\",orient=\"records\")\n",
    "# temp3.to_json(\"percent_dept.json\",orient=\"records\")\n",
    "\n"
   ]
  },
  {
   "cell_type": "code",
   "execution_count": 162,
   "metadata": {},
   "outputs": [
    {
     "data": {
      "text/html": [
       "<div>\n",
       "<style scoped>\n",
       "    .dataframe tbody tr th:only-of-type {\n",
       "        vertical-align: middle;\n",
       "    }\n",
       "\n",
       "    .dataframe tbody tr th {\n",
       "        vertical-align: top;\n",
       "    }\n",
       "\n",
       "    .dataframe thead th {\n",
       "        text-align: right;\n",
       "    }\n",
       "</style>\n",
       "<table border=\"1\" class=\"dataframe\">\n",
       "  <thead>\n",
       "    <tr style=\"text-align: right;\">\n",
       "      <th></th>\n",
       "      <th>one</th>\n",
       "      <th>UID</th>\n",
       "      <th>force_count_persons_with</th>\n",
       "      <th>weapon_count_persons_with</th>\n",
       "      <th>trr_count_persons_with</th>\n",
       "      <th>dept_complaint_count_persons_with</th>\n",
       "      <th>dept_complaint_cleaned_count_persons_with</th>\n",
       "      <th>civ_complaint_count_persons_with</th>\n",
       "      <th>civ_complaint_force_persons_with</th>\n",
       "      <th>civ_complaint_detain_persons_with</th>\n",
       "      <th>civ_complaint_hate_persons_with</th>\n",
       "      <th>civ_complaint_crime_persons_with</th>\n",
       "    </tr>\n",
       "  </thead>\n",
       "  <tbody>\n",
       "    <tr>\n",
       "      <th>0</th>\n",
       "      <td>1</td>\n",
       "      <td>11700</td>\n",
       "      <td>8553</td>\n",
       "      <td>3534</td>\n",
       "      <td>8657</td>\n",
       "      <td>9507</td>\n",
       "      <td>8377</td>\n",
       "      <td>9967</td>\n",
       "      <td>5998</td>\n",
       "      <td>8747</td>\n",
       "      <td>3527</td>\n",
       "      <td>2409</td>\n",
       "    </tr>\n",
       "  </tbody>\n",
       "</table>\n",
       "</div>"
      ],
      "text/plain": [
       "   one    UID  force_count_persons_with  weapon_count_persons_with  \\\n",
       "0    1  11700                      8553                       3534   \n",
       "\n",
       "   trr_count_persons_with  dept_complaint_count_persons_with  \\\n",
       "0                    8657                               9507   \n",
       "\n",
       "   dept_complaint_cleaned_count_persons_with  \\\n",
       "0                                       8377   \n",
       "\n",
       "   civ_complaint_count_persons_with  civ_complaint_force_persons_with  \\\n",
       "0                              9967                              5998   \n",
       "\n",
       "   civ_complaint_detain_persons_with  civ_complaint_hate_persons_with  \\\n",
       "0                               8747                             3527   \n",
       "\n",
       "   civ_complaint_crime_persons_with  \n",
       "0                              2409  "
      ]
     },
     "execution_count": 162,
     "metadata": {},
     "output_type": "execute_result"
    }
   ],
   "source": [
    "temp"
   ]
  },
  {
   "cell_type": "code",
   "execution_count": 163,
   "metadata": {},
   "outputs": [],
   "source": [
    "complaint_desc={\"dept_complaint_cleaned_count_persons_with\":\"Severe Departmental Complaint\",\"civ_complaint_count_persons_with\":\"Any Civilian Complaint\",\"civ_complaint_force_persons_with\":\"Use of Force / Weapon\",\"civ_complaint_detain_persons_with\":\"Handling of Arrest / Detainment\",\"civ_complaint_hate_persons_with\":\"Bigotry / Verbal Abuse\",\"civ_complaint_crime_persons_with\":\"Criminal Activity\"}\n",
    "cats=df[\"unit_cat\"].unique()\n",
    "\n",
    "temp1=df[df.unit_description!=\"RECRUIT TRAINING SECTION\"].groupby(\"one\").agg({\"UID\":\"count\",\"force_count_persons_with\":\"sum\",\"weapon_count_persons_with\":\"sum\",\"trr_count_persons_with\":\"sum\",\"dept_complaint_count_persons_with\":\"sum\",\"dept_complaint_cleaned_count_persons_with\":\"sum\",\"civ_complaint_count_persons_with\":\"sum\",\"civ_complaint_force_persons_with\":\"sum\",\"civ_complaint_detain_persons_with\":\"sum\",\"civ_complaint_hate_persons_with\":\"sum\",\"civ_complaint_crime_persons_with\":\"sum\"}).reset_index()\n",
    "temp2=df[df.unit_description!=\"RECRUIT TRAINING SECTION\"].groupby(\"unit_cat\").agg({\"UID\":\"count\",\"force_count_persons_with\":\"sum\",\"weapon_count_persons_with\":\"sum\",\"trr_count_persons_with\":\"sum\",\"dept_complaint_count_persons_with\":\"sum\",\"dept_complaint_cleaned_count_persons_with\":\"sum\",\"civ_complaint_count_persons_with\":\"sum\",\"civ_complaint_force_persons_with\":\"sum\",\"civ_complaint_detain_persons_with\":\"sum\",\"civ_complaint_hate_persons_with\":\"sum\",\"civ_complaint_crime_persons_with\":\"sum\"}).reset_index()\n",
    "\n",
    "#for all categories\n",
    "pie_dict={}\n",
    "pies=[]\n",
    "temp=temp1\n",
    "for col in complaint_desc.keys():\n",
    "    pie={}\n",
    "    pie[\"name\"]=complaint_desc[col]\n",
    "    pie[\"denom\"]=int(temp[\"UID\"][0])\n",
    "    yes={\"Answer\":\"Yes\",\"Totals\":int(temp[col][0]),\"Color\":0}\n",
    "    no={\"Answer\":\"No\",\"Totals\":pie[\"denom\"]-int(temp[col][0]),\"Color\":1}\n",
    "    pie[\"Values\"]=[yes,no]\n",
    "    pies.append(pie)\n",
    "pie_dict[\"ALL\"]=pies\n",
    "\n",
    "# #for specific categories\n",
    "# for cat in cats:\n",
    "#     pies=[]\n",
    "#     temp=temp2[temp2.unit_cat==cat]\n",
    "#     print()\n",
    "#     for col in complaint_desc.keys():\n",
    "#         pie={}\n",
    "#         pie[\"name\"]=complaint_desc[col]\n",
    "#         pie[\"denom\"]=int(temp.iloc[0][\"UID\"])\n",
    "#         yes={\"Answer\":\"Yes\",\"Totals\":int(temp.iloc[0][col])}\n",
    "#         no={\"Answer\":\"No\",\"Totals\":pie[\"denom\"]-int(temp.iloc[0][col])}\n",
    "#         pie[\"Values\"]=[yes,no]\n",
    "#         pies.append(pie)\n",
    "#     pie_dict[cat]=pies\n",
    "\n",
    "with open(\"percent_cat.json\", \"w\") as outfile:\n",
    "    json.dump(pie_dict,outfile)\n"
   ]
  },
  {
   "cell_type": "code",
   "execution_count": 164,
   "metadata": {},
   "outputs": [
    {
     "data": {
      "text/plain": [
       "civ_complaint_cat  civ_complaint_count_desc                          \n",
       "CRIME              DOMESTIC ALTERCATION/INCIDENT - OFF DUTY              2240\n",
       "                   COMMISSION OF CRIME:  MISCELLANEOUS                   1855\n",
       "                   COMMISSION OF CRIME:  THEFT                           1425\n",
       "                   DAMAGE/TRESPASSING PROPERTY                            655\n",
       "                   COMMISSION OF CRIME:  DAMAGE/TRESPASSING PROPERTY      508\n",
       "                   COMMISSION OF CRIME:DRUGS/CONTR.SUB. POSS. OR SALE     469\n",
       "                   THEFT                                                  350\n",
       "                   COMMISSION OF CRIME:  SEX OFFENSES                     174\n",
       "                   DOMESTIC                                               110\n",
       "                   COMMISSION OF CRIME:  OTHER FELONY                      97\n",
       "                   RAPE/SEX OFFENSES                                       95\n",
       "                   COMMISSION OF CRIME:  ASSAULT/BATTERY ETC..             87\n",
       "                   DRUGS/CONTR. SUB., POSSESSION OR SALE                   71\n",
       "                   OTHER FELONY                                            64\n",
       "                   DOMESTIC ALTERCATION - PHYSICAL ABUSE                   51\n",
       "                   COMMISSION OF CRIME:  ROBBERY                           49\n",
       "                   DOMESTIC INCIDENT - NOT PHYSICAL                        43\n",
       "                   COMMISSION OF CRIME:  BURGLARY                          27\n",
       "                   COMMISSION OF CRIME:  ARSON                             18\n",
       "                   COMMISSION OF CRIME:  AUTO THEFT                        16\n",
       "                   COMMISSION OF CRIME:  MURDER/MANSLAUGHTER ETC..         15\n",
       "                   COMMISSION OF CRIME:  SHOPLIFTING                        7\n",
       "                   ROBBERY                                                  4\n",
       "                   AUTO THEFT                                               3\n",
       "                   BURGLARY                                                 2\n",
       "                   SHOPLIFTING                                              1\n",
       "dtype: int64"
      ]
     },
     "execution_count": 164,
     "metadata": {},
     "output_type": "execute_result"
    }
   ],
   "source": [
    "\n",
    "# cmp[\"civ_complaint_cat\"].value_counts()\n",
    "# cmp.head()\n",
    "\n",
    "#cmp[cmp[\"civ_complaint_cat\"]==\"FORCE\"][[\"civ_complaint_cat\",\"civ_complaint_count_desc\"]].value_counts()\n",
    "#cmp[cmp[\"civ_complaint_cat\"]==\"DETAIN\"][[\"civ_complaint_cat\",\"civ_complaint_count_desc\"]].value_counts()\n",
    "#cmp[cmp[\"civ_complaint_cat\"]==\"HATE\"][[\"civ_complaint_cat\",\"civ_complaint_count_desc\"]].value_counts()\n",
    "cmp[cmp[\"civ_complaint_cat\"]==\"CRIME\"][[\"civ_complaint_cat\",\"civ_complaint_count_desc\"]].value_counts()\n",
    "#cmp[\"dept_complaint_cleaned_count_desc\"].value_counts()\n",
    "\n",
    "# \"complaint_category\"\n",
    "# \"civ_complaint_cat\"\n",
    "# \"dept_complaint_cleaned_count_desc\""
   ]
  },
  {
   "cell_type": "markdown",
   "metadata": {},
   "source": [
    "## playing around with data"
   ]
  },
  {
   "cell_type": "code",
   "execution_count": null,
   "metadata": {},
   "outputs": [],
   "source": []
  },
  {
   "cell_type": "code",
   "execution_count": 165,
   "metadata": {},
   "outputs": [
    {
     "ename": "NameError",
     "evalue": "name 'trr_17' is not defined",
     "output_type": "error",
     "traceback": [
      "\u001b[1;31m---------------------------------------------------------------------------\u001b[0m",
      "\u001b[1;31mNameError\u001b[0m                                 Traceback (most recent call last)",
      "Cell \u001b[1;32mIn [165], line 4\u001b[0m\n\u001b[0;32m      1\u001b[0m \u001b[39m#trr_17[\"force_count\"]=np.where(trr_17[\"force_cat\"]==\"Use of Force\u001b[39;00m\n\u001b[0;32m      2\u001b[0m col_list\u001b[39m=\u001b[39m[\u001b[39m'\u001b[39m\u001b[39maction\u001b[39m\u001b[39m'\u001b[39m, \u001b[39m'\u001b[39m\u001b[39mother_description\u001b[39m\u001b[39m'\u001b[39m,\u001b[39m'\u001b[39m\u001b[39mmember_action\u001b[39m\u001b[39m'\u001b[39m,\u001b[39m'\u001b[39m\u001b[39mforce_type\u001b[39m\u001b[39m'\u001b[39m, \u001b[39m'\u001b[39m\u001b[39maction_sub_category\u001b[39m\u001b[39m'\u001b[39m, \u001b[39m'\u001b[39m\u001b[39maction_category\u001b[39m\u001b[39m'\u001b[39m]\n\u001b[1;32m----> 4\u001b[0m \u001b[39mprint\u001b[39m(trr_17[trr_17[\u001b[39m\"\u001b[39m\u001b[39mforce_cat\u001b[39m\u001b[39m\"\u001b[39m]\u001b[39m==\u001b[39m\u001b[39m\"\u001b[39m\u001b[39mUse of Force\u001b[39m\u001b[39m\"\u001b[39m]\u001b[39m.\u001b[39maction\u001b[39m.\u001b[39mvalue_counts())\n\u001b[0;32m      5\u001b[0m \u001b[39mprint\u001b[39m(\u001b[39m\"\u001b[39m\u001b[39mweapon****************\u001b[39m\u001b[39m\"\u001b[39m)\n\u001b[0;32m      6\u001b[0m \u001b[39mprint\u001b[39m(trr_17[trr_17[\u001b[39m\"\u001b[39m\u001b[39mforce_cat\u001b[39m\u001b[39m\"\u001b[39m]\u001b[39m==\u001b[39m\u001b[39m\"\u001b[39m\u001b[39mUse of Weapon\u001b[39m\u001b[39m\"\u001b[39m]\u001b[39m.\u001b[39maction\u001b[39m.\u001b[39mvalue_counts())\n",
      "\u001b[1;31mNameError\u001b[0m: name 'trr_17' is not defined"
     ]
    }
   ],
   "source": [
    "#trr_17[\"force_count\"]=np.where(trr_17[\"force_cat\"]==\"Use of Force\n",
    "col_list=['action', 'other_description','member_action','force_type', 'action_sub_category', 'action_category']\n",
    "\n",
    "print(trr_17[trr_17[\"force_cat\"]==\"Use of Force\"].action.value_counts())\n",
    "print(\"weapon****************\")\n",
    "print(trr_17[trr_17[\"force_cat\"]==\"Use of Weapon\"].action.value_counts())\n",
    "print(\"weapon****************\")\n",
    "print(trr_17[trr_17[\"force_cat\"]==\"Use of Weapon\"].other_description.value_counts())\n"
   ]
  },
  {
   "cell_type": "code",
   "execution_count": null,
   "metadata": {},
   "outputs": [
    {
     "data": {
      "text/plain": [
       "Index(['unit_cat', 'UID', 'force_count_persons_with',\n",
       "       'weapon_count_persons_with', 'trr_count_persons_with',\n",
       "       'dept_complaint_count_persons_with',\n",
       "       'dept_complaint_cleaned_count_persons_with',\n",
       "       'civ_complaint_count_persons_with', 'civ_complaint_force_persons_with',\n",
       "       'civ_complaint_detain_persons_with', 'civ_complaint_hate_persons_with',\n",
       "       'civ_complaint_crime_persons_with'],\n",
       "      dtype='object')"
      ]
     },
     "execution_count": 105,
     "metadata": {},
     "output_type": "execute_result"
    }
   ],
   "source": [
    "complaints.head()"
   ]
  },
  {
   "cell_type": "code",
   "execution_count": null,
   "metadata": {},
   "outputs": [
    {
     "data": {
      "text/plain": [
       "{'ALL': [{'name': 'Severe Departmental Complaint',\n",
       "   'denom': 11700,\n",
       "   'Values': [{'Answer': 'Yes', 'Totals': 8377, 'Color': 0},\n",
       "    {'Answer': 'No', 'Totals': 3323, 'Color': 1}]},\n",
       "  {'name': 'Any Civilian Complaint',\n",
       "   'denom': 11700,\n",
       "   'Values': [{'Answer': 'Yes', 'Totals': 9967, 'Color': 0},\n",
       "    {'Answer': 'No', 'Totals': 1733, 'Color': 1}]},\n",
       "  {'name': 'Use of Force / Weapon',\n",
       "   'denom': 11700,\n",
       "   'Values': [{'Answer': 'Yes', 'Totals': 5998, 'Color': 0},\n",
       "    {'Answer': 'No', 'Totals': 5702, 'Color': 1}]},\n",
       "  {'name': 'Handling of Arrest / Detainment',\n",
       "   'denom': 11700,\n",
       "   'Values': [{'Answer': 'Yes', 'Totals': 8747, 'Color': 0},\n",
       "    {'Answer': 'No', 'Totals': 2953, 'Color': 1}]},\n",
       "  {'name': 'Bigotry / Verbal Abuse',\n",
       "   'denom': 11700,\n",
       "   'Values': [{'Answer': 'Yes', 'Totals': 3527, 'Color': 0},\n",
       "    {'Answer': 'No', 'Totals': 8173, 'Color': 1}]},\n",
       "  {'name': 'Criminal Activity',\n",
       "   'denom': 11700,\n",
       "   'Values': [{'Answer': 'Yes', 'Totals': 2409, 'Color': 0},\n",
       "    {'Answer': 'No', 'Totals': 9291, 'Color': 1}]}],\n",
       " 'DISTRICT': [{'name': 'Severe Departmental Complaint',\n",
       "   'denom': 8963,\n",
       "   'Values': [{'Answer': 'Yes', 'Totals': 6262},\n",
       "    {'Answer': 'No', 'Totals': 2701}]},\n",
       "  {'name': 'Any Civilian Complaint',\n",
       "   'denom': 8963,\n",
       "   'Values': [{'Answer': 'Yes', 'Totals': 7383},\n",
       "    {'Answer': 'No', 'Totals': 1580}]},\n",
       "  {'name': 'Use of Force / Weapon',\n",
       "   'denom': 8963,\n",
       "   'Values': [{'Answer': 'Yes', 'Totals': 4132},\n",
       "    {'Answer': 'No', 'Totals': 4831}]},\n",
       "  {'name': 'Handling of Arrest / Detainment',\n",
       "   'denom': 8963,\n",
       "   'Values': [{'Answer': 'Yes', 'Totals': 6461},\n",
       "    {'Answer': 'No', 'Totals': 2502}]},\n",
       "  {'name': 'Bigotry / Verbal Abuse',\n",
       "   'denom': 8963,\n",
       "   'Values': [{'Answer': 'Yes', 'Totals': 2413},\n",
       "    {'Answer': 'No', 'Totals': 6550}]},\n",
       "  {'name': 'Criminal Activity',\n",
       "   'denom': 8963,\n",
       "   'Values': [{'Answer': 'Yes', 'Totals': 1668},\n",
       "    {'Answer': 'No', 'Totals': 7295}]}],\n",
       " 'TRAINING': [{'name': 'Severe Departmental Complaint',\n",
       "   'denom': 100,\n",
       "   'Values': [{'Answer': 'Yes', 'Totals': 68},\n",
       "    {'Answer': 'No', 'Totals': 32}]},\n",
       "  {'name': 'Any Civilian Complaint',\n",
       "   'denom': 100,\n",
       "   'Values': [{'Answer': 'Yes', 'Totals': 86},\n",
       "    {'Answer': 'No', 'Totals': 14}]},\n",
       "  {'name': 'Use of Force / Weapon',\n",
       "   'denom': 100,\n",
       "   'Values': [{'Answer': 'Yes', 'Totals': 50},\n",
       "    {'Answer': 'No', 'Totals': 50}]},\n",
       "  {'name': 'Handling of Arrest / Detainment',\n",
       "   'denom': 100,\n",
       "   'Values': [{'Answer': 'Yes', 'Totals': 72},\n",
       "    {'Answer': 'No', 'Totals': 28}]},\n",
       "  {'name': 'Bigotry / Verbal Abuse',\n",
       "   'denom': 100,\n",
       "   'Values': [{'Answer': 'Yes', 'Totals': 26},\n",
       "    {'Answer': 'No', 'Totals': 74}]},\n",
       "  {'name': 'Criminal Activity',\n",
       "   'denom': 100,\n",
       "   'Values': [{'Answer': 'Yes', 'Totals': 22},\n",
       "    {'Answer': 'No', 'Totals': 78}]}],\n",
       " 'TRANSPORT': [{'name': 'Severe Departmental Complaint',\n",
       "   'denom': 438,\n",
       "   'Values': [{'Answer': 'Yes', 'Totals': 362},\n",
       "    {'Answer': 'No', 'Totals': 76}]},\n",
       "  {'name': 'Any Civilian Complaint',\n",
       "   'denom': 438,\n",
       "   'Values': [{'Answer': 'Yes', 'Totals': 421},\n",
       "    {'Answer': 'No', 'Totals': 17}]},\n",
       "  {'name': 'Use of Force / Weapon',\n",
       "   'denom': 438,\n",
       "   'Values': [{'Answer': 'Yes', 'Totals': 339},\n",
       "    {'Answer': 'No', 'Totals': 99}]},\n",
       "  {'name': 'Handling of Arrest / Detainment',\n",
       "   'denom': 438,\n",
       "   'Values': [{'Answer': 'Yes', 'Totals': 360},\n",
       "    {'Answer': 'No', 'Totals': 78}]},\n",
       "  {'name': 'Bigotry / Verbal Abuse',\n",
       "   'denom': 438,\n",
       "   'Values': [{'Answer': 'Yes', 'Totals': 202},\n",
       "    {'Answer': 'No', 'Totals': 236}]},\n",
       "  {'name': 'Criminal Activity',\n",
       "   'denom': 438,\n",
       "   'Values': [{'Answer': 'Yes', 'Totals': 138},\n",
       "    {'Answer': 'No', 'Totals': 300}]}],\n",
       " 'DETECTIVE': [{'name': 'Severe Departmental Complaint',\n",
       "   'denom': 1059,\n",
       "   'Values': [{'Answer': 'Yes', 'Totals': 836},\n",
       "    {'Answer': 'No', 'Totals': 223}]},\n",
       "  {'name': 'Any Civilian Complaint',\n",
       "   'denom': 1059,\n",
       "   'Values': [{'Answer': 'Yes', 'Totals': 1015},\n",
       "    {'Answer': 'No', 'Totals': 44}]},\n",
       "  {'name': 'Use of Force / Weapon',\n",
       "   'denom': 1059,\n",
       "   'Values': [{'Answer': 'Yes', 'Totals': 733},\n",
       "    {'Answer': 'No', 'Totals': 326}]},\n",
       "  {'name': 'Handling of Arrest / Detainment',\n",
       "   'denom': 1059,\n",
       "   'Values': [{'Answer': 'Yes', 'Totals': 932},\n",
       "    {'Answer': 'No', 'Totals': 127}]},\n",
       "  {'name': 'Bigotry / Verbal Abuse',\n",
       "   'denom': 1059,\n",
       "   'Values': [{'Answer': 'Yes', 'Totals': 462},\n",
       "    {'Answer': 'No', 'Totals': 597}]},\n",
       "  {'name': 'Criminal Activity',\n",
       "   'denom': 1059,\n",
       "   'Values': [{'Answer': 'Yes', 'Totals': 283},\n",
       "    {'Answer': 'No', 'Totals': 776}]}],\n",
       " 'OTHER': [{'name': 'Severe Departmental Complaint',\n",
       "   'denom': 941,\n",
       "   'Values': [{'Answer': 'Yes', 'Totals': 692},\n",
       "    {'Answer': 'No', 'Totals': 249}]},\n",
       "  {'name': 'Any Civilian Complaint',\n",
       "   'denom': 941,\n",
       "   'Values': [{'Answer': 'Yes', 'Totals': 863},\n",
       "    {'Answer': 'No', 'Totals': 78}]},\n",
       "  {'name': 'Use of Force / Weapon',\n",
       "   'denom': 941,\n",
       "   'Values': [{'Answer': 'Yes', 'Totals': 608},\n",
       "    {'Answer': 'No', 'Totals': 333}]},\n",
       "  {'name': 'Handling of Arrest / Detainment',\n",
       "   'denom': 941,\n",
       "   'Values': [{'Answer': 'Yes', 'Totals': 729},\n",
       "    {'Answer': 'No', 'Totals': 212}]},\n",
       "  {'name': 'Bigotry / Verbal Abuse',\n",
       "   'denom': 941,\n",
       "   'Values': [{'Answer': 'Yes', 'Totals': 352},\n",
       "    {'Answer': 'No', 'Totals': 589}]},\n",
       "  {'name': 'Criminal Activity',\n",
       "   'denom': 941,\n",
       "   'Values': [{'Answer': 'Yes', 'Totals': 227},\n",
       "    {'Answer': 'No', 'Totals': 714}]}],\n",
       " 'GANG': [{'name': 'Severe Departmental Complaint',\n",
       "   'denom': 188,\n",
       "   'Values': [{'Answer': 'Yes', 'Totals': 149},\n",
       "    {'Answer': 'No', 'Totals': 39}]},\n",
       "  {'name': 'Any Civilian Complaint',\n",
       "   'denom': 188,\n",
       "   'Values': [{'Answer': 'Yes', 'Totals': 188},\n",
       "    {'Answer': 'No', 'Totals': 0}]},\n",
       "  {'name': 'Use of Force / Weapon',\n",
       "   'denom': 188,\n",
       "   'Values': [{'Answer': 'Yes', 'Totals': 127},\n",
       "    {'Answer': 'No', 'Totals': 61}]},\n",
       "  {'name': 'Handling of Arrest / Detainment',\n",
       "   'denom': 188,\n",
       "   'Values': [{'Answer': 'Yes', 'Totals': 183},\n",
       "    {'Answer': 'No', 'Totals': 5}]},\n",
       "  {'name': 'Bigotry / Verbal Abuse',\n",
       "   'denom': 188,\n",
       "   'Values': [{'Answer': 'Yes', 'Totals': 68},\n",
       "    {'Answer': 'No', 'Totals': 120}]},\n",
       "  {'name': 'Criminal Activity',\n",
       "   'denom': 188,\n",
       "   'Values': [{'Answer': 'Yes', 'Totals': 65},\n",
       "    {'Answer': 'No', 'Totals': 123}]}],\n",
       " 'NARCOTICS': [{'name': 'Severe Departmental Complaint',\n",
       "   'denom': 11,\n",
       "   'Values': [{'Answer': 'Yes', 'Totals': 8}, {'Answer': 'No', 'Totals': 3}]},\n",
       "  {'name': 'Any Civilian Complaint',\n",
       "   'denom': 11,\n",
       "   'Values': [{'Answer': 'Yes', 'Totals': 11}, {'Answer': 'No', 'Totals': 0}]},\n",
       "  {'name': 'Use of Force / Weapon',\n",
       "   'denom': 11,\n",
       "   'Values': [{'Answer': 'Yes', 'Totals': 9}, {'Answer': 'No', 'Totals': 2}]},\n",
       "  {'name': 'Handling of Arrest / Detainment',\n",
       "   'denom': 11,\n",
       "   'Values': [{'Answer': 'Yes', 'Totals': 10}, {'Answer': 'No', 'Totals': 1}]},\n",
       "  {'name': 'Bigotry / Verbal Abuse',\n",
       "   'denom': 11,\n",
       "   'Values': [{'Answer': 'Yes', 'Totals': 4}, {'Answer': 'No', 'Totals': 7}]},\n",
       "  {'name': 'Criminal Activity',\n",
       "   'denom': 11,\n",
       "   'Values': [{'Answer': 'Yes', 'Totals': 6}, {'Answer': 'No', 'Totals': 5}]}]}"
      ]
     },
     "execution_count": 106,
     "metadata": {},
     "output_type": "execute_result"
    }
   ],
   "source": [
    "pie_dict"
   ]
  },
  {
   "cell_type": "markdown",
   "metadata": {},
   "source": []
  },
  {
   "cell_type": "markdown",
   "metadata": {},
   "source": [
    "# Visualizing the data"
   ]
  },
  {
   "cell_type": "code",
   "execution_count": null,
   "metadata": {},
   "outputs": [
    {
     "data": {
      "text/plain": [
       "Index(['row_id', 'gender', 'race', 'birth_year', 'current_age',\n",
       "       'current_status', 'appointed_date', 'rank_no', 'current_rank',\n",
       "       'current_unit', 'unit_description', 'resignation_date', 'star1',\n",
       "       'star2', 'star3', 'star4', 'star5', 'star6', 'star7', 'star8', 'star9',\n",
       "       'star10', 'first_name', 'first_name_NS', 'last_name', 'last_name_NS',\n",
       "       'middle_initial', 'middle_initial2', 'suffix_name', 'merge',\n",
       "       'roster_1936-2017_2017-04_ID', 'UID', 'old_UID', 'link_UID',\n",
       "       'resignation_year', 'appointed_year', 'unit_cat',\n",
       "       'dept_complaint_count', 'dept_complaint_cleaned_count',\n",
       "       'civ_complaint_count', 'civ_complaint_force', 'civ_complaint_detain',\n",
       "       'civ_complaint_hate', 'civ_complaint_crime',\n",
       "       'dept_complaint_cleaned_count_desc', 'civ_complaint_count_desc',\n",
       "       'civ_complaint_force_desc', 'civ_complaint_detain_desc',\n",
       "       'civ_complaint_hate_desc', 'civ_complaint_crime_desc', 'force_count',\n",
       "       'weapon_count', 'trr_count', 'force_count_desc', 'weapon_count_desc',\n",
       "       'trr_count_desc', 'force_count_persons_with',\n",
       "       'weapon_count_persons_with', 'trr_count_persons_with',\n",
       "       'dept_complaint_count_persons_with',\n",
       "       'dept_complaint_cleaned_count_persons_with',\n",
       "       'civ_complaint_count_persons_with', 'civ_complaint_force_persons_with',\n",
       "       'civ_complaint_detain_persons_with', 'civ_complaint_hate_persons_with',\n",
       "       'civ_complaint_crime_persons_with', 'one', 'years_in_2016',\n",
       "       'full_name'],\n",
       "      dtype='object')"
      ]
     },
     "execution_count": 107,
     "metadata": {},
     "output_type": "execute_result"
    }
   ],
   "source": [
    "df.columns\n",
    "#unit_all.columns\n",
    "#unit_cats.columns"
   ]
  },
  {
   "cell_type": "code",
   "execution_count": null,
   "metadata": {},
   "outputs": [
    {
     "data": {
      "image/png": "[encoded data removed]",
      "text/plain": [
       "<Figure size 640x480 with 1 Axes>"
      ]
     },
     "metadata": {},
     "output_type": "display_data"
    }
   ],
   "source": [
    "#unit_cats.trr_count_persons_with_p = unit_cats.trr_count_persons_with/unit_cats.UID\n",
    "\n",
    "plt.bar(unit_cats.unit_cat, unit_cats.UID, color ='maroon',\n",
    "        width = 0.4)\n",
    "plt.title(\"persons with trr\")\n",
    "plt.show()"
   ]
  },
  {
   "cell_type": "markdown",
   "metadata": {},
   "source": [
    "Who are police officers?  They fall into categories: most are district. \n",
    "Chart 1: tree area\n",
    "These categories can be broken down. Into the following.\n",
    "Chart 2: tree area\n",
    "\n",
    "These police officers are people, but they are people who have been given permission to use force by the state. \n",
    "Chart 3: square chart: N officers use force vs N officers not, instances (e.g. people) used force on\n",
    "- would be super cool is its a set of dots, and around them is a box with which subsection\n",
    "Chart 4: repeat for weapons. \n",
    "summary: Lets talk about the reality of police officers. Not everyone has used a weapon, but in total police use weapons a lot. 1/3rd of police officers have used their weapon. 4/5th have used force.. E.g. gang is small but use weapon and physcial force. Other, traffic, and detective use less violence: but they still do. This is state condoned violence. \n",
    " \n",
    "*There are individual stories behind each instance of violence: both against the police and at the hands of the police, which these numbers cannot capture. These stories must be told in full.* \n",
    "\n",
    "These numbers do not capture the falability of the police. They abuse their powers. They arrest and detain people illegally. They sell controlled substances and commit rape. They do irreperable harm when they kill civilians. Some of these instances are reported in civilian and departmental complaints. \n",
    "\n",
    "Chart 5: pie percentages. \n",
    "\n",
    "Read the stories.\n",
    " \n",
    "Chart 6: Stories on the left\n"
   ]
  },
  {
   "cell_type": "code",
   "execution_count": null,
   "metadata": {},
   "outputs": [],
   "source": [
    "# trr_17[[\"force_type\"]].value_counts()\n",
    "\n",
    "# Physical Force - Holding              57648\n",
    "# Physical Force - Direct Mechanical    10892\n",
    "# Other Force                            9097"
   ]
  },
  {
   "cell_type": "code",
   "execution_count": null,
   "metadata": {},
   "outputs": [
    {
     "data": {
      "image/png": "[encoded data removed]",
      "text/plain": [
       "<Figure size 640x480 with 1 Axes>"
      ]
     },
     "metadata": {},
     "output_type": "display_data"
    }
   ],
   "source": [
    "#plt.bar(unit_cats.unit_cat, unit_cats.civ_complaint_crime_persons_with_p, color ='maroon',width = 0.4)\n",
    "#plt.bar(unit_cats.unit_cat, unit_cats.civ_complaint_force_persons_with_p, color ='purple',width = 0.4)\n",
    "#plt.bar(unit_cats.unit_cat, unit_cats.civ_complaint_detain_persons_with_p, color ='brown',width = 0.4)\n",
    "plt.bar(unit_cats.unit_cat, unit_cats.civ_complaint_hate_persons_with_p, color ='brown',width = 0.4)\n",
    "plt.bar(unit_cats.unit_cat, unit_cats.dept_complaint_cleaned_count_persons_with_p, color ='brown',width = 0.4)\n",
    "\n",
    "#plt.bar(unit_cats.unit_cat, unit_cats.weapon_count_persons_with_p, color ='maroon',width = 0.4)\n",
    "plt.show()"
   ]
  },
  {
   "cell_type": "code",
   "execution_count": null,
   "metadata": {},
   "outputs": [
    {
     "data": {
      "image/png": "[encoded data removed]",
      "text/plain": [
       "<Figure size 640x480 with 1 Axes>"
      ]
     },
     "metadata": {},
     "output_type": "display_data"
    }
   ],
   "source": [
    "plt.bar(unit_cats.unit_cat, unit_cats.weapon_count_persons_with_p, color ='maroon',\n",
    "        width = 0.4)\n",
    "plt.title(\"persons with weapon\")\n",
    "plt.show()"
   ]
  },
  {
   "cell_type": "code",
   "execution_count": null,
   "metadata": {},
   "outputs": [
    {
     "data": {
      "text/plain": [
       "<matplotlib.legend.Legend at 0x2a497837640>"
      ]
     },
     "execution_count": 112,
     "metadata": {},
     "output_type": "execute_result"
    },
    {
     "data": {
      "image/png": "[encoded data removed]",
      "text/plain": [
       "<Figure size 1000x700 with 1 Axes>"
      ]
     },
     "metadata": {},
     "output_type": "display_data"
    }
   ],
   "source": [
    "N = 5\n",
    " \n",
    "boys = (20, 35, 30, 35, 27)\n",
    "girls = (25, 32, 34, 20, 25)\n",
    "boyStd = (2, 3, 4, 1, 2)\n",
    "girlStd = (3, 5, 2, 3, 3)\n",
    "ind = np.arange(N)  \n",
    "width = 0.35 \n",
    " \n",
    "fig = plt.subplots(figsize =(10, 7))\n",
    "p1 = plt.bar(ind, boys, width, yerr = boyStd)\n",
    "p2 = plt.bar(ind, girls, width,\n",
    "             bottom = boys, yerr = girlStd)\n",
    " \n",
    "plt.ylabel('Contribution')\n",
    "plt.title('Contribution by the teams')\n",
    "plt.xticks(ind, ('T1', 'T2', 'T3', 'T4', 'T5'))\n",
    "plt.yticks(np.arange(0, 81, 10))\n",
    "plt.legend((p1[0], p2[0]), ('boys', 'girls'))"
   ]
  },
  {
   "cell_type": "code",
   "execution_count": null,
   "metadata": {},
   "outputs": [
    {
     "ename": "AttributeError",
     "evalue": "'DataFrame' object has no attribute 'dept_complaint_desc'",
     "output_type": "error",
     "traceback": [
      "\u001b[1;31m---------------------------------------------------------------------------\u001b[0m",
      "\u001b[1;31mAttributeError\u001b[0m                            Traceback (most recent call last)",
      "Cell \u001b[1;32mIn [113], line 6\u001b[0m\n\u001b[0;32m      1\u001b[0m \u001b[39m# temp=df[df.weapon_count>10].action_force_desc\u001b[39;00m\n\u001b[0;32m      2\u001b[0m \u001b[39m# temp[12331]\u001b[39;00m\n\u001b[0;32m      3\u001b[0m \u001b[39m# #df.columns\u001b[39;00m\n\u001b[0;32m      4\u001b[0m \n\u001b[0;32m      5\u001b[0m \u001b[39m#df.force_count.value_counts()\u001b[39;00m\n\u001b[1;32m----> 6\u001b[0m cmp\u001b[39m.\u001b[39mdept_complaint_desc\u001b[39m.\u001b[39mvalue_counts()\n",
      "File \u001b[1;32mc:\\Users\\Olivia_Pinney\\AppData\\Local\\Programs\\Python\\Python310\\lib\\site-packages\\pandas\\core\\generic.py:5583\u001b[0m, in \u001b[0;36mNDFrame.__getattr__\u001b[1;34m(self, name)\u001b[0m\n\u001b[0;32m   5576\u001b[0m \u001b[39mif\u001b[39;00m (\n\u001b[0;32m   5577\u001b[0m     name \u001b[39mnot\u001b[39;00m \u001b[39min\u001b[39;00m \u001b[39mself\u001b[39m\u001b[39m.\u001b[39m_internal_names_set\n\u001b[0;32m   5578\u001b[0m     \u001b[39mand\u001b[39;00m name \u001b[39mnot\u001b[39;00m \u001b[39min\u001b[39;00m \u001b[39mself\u001b[39m\u001b[39m.\u001b[39m_metadata\n\u001b[0;32m   5579\u001b[0m     \u001b[39mand\u001b[39;00m name \u001b[39mnot\u001b[39;00m \u001b[39min\u001b[39;00m \u001b[39mself\u001b[39m\u001b[39m.\u001b[39m_accessors\n\u001b[0;32m   5580\u001b[0m     \u001b[39mand\u001b[39;00m \u001b[39mself\u001b[39m\u001b[39m.\u001b[39m_info_axis\u001b[39m.\u001b[39m_can_hold_identifiers_and_holds_name(name)\n\u001b[0;32m   5581\u001b[0m ):\n\u001b[0;32m   5582\u001b[0m     \u001b[39mreturn\u001b[39;00m \u001b[39mself\u001b[39m[name]\n\u001b[1;32m-> 5583\u001b[0m \u001b[39mreturn\u001b[39;00m \u001b[39mobject\u001b[39;49m\u001b[39m.\u001b[39;49m\u001b[39m__getattribute__\u001b[39;49m(\u001b[39mself\u001b[39;49m, name)\n",
      "\u001b[1;31mAttributeError\u001b[0m: 'DataFrame' object has no attribute 'dept_complaint_desc'"
     ]
    }
   ],
   "source": [
    "# temp=df[df.weapon_count>10].action_force_desc\n",
    "# temp[12331]\n",
    "# #df.columns\n",
    "\n",
    "#df.force_count.value_counts()\n",
    "cmp.dept_complaint_desc.value_counts()"
   ]
  }
 ],
 "metadata": {
  "kernelspec": {
   "display_name": "Python 3.10.7 64-bit",
   "language": "python",
   "name": "python3"
  },
  "language_info": {
   "codemirror_mode": {
    "name": "ipython",
    "version": 3
   },
   "file_extension": ".py",
   "mimetype": "text/x-python",
   "name": "python",
   "nbconvert_exporter": "python",
   "pygments_lexer": "ipython3",
   "version": "3.10.7"
  },
  "orig_nbformat": 4,
  "vscode": {
   "interpreter": {
    "hash": "adb2bf8b6556bf81de5750366772a94ffe20ef8871ec544847e0a0e2a34f4fd1"
   }
  }
 },
 "nbformat": 4,
 "nbformat_minor": 2
}
