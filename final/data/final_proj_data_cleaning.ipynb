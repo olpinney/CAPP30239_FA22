{
 "cells": [
  {
   "cell_type": "code",
   "execution_count": 1,
   "metadata": {},
   "outputs": [],
   "source": [
    "import os \n",
    "import pandas as pd\n",
    "import numpy as np\n",
    "import matplotlib.pyplot as plt\n",
    "import matplotlib.dates as mdates\n",
    "from datetime import date\n"
   ]
  },
  {
   "cell_type": "markdown",
   "metadata": {},
   "source": [
    "loading in data \n"
   ]
  },
  {
   "cell_type": "code",
   "execution_count": 2,
   "metadata": {},
   "outputs": [
    {
     "data": {
      "text/plain": [
       "'c:\\\\Users\\\\Olivia_Pinney\\\\Documents\\\\UChicago_Materials\\\\Data_Viz\\\\CAPP30239_FA22\\\\final\\\\data'"
      ]
     },
     "execution_count": 2,
     "metadata": {},
     "output_type": "execute_result"
    }
   ],
   "source": [
    "os.getcwd()\n"
   ]
  },
  {
   "cell_type": "code",
   "execution_count": null,
   "metadata": {},
   "outputs": [],
   "source": []
  },
  {
   "cell_type": "markdown",
   "metadata": {},
   "source": [
    "# Department Roster"
   ]
  },
  {
   "cell_type": "code",
   "execution_count": 3,
   "metadata": {},
   "outputs": [],
   "source": [
    "history_roster=pd.read_csv(\"extra_data/roster_1936-2017_2017-04.csv\")\n",
    "# history_unit=pd.read_csv(data_path_iigh[\"history_unit\"]) "
   ]
  },
  {
   "cell_type": "code",
   "execution_count": 4,
   "metadata": {},
   "outputs": [
    {
     "name": "stdout",
     "output_type": "stream",
     "text": [
      "0    131786.0\n",
      "1    131787.0\n",
      "2    131785.0\n",
      "3    131784.0\n",
      "4    131783.0\n",
      "5    131788.0\n",
      "6    131789.0\n",
      "Name: index, dtype: float64\n",
      "(12802, 36)\n",
      "(12795, 36)\n"
     ]
    }
   ],
   "source": [
    "df=history_roster \n",
    "df[\"resignation_date\"]=df[\"resignation_date\"].fillna(\"2999-01-01\")\n",
    "df[\"resignation_year\"]=df[\"resignation_date\"].apply(lambda x: int(str(x)[0:4]))\n",
    "\n",
    "df[\"appointed_date\"]=df[\"appointed_date\"].fillna(\"1000-01-01\")\n",
    "df[\"appointed_year\"]=df[\"appointed_date\"].apply(lambda x: int(str(x)[0:4]))\n",
    "\n",
    "df=df[df[\"appointed_year\"]<2018] #officer in 2017\n",
    "df=df[df[\"resignation_year\"]>2016] #officer in 2017\n",
    "\n",
    "#check that no one is duplicated\n",
    "temp=df.UID.value_counts().reset_index()\n",
    "problem_uids=temp[temp.UID>1][\"index\"]\n",
    "print(problem_uids)\n",
    "print(df.shape)\n",
    "df=df[~(df[\"UID\"].isin(problem_uids) & ~df[\"current_status\"]>0)]\n",
    "print(df.shape)\n"
   ]
  },
  {
   "cell_type": "code",
   "execution_count": 5,
   "metadata": {},
   "outputs": [
    {
     "data": {
      "text/plain": [
       "2017"
      ]
     },
     "execution_count": 5,
     "metadata": {},
     "output_type": "execute_result"
    }
   ],
   "source": [
    "max(history_roster.appointed_year)"
   ]
  },
  {
   "cell_type": "code",
   "execution_count": 6,
   "metadata": {},
   "outputs": [],
   "source": [
    "df[\"unit_cat\"]=np.where(df[\"unit_description\"].str.contains(\"DISTRICT 0\"),\"DISTRICT\",\n",
    "    np.where(df[\"unit_description\"].str.contains(\"DETECTIVE\"),\"DETECTIVE\",\n",
    "    np.where(df[\"unit_description\"].str.contains(\"SPECIAL INVESTIGATIONS UNIT\"),\"DETECTIVE\",\n",
    "    np.where(df[\"unit_description\"].str.contains(\"TRAFFIC\"),\"TRANSPORT\",\n",
    "    np.where(df[\"unit_description\"].str.contains(\"TRANSPORT\"),\"TRANSPORT\",\n",
    "    np.where(df[\"unit_description\"].str.contains(\"TRANSIT\"),\"TRANSPORT\",    \n",
    "    np.where(df[\"unit_description\"].str.contains(\"AIRPORT\"),\"TRANSPORT\",\n",
    "    np.where(df[\"unit_description\"].str.contains(\"GANG ENFORCEMENT\"),\"GANG ENFORCEMENT\",\n",
    "    \"OTHER\"\n",
    "    ))))))))"
   ]
  },
  {
   "cell_type": "code",
   "execution_count": 7,
   "metadata": {},
   "outputs": [],
   "source": [
    "temp=df[[\"unit_description\",\"unit_cat\"]].value_counts(sort=True)\n",
    "temp=temp.reset_index()\n",
    "#temp=temp.set_index(\"unit_description\")\n",
    "temp.columns=[\"unit_description\",\"unit_cat\",\"headcount\"]\n",
    "\n",
    "temp.to_json(\"departments_basic.json\",orient=\"records\")\n"
   ]
  },
  {
   "cell_type": "code",
   "execution_count": null,
   "metadata": {},
   "outputs": [],
   "source": []
  },
  {
   "cell_type": "markdown",
   "metadata": {},
   "source": [
    "# Section of Complaints"
   ]
  },
  {
   "cell_type": "code",
   "execution_count": 8,
   "metadata": {},
   "outputs": [
    {
     "name": "stderr",
     "output_type": "stream",
     "text": [
      "C:\\Users\\Olivia_Pinney\\AppData\\Local\\Temp\\ipykernel_26200\\2543640591.py:2: DtypeWarning: Columns (3,7,8) have mixed types. Specify dtype option on import or set low_memory=False.\n",
      "  complaints=pd.read_csv(\"extra_data/complaints-accused.csv\")\n",
      "C:\\Users\\Olivia_Pinney\\AppData\\Local\\Temp\\ipykernel_26200\\2543640591.py:3: DtypeWarning: Columns (0,5,6,7,8,9,10) have mixed types. Specify dtype option on import or set low_memory=False.\n",
      "  complaints_detailed=pd.read_csv(\"extra_data/complaints-complaints.csv\")\n"
     ]
    }
   ],
   "source": [
    "#merge complaints\n",
    "complaints=pd.read_csv(\"extra_data/complaints-accused.csv\")\n",
    "complaints_detailed=pd.read_csv(\"extra_data/complaints-complaints.csv\")\n",
    "complaint_types=pd.read_csv(\"extra_data/Complaint Categories.csv\")\n",
    "\n",
    "cmp= complaints.merge(complaints_detailed[[\"cr_id\", \"complaint_date\"]],on=\"cr_id\",how=\"left\")\n",
    "cmp[\"code\"]=cmp[\"complaint_code\"]\n",
    "complaint_types=complaint_types[~pd.isna(complaint_types[\"111\"])]\n",
    "complaint_types[\"code\"]=complaint_types[\"111\"]\n",
    "cmp= cmp.merge(complaint_types,on=\"code\",how=\"left\")"
   ]
  },
  {
   "cell_type": "markdown",
   "metadata": {},
   "source": [
    "Need to add a section on the outcome of the complaints"
   ]
  },
  {
   "cell_type": "code",
   "execution_count": 9,
   "metadata": {},
   "outputs": [],
   "source": [
    "#complaint results\n",
    "comp_cat={\"NAF\":\"No Affidavit\", \"EX\":\"Complaint Dismissed\", \"UN\":\"Complaint Dismissed\",\"NS\":\"Insufficient Evidence\",\"SU\":\"Complaint Accepted\", \"DIS\":\"Complaint Accepted\",\"NC\":\"Missing Complaint Type\",\"Missing\":\"Missing\"}\n",
    "#NC is missing\n",
    "\n",
    "#outcome\n",
    "#complaints.final_outcome.value_counts()\n",
    "\n",
    "#less important:\n",
    "dept_exclude=[\"OPERATION/PERSONNEL VIOLATION:  MISCELLANEOUS\",\"MISCELLANEOUS\", \"OPERATION/PERSONNEL VIOLATION:  REPORTS - FAIL TO SUBMIT/IMPROPER\", \"OPERATION/PERSONNEL VIOLATION:  INVENTORY PROCEDURES\",\"REPORTS - FAILED TO SUBMIT/IMPROPER\",\"INVENTORY PROCEDURES\",\"OPERATION/PERSONNEL VIOLATION: COMMUNICATION OPERATION PROCEDURES\",\"COMMUNICATION OPERATIONS PROCEDURES\",\"OPERATION/PERSONNEL VIOLATION:  VEHICLE LICENSING - CITY\",\"MISUSE OF DEPARTMENT EQUIPMENT/SUPPLIES\",\"INSUBORDINATION\",\"OPERATION/PERSONNEL VIOLATION:  INSUBORDINATION\",\"MEDICAL ROLL\",\"OPERATION/PERSONNEL VIOLATION:  MEDICAL ROLL\",\"OPERATION/PERSONNEL VIOLATION:  WEAPON/AMMUN./UNIFORM DEVIATION\",\"FAIL TO OBTAIN A COMPLAINT REGISTER NUMBER\",\"OPERATION/PERSONNEL VIOLATION: MISUSE OF DEPT. EQUIPMENT/SUPPLIES\",\"OPERATION/PERSONNEL VIOLATION:  ABSENT WITHOUT PERMISSION\",\"WEAPON/AMMUNITION/UNIFORM DEVIATION\",\"SUPERVISOR RESPONSIBILITY:  FAIL TO OBTAIN COMPLAINT REGISTER NO.\",\"SUPERVISOR RESPONSIBILITY:  MISCELLANEOUS\",\"OPERATION/PERSONNEL VIOLATION:  LEAVING ASGMT (DIST/BEAT/SECT/CT)\",\"ABSENT WITHOUT PERMISSION\",\"OPERATION/PERSONNEL VIOLATION:  RESIDENCY\",\"LEAVING ASSIGNMENT (DISTRICT, BEAT, SECTOR, COURT)\",\"RESIDENCY\",\"OPERATION/PERSONNEL VIOLATION:  COMPENSATORY TIME\",\"VEHICLE LICENSING - CITY\",\"OPERATION/PERSONNEL VIOLATION:  LATE FOR ROLL CALL/ASSIGNMENT/CT.\",\"COMPENSATORY TIME\",\"SUPVR. RESPONSIBILITY:  PROPER ACTION REVIEW/INSPECT- SUBORDINATE\",\"OPERATION/PERSONNEL VIOLATION:  LUNCH/PERSONAL\",\"LATE - ROLL CALL/ASSIGNMENT/COURT\",\"LUNCH/PERSONAL VIOLATIONS\",\"PROPER ACTION REVIEW/INSPECT - SUBORDINATE\",\"EQUIPMENT IRREGULARITY\"]\n"
   ]
  },
  {
   "cell_type": "code",
   "execution_count": 10,
   "metadata": {},
   "outputs": [],
   "source": [
    "force=[\"EXCESSIVE FORCE\",\"STRIKE\",\"ASSAULT\",\"BATTERY\",\"PUSH\",\"PULL\",\"GRAB\",\"CHOKED\",\"KICKED\",\"DRAGGED\",\"TASER\",\"SHOTS FIRED\",\"COERCION - VIOLENCE\",\"MURDER\",\"MANSLAUGHTER\",\"TAKE DOWN\",\"INJURY\",\"DEATH\",\"FIREARM\",\"WEAPON\",\"PHYSICAL CONTACT\"]\n",
    "detain=[\"DETENTION\",\"WARRANT\",\"SEARCH\",\"ARRESTEE\",\"ARREST\",\"LOCKUP\",\"BONDING\",\"BOOKING\",\"PROCESSING\",\"PRISONER'S PROPERTY\", \"PRISONERS PROPERTY\"]\n",
    "hate=[\"RACIAL\",\"SEXUAL ORIENTATION\",\"VERBAL ABUSE\", \"USE OF PROFANITY\", \"THREATS\"]\n",
    "crime=[\"COMMISSION OF CRIME\", \"DAMAGE\",\"TRESPASSING\", \"BURGLARY\", \"THEFT\", \"FELONY\",\"DRUGS\",\"CONTR. SUB\", \"ROBBERY\", \"SHOPLIFTING\",\"DOMESTIC\",\"RAPE\"]\n",
    "\n",
    "#contains\n",
    "citizen_cats={\"EXCESSIVE FORCE\":\"EXCESSIVE FORCE\",\"STRIKE\":\"EXCESSIVE FORCE\",\"ASSAULT\":\"EXCESSIVE FORCE\",\"BATTERY\":\"EXCESSIVE FORCE\",\"PUSH\":\"EXCESSIVE FORCE\",\"PULL\":\"EXCESSIVE FORCE\",\"GRAB\":\"EXCESSIVE FORCE\",\"INJURY\":\"EXCESSIVE FORCE\",\"CHOKED\":\"EXCESSIVE FORCE\",\"KICKED\":\"EXCESSIVE FORCE\",\"DRAGGED\":\"EXCESSIVE FORCE\",\"TASER\":\"EXCESSIVE FORCE\",\"SHOTS FIRED\":\"EXCESSIVE FORCE\",\"COERCION - VIOLENCE\":\"EXCESSIVE FORCE\",\"MURDER/MANSLAUGHTER, ETC.\":\"EXCESSIVE FORCE\",\"TAKE DOWN\":\"EXCESSIVE FORCE\",\n",
    "    \"INJURY/DEATH\":\"INJURY/DEATH\", \n",
    "    \"UNNECESSARY PHYSICAL CONTACT\":\"UNNECESSARY PHYSICAL CONTACT\",\n",
    "    \"FIREARM\": \"WEAPON USAGE\", \"WEAPON\":\"WEAPON USAGE\",\n",
    "    \"EXCESSIVE DETENTION\":\"EXCESSIVE DETENTION\",\n",
    "    \"WARRANT\": \"WARRANT / SEARCH VIOLATION\",\"SEARCH\":\"SEARCH WITHOUT WARRANT\",\n",
    "    \"ARRESTEE\": \"HANDLING OF ARREST / BOOKING\", \"ARREST/LOCKUP\": \"HANDLING OF ARREST / BOOKING\", \"BONDING/BOOKING/PROCESSING\": \"HANDLING OF ARREST / BOOKING\",\"PRISONER'S PROPERTY\":\"HANDLING OF ARREST / BOOKING\" , \"PRISONERS PROPERTY\":\"HANDLING OF ARREST / BOOKING\",\n",
    "    \"ILLEGAL ARREST\": \"ILLEGAL ARREST\",\n",
    "    \"IMPROPER DETENTION\":\"UNLAWFUL DETENTION\", \"UNLAWFUL / EXCESSIVE INVESTIGATIVE DETENTION (WITNESS)\": \"UNLAWFUL DETENTION\",\n",
    "    \"RACIAL\": \"RACIAL PROFILING / ABUSIVE LANGUAGE\",\n",
    "    \"SEXUAL ORIENTATION\":\"SEXUAL ORIENTATION\",\n",
    "    \"VERBAL ABUSE\":\"VERBAL ABUSE\",  \"USE OF PROFANITY\": \"VERBAL ABUSE\", \"THREATS\": \"VERBAL ABUSE\",\n",
    "    \"DOMESTIC\":\"DOMESTIC ALTERCATION\",\n",
    "    \"RAPE/SEX\":\"RAPE/SEX OFFENSES\",\n",
    "    \"TRAFFIC\": \"TRAFFIC (NOT BRIBERY/EX-FORCE)\",\n",
    "    \"NO ARREST\": \"NO ARREST\",\n",
    "    \"COMMISSION OF CRIME\":\"CRIME\", \"DAMAGE/TRESPASSING PROPERTY\":\"CRIME\", \"BURGLARY\":\"CRIME\", \"THEFT\":\"CRIME\", \"OTHER FELONY\":\"CRIME\",\"DRUGS/CONTR. SUB., POSSESSION OR SALE\":\"CRIME\", \"ROBBERY\":\"CRIME\", \"SHOPLIFTING\":\"CRIME\",\n",
    "    \"ATTORNEY/RELATIVE PRIVILEGES\":\"COMMUNICATION\",\"FIRST AMENDMENT\":\"COMMUNICATION\",\n",
    "    \"MISCONDUCT DURING ISSUANCE OF CITATION\":\"OTHER\",\"CIVIL SUIT\":\"OTHER\", \"IMPROPER PROCESSING/REPORTING/PROCEDURES\":\"OTHER\",\"ESCAPE\":\"OTHER\",\"MISCELLANEOUS\":\"OTHER\",\"PARKING COMPLAINTS\":\"OTHER\",\"VIOLATION (OTHER THAN D.U.I.) - ON DUTY\":\"OTHER\",\"POLICE IMPERSONATOR - ADV SECTION USE ON CLOSING ONLY\":\"OTHER\"}\n"
   ]
  },
  {
   "cell_type": "code",
   "execution_count": 11,
   "metadata": {},
   "outputs": [],
   "source": [
    "cmp[\"civ_complaint_force\"]=False\n",
    "cmp[\"civ_complaint_detain\"]=False\n",
    "cmp[\"civ_complaint_hate\"]=False\n",
    "cmp[\"civ_complaint_crime\"]=False\n",
    "\n",
    "cmp[\"civ_complaint_count\"]=np.where(cmp[\"CITIZEN / DEPT\"]==\"CITIZEN\",1,0)\n",
    "cmp[\"civ_complaint_desc\"]=np.where(cmp[\"civ_complaint_count\"],cmp.complaint_category,\"\")\n",
    "cmp[\"civ_complaint_desc\"]=np.where(cmp[\"civ_complaint_desc\"].isna(),\"Missing\",cmp[\"civ_complaint_desc\"])\n",
    "\n",
    "for word in force:\n",
    "    cmp[\"civ_complaint_force\"]=np.where(cmp[\"civ_complaint_desc\"].str.contains(word,case=False),True,cmp[\"civ_complaint_force\"])\n",
    "for word in detain:\n",
    "    cmp[\"civ_complaint_detain\"]=np.where(cmp[\"civ_complaint_desc\"].str.contains(word,case=False),True,cmp[\"civ_complaint_detain\"])\n",
    "for word in hate:\n",
    "    cmp[\"civ_complaint_hate\"]=np.where(cmp[\"civ_complaint_desc\"].str.contains(word,case=False),True,cmp[\"civ_complaint_hate\"])\n",
    "for word in crime:\n",
    "    cmp[\"civ_complaint_crime\"]=np.where(cmp[\"civ_complaint_desc\"].str.contains(word,case=False),True,cmp[\"civ_complaint_crime\"])\n",
    "\n",
    "duplicate_words_detain=[\"EXCESSIVE FORCE:  ARRESTEE\",\"EXCESSIVE FORCE:  NO ARREST\"]\n",
    "duplicate_words_force=[\"COMMISSION OF CRIME:  ASSAULT/BATTERY\",\"COMMISSION OF CRIME:  MURDER/MANSLAUGHTER ETC\",\"ARREST/LOCKUP PROCEDURE:  PROPER CARE/INJURY/DEATH\"]\n",
    "duplicate_words_crime=[\"EXCESSIVE FORCE:  DOMESTIC\"]\n",
    "\n",
    "#identify duplicate words here \n",
    "#cmp[[\"civ_complaint_count\",\"civ_complaint_force\",\"civ_complaint_detain\",\"civ_complaint_hate\",\"civ_complaint_crime\"]].value_counts()\n",
    "#cmp.loc[(cmp[\"civ_complaint_force\"]==True) & (cmp[\"civ_complaint_detain\"]==True)][\"civ_complaint_desc\"].value_counts()\n",
    "\n",
    "for word in duplicate_words_force:\n",
    "    cmp[\"civ_complaint_force\"]=np.where(cmp[\"civ_complaint_desc\"].str.contains(word,case=False),False,cmp[\"civ_complaint_force\"])\n",
    "for word in duplicate_words_detain:\n",
    "    cmp[\"civ_complaint_detain\"]=np.where(cmp[\"civ_complaint_desc\"].str.contains(word,case=False),False,cmp[\"civ_complaint_detain\"])\n",
    "for word in duplicate_words_crime:\n",
    "    cmp[\"civ_complaint_crime\"]=np.where(cmp[\"civ_complaint_desc\"].str.contains(word,case=False),False,cmp[\"civ_complaint_crime\"])\n"
   ]
  },
  {
   "cell_type": "code",
   "execution_count": 12,
   "metadata": {},
   "outputs": [],
   "source": [
    "cmp[\"comp_cat\"]=np.where(cmp.final_finding.isna(),\"Missing\",cmp.final_finding)\n",
    "cmp[\"comp_cat\"]=cmp[\"comp_cat\"].replace(comp_cat)\n",
    "\n",
    "cmp[\"dept_complaint_count\"]=np.where(cmp[\"CITIZEN / DEPT\"]==\"DEPT\",True,False)\n",
    "cmp[\"dept_complaint_cleaned_count\"]=np.where(cmp[\"CITIZEN / DEPT\"]==\"DEPT\",np.where(cmp.complaint_category.isin(dept_exclude),False,True),False)\n",
    "cmp[\"dept_complaint_desc\"]=np.where(cmp[\"dept_complaint_cleaned_count\"],cmp.complaint_category,\"\")\n",
    "\n",
    "cmp[\"civ_complaint_cat\"]=np.where(cmp.civ_complaint_force,\"FORCE\",\n",
    "    np.where(cmp.civ_complaint_detain,\"DETAIN\",\n",
    "    np.where(cmp.civ_complaint_hate,\"HATE\",\n",
    "    np.where(cmp.civ_complaint_crime,\"CRIME\",\n",
    "    np.where(cmp.civ_complaint_count,\"OTHER\",\"\")))))\n",
    "    \n",
    "#checking count made correctly\n",
    "#cmp[cmp.dept_complaint_count==1][[\"complaint_category\",\"dept_complaint_cleaned_count\"]].value_counts()"
   ]
  },
  {
   "cell_type": "code",
   "execution_count": 13,
   "metadata": {},
   "outputs": [
    {
     "name": "stdout",
     "output_type": "stream",
     "text": [
      "<class 'list'>\n"
     ]
    }
   ],
   "source": []
  },
  {
   "cell_type": "code",
   "execution_count": 15,
   "metadata": {},
   "outputs": [
    {
     "name": "stdout",
     "output_type": "stream",
     "text": [
      "dept_complaint_cleaned_count\n",
      "civ_complaint_count\n",
      "civ_complaint_force\n",
      "civ_complaint_detain\n",
      "civ_complaint_hate\n",
      "civ_complaint_crime\n"
     ]
    }
   ],
   "source": [
    "cmp_counts=cmp.groupby(\"UID\",as_index=False).agg({\"dept_complaint_count\":\"sum\",\"dept_complaint_cleaned_count\":\"sum\",\"civ_complaint_count\":\"sum\",\"civ_complaint_force\":\"sum\",\"civ_complaint_detain\":\"sum\",\"civ_complaint_hate\":\"sum\",\"civ_complaint_crime\":\"sum\"})\n",
    "df=df.merge(cmp_counts,on=\"UID\",how=\"left\")\n",
    "\n",
    "counts=[\"dept_complaint_cleaned_count\",\"civ_complaint_count\",\"civ_complaint_force\",\"civ_complaint_detain\",\"civ_complaint_hate\",\"civ_complaint_crime\"]\n",
    "col_names=[\"dept_complaint_desc\",\"civ_complaint_desc\",\"civ_complaint_force_desc\",\"civ_complaint_detain_desc\",\"civ_complaint_hate_desc\",\"civ_complaint_crime_desc\"]\n",
    "for i, count in enumerate(counts):\n",
    "    print(count)\n",
    "    temp=cmp[cmp[count]==True].groupby(\"UID\")[\"complaint_category\"].apply(list).reset_index()\n",
    "    temp.columns=[\"UID\",col_names[i]]\n",
    "    df=df.merge(temp,on=\"UID\",how=\"left\")\n"
   ]
  },
  {
   "cell_type": "markdown",
   "metadata": {},
   "source": [
    "## TTR"
   ]
  },
  {
   "cell_type": "code",
   "execution_count": 16,
   "metadata": {},
   "outputs": [],
   "source": [
    "#merge trr\n",
    "trr_overall=pd.read_csv(\"extra_data/TRR-main_2004-2016_2016-09.csv\")\n",
    "trr_subjects=pd.read_csv(\"extra_data/TRR-subjects_2004-2016_2016-09.csv\")\n",
    "trr_officers=pd.read_csv(\"extra_data/TRR-officers_2004-2016_2016-09.csv\")\n",
    "trr_actions=pd.read_csv(\"extra_data/TRR-actions-responses_2004-2016_2016-09.csv\")\n",
    "\n",
    "trr=trr_overall.merge(trr_officers,on=\"trr_id\",suffixes=(\"\",\"_officer\")) #,how=\"left\"\n",
    "trr=trr.merge(trr_subjects,on=\"trr_id\",suffixes=(\"\",\"_subject\")) #,how=\"left\"\n",
    "trr=trr.merge(trr_actions[trr_actions.person==\"Member Action\"],on=\"trr_id\",suffixes=(\"\",\"_subject\")) #,how=\"left\"\n",
    "\n",
    "\n",
    "trr[\"trr_year\"]=trr[\"trr_date\"].apply(lambda x: int(str(x)[0:4]))\n",
    "trr_17=trr #[trr[\"trr_year\"]==2017]\n"
   ]
  },
  {
   "cell_type": "code",
   "execution_count": 17,
   "metadata": {},
   "outputs": [],
   "source": [
    "action_cat={\"Missing\":\"Missing\",\"Verbal Commands\":\"Other\",\"Member Presence\":\"Other\",\"Physical Force - Stunning\":\"Use of Force\",\"Physical Force - Holding\":\"Use of Force\",\"Physical Force - Direct Mechanical\":\"Use of Force\",\"Other Force\":\"Use of Force\",\"Taser\":\"Use of Weapon\",\"Chemical\":\"Use of Weapon\",\"Impact Weapon\":\"Use of Weapon\",\"Firearm\":\"Use of Weapon\",\"Taser Display\":\"Other\",\"Chemical (Authorized)\":\"Use of Weapon\",\"Other\":\"Other\"} "
   ]
  },
  {
   "cell_type": "code",
   "execution_count": 18,
   "metadata": {},
   "outputs": [],
   "source": [
    "trr_17[\"force_cat\"]=np.where(trr_17.force_type.isna(),\"Missing\",trr_17.force_type.replace(action_cat))\n",
    "trr_17[\"count\"]=True\n",
    "trr_17[\"weapon_count\"]=np.where(trr_17[\"force_cat\"]==\"Use of Weapon\",True,False)\n",
    "trr_17[\"force_count\"]=np.where(trr_17[\"force_cat\"]==\"Use of Force\",True,trr_17[\"weapon_count\"])\n",
    "trr_17[\"trr_count\"]=np.where(trr_17[\"force_cat\"]==\"Other\",True,trr_17[\"force_count\"])\n",
    "\n"
   ]
  },
  {
   "cell_type": "code",
   "execution_count": 19,
   "metadata": {},
   "outputs": [],
   "source": [
    "trr_17_counts=trr_17.groupby(\"UID\",as_index=False).agg({\"force_count\":\"sum\",\"weapon_count\":\"sum\",\"trr_count\":\"sum\"})\n",
    "    \n",
    "df=df.merge(trr_17_counts,on=\"UID\",how=\"left\")\n",
    "\n",
    "counts=[\"force_count\",\"weapon_count\",\"trr_count\"]\n",
    "col_names=[\"action_force_desc\",\"action_weapon_desc\",\"action_all_desc\"]\n",
    "for i, count in enumerate(counts):\n",
    "    temp=trr_17[trr_17[count]==True].groupby(\"UID\")[\"action\"].apply(list).reset_index()\n",
    "    temp.columns=[\"UID\",col_names[i]]\n",
    "    df=df.merge(temp,on=\"UID\",how=\"left\")\n"
   ]
  },
  {
   "cell_type": "code",
   "execution_count": 27,
   "metadata": {},
   "outputs": [
    {
     "data": {
      "text/plain": [
       "[]"
      ]
     },
     "execution_count": 27,
     "metadata": {},
     "output_type": "execute_result"
    }
   ],
   "source": [
    "temp"
   ]
  },
  {
   "cell_type": "markdown",
   "metadata": {},
   "source": [
    "# Export"
   ]
  },
  {
   "cell_type": "code",
   "execution_count": 21,
   "metadata": {},
   "outputs": [],
   "source": [
    "col_names=[\"force_count\",\"weapon_count\",\"trr_count\",\"dept_complaint_count\",\"dept_complaint_cleaned_count\",\"civ_complaint_count\",\"civ_complaint_force\",\"civ_complaint_detain\",\"civ_complaint_hate\",\"civ_complaint_crime\"]\n",
    "\n",
    "for col in col_names:\n",
    "    df[col+\"_persons_with\"]=np.where(df[col]>0,1,0)"
   ]
  },
  {
   "cell_type": "code",
   "execution_count": 22,
   "metadata": {},
   "outputs": [],
   "source": [
    "unit_all=df.groupby(\"unit_description\").agg({\"UID\":\"count\",\"force_count\":\"sum\",\"weapon_count\":\"sum\",\"trr_count\":\"sum\",\"dept_complaint_count\":\"sum\",\"dept_complaint_cleaned_count\":\"sum\",\"civ_complaint_count\":\"sum\",\"civ_complaint_force\":\"sum\",\"civ_complaint_detain\":\"sum\",\"civ_complaint_hate\":\"sum\",\"civ_complaint_crime\":\"sum\",\"force_count_persons_with\":\"sum\",\"weapon_count_persons_with\":\"sum\",\"trr_count_persons_with\":\"sum\",\"dept_complaint_count_persons_with\":\"sum\",\"dept_complaint_cleaned_count_persons_with\":\"sum\",\"civ_complaint_count_persons_with\":\"sum\",\"civ_complaint_force_persons_with\":\"sum\",\"civ_complaint_detain_persons_with\":\"sum\",\"civ_complaint_hate_persons_with\":\"sum\",\"civ_complaint_crime_persons_with\":\"sum\"}).reset_index()\n",
    "unit_cats=df.groupby(\"unit_cat\").agg({\"UID\":\"count\",\"force_count\":\"sum\",\"weapon_count\":\"sum\",\"trr_count\":\"sum\",\"dept_complaint_count\":\"sum\",\"dept_complaint_cleaned_count\":\"sum\",\"civ_complaint_count\":\"sum\",\"civ_complaint_force\":\"sum\",\"civ_complaint_detain\":\"sum\",\"civ_complaint_hate\":\"sum\",\"civ_complaint_crime\":\"sum\",\"force_count_persons_with\":\"sum\",\"weapon_count_persons_with\":\"sum\",\"trr_count_persons_with\":\"sum\",\"dept_complaint_count_persons_with\":\"sum\",\"dept_complaint_cleaned_count_persons_with\":\"sum\",\"civ_complaint_count_persons_with\":\"sum\",\"civ_complaint_force_persons_with\":\"sum\",\"civ_complaint_detain_persons_with\":\"sum\",\"civ_complaint_hate_persons_with\":\"sum\",\"civ_complaint_crime_persons_with\":\"sum\"}).reset_index()\n",
    "\n",
    "unit_all.to_json(\"departments.json\",orient=\"records\")\n",
    "unit_cats.to_json(\"departments_cats.json\",orient=\"records\")"
   ]
  },
  {
   "cell_type": "code",
   "execution_count": 23,
   "metadata": {},
   "outputs": [],
   "source": [
    "\n",
    "# df[\"age_in_2017\"]=np.where(df['birth_year'].isna(),\"Missing\",np.where(df['birth_year'].inf(),\"Missing\",2017-df['birth_year'].astype(int)))\n",
    "# df[\"years_in_2017\"]=2017-df['appointed_date'].astype(int)\n",
    "\n",
    "df[\"full_name\"]=df['first_name']+\" \"\n",
    "df[\"full_name\"]=np.where(df[\"middle_initial\"].isna(),df[\"full_name\"],df[\"full_name\"]+df['middle_initial']+\". \")\n",
    "df[\"full_name\"]=np.where(df[\"middle_initial2\"].isna(),df[\"full_name\"],df[\"full_name\"]+df['middle_initial2']+\". \")\n",
    "df[\"full_name\"]=df[\"full_name\"]+df['last_name']\n",
    "df[\"full_name\"]=np.where(df[\"suffix_name\"].isna(),df[\"full_name\"],df[\"full_name\"]+\" \"+df['suffix_name'])\n",
    "\n"
   ]
  },
  {
   "cell_type": "code",
   "execution_count": 24,
   "metadata": {},
   "outputs": [],
   "source": [
    "cols_to_keep=['gender', 'race', 'birth_year', 'current_age','appointed_date', 'current_rank', 'unit_description', 'first_name', 'last_name', 'middle_initial', 'suffix_name','UID','dept_complaint_cleaned_count', 'civ_complaint_count','civ_complaint_force', 'civ_complaint_detain', 'civ_complaint_hate','civ_complaint_crime', 'dept_complaint_desc', 'civ_complaint_desc','civ_complaint_force_desc', 'civ_complaint_detain_desc','civ_complaint_hate_desc', 'civ_complaint_crime_desc', 'force_count','weapon_count','trr_count', 'action_force_desc', 'action_weapon_desc']\n",
    "cols_to_keep=['full_name','birth_year','appointed_date', 'current_rank', 'unit_description','dept_complaint_cleaned_count', 'civ_complaint_count','civ_complaint_force', 'civ_complaint_detain', 'civ_complaint_hate','civ_complaint_crime', 'dept_complaint_desc', 'civ_complaint_desc','civ_complaint_force_desc', 'civ_complaint_detain_desc','civ_complaint_hate_desc', 'civ_complaint_crime_desc', 'force_count','weapon_count','trr_count', 'action_force_desc', 'action_weapon_desc']\n",
    "\n",
    "df[cols_to_keep].to_json(\"officers_2017.json\",orient=\"records\")\n"
   ]
  },
  {
   "cell_type": "markdown",
   "metadata": {},
   "source": [
    "# Update Department Json"
   ]
  },
  {
   "cell_type": "code",
   "execution_count": 25,
   "metadata": {},
   "outputs": [],
   "source": [
    "import json\n",
    "\n",
    "with open(\"departments.json\") as file:\n",
    "    data = json.load(file)\n",
    "\n",
    "with open(\"officers_2017.json\") as file:\n",
    "    officers = json.load(file)\n",
    "\n",
    "for d in data:\n",
    "    d[\"officers_2017\"]=[]\n",
    "    temp=[]\n",
    "    for officer in officers:\n",
    "        if officer[\"unit_description\"]==d[\"unit_description\"]:\n",
    "            d[\"officers_2017\"].append(officer)\n"
   ]
  },
  {
   "cell_type": "code",
   "execution_count": 26,
   "metadata": {},
   "outputs": [],
   "source": [
    "with open(\"departments_officers.json\", \"w\") as outfile:\n",
    "    json.dump(data, outfile)\n",
    "    "
   ]
  },
  {
   "cell_type": "code",
   "execution_count": 28,
   "metadata": {},
   "outputs": [
    {
     "data": {
      "text/plain": [
       "{'unit_description': 'ARSON SECTION',\n",
       " 'UID': 11,\n",
       " 'force_count': 69.0,\n",
       " 'weapon_count': 4.0,\n",
       " 'dept_complaint_count': 38.0,\n",
       " 'dept_complaint_cleaned_count': 26.0,\n",
       " 'civ_complaint_count': 61.0,\n",
       " 'civ_complaint_force': 23.0,\n",
       " 'civ_complaint_detain': 19.0,\n",
       " 'civ_complaint_hate': 4.0,\n",
       " 'civ_complaint_crime': 6.0,\n",
       " 'force_count_persons_with': 9,\n",
       " 'weapon_count_persons_with': 3,\n",
       " 'dept_complaint_count_persons_with': 11,\n",
       " 'dept_complaint_cleaned_count_persons_with': 8,\n",
       " 'civ_complaint_count_persons_with': 11,\n",
       " 'civ_complaint_force_persons_with': 7,\n",
       " 'civ_complaint_detain_persons_with': 8,\n",
       " 'civ_complaint_hate_persons_with': 3,\n",
       " 'civ_complaint_crime_persons_with': 4,\n",
       " 'officers_2017': [{'full_name': 'AUGUSTA COTTON',\n",
       "   'birth_year': 1957.0,\n",
       "   'appointed_date': '2000-02-28',\n",
       "   'current_rank': 'PO AS DETECTIVE',\n",
       "   'unit_description': 'ARSON SECTION',\n",
       "   'dept_complaint_cleaned_count': 2.0,\n",
       "   'civ_complaint_count': 2.0,\n",
       "   'civ_complaint_force': 0.0,\n",
       "   'civ_complaint_detain': 1.0,\n",
       "   'civ_complaint_hate': 0.0,\n",
       "   'civ_complaint_crime': 0.0,\n",
       "   'dept_complaint_desc': ['NEGLECT OF DUTY/CONDUCT UNBECOMING - ON DUTY',\n",
       "    'INADEQUATE/FAILURE TO PROVIDE SERVICE'],\n",
       "   'civ_complaint_desc': ['TRAFFIC (NOT BRIBERY/EX-FORCE): IMPROPER PROCESS/REPORT/PROCEDURE',\n",
       "    'IMPROPER PROCESSING/REPORTING/PROCEDURES'],\n",
       "   'civ_complaint_force_desc': None,\n",
       "   'civ_complaint_detain_desc': ['IMPROPER PROCESSING/REPORTING/PROCEDURES'],\n",
       "   'civ_complaint_hate_desc': None,\n",
       "   'civ_complaint_crime_desc': None,\n",
       "   'force_count': None,\n",
       "   'weapon_count': None,\n",
       "   'action_force_desc': None,\n",
       "   'action_weapon_desc': None},\n",
       "  {'full_name': 'TINA M. FIGUEROA-MITCHE',\n",
       "   'birth_year': 1962.0,\n",
       "   'appointed_date': '1990-07-30',\n",
       "   'current_rank': 'PO AS DETECTIVE',\n",
       "   'unit_description': 'ARSON SECTION',\n",
       "   'dept_complaint_cleaned_count': 0.0,\n",
       "   'civ_complaint_count': 6.0,\n",
       "   'civ_complaint_force': 3.0,\n",
       "   'civ_complaint_detain': 1.0,\n",
       "   'civ_complaint_hate': 0.0,\n",
       "   'civ_complaint_crime': 0.0,\n",
       "   'dept_complaint_desc': None,\n",
       "   'civ_complaint_desc': ['EXCESSIVE FORCE:  ARRESTEE - DURING ARREST',\n",
       "    'TRAFFIC (NOT BRIBERY/EX-FORCE):  MISCELLANEOUS',\n",
       "    'EXCESSIVE FORCE:  ARRESTEE - DURING ARREST',\n",
       "    'EXCESSIVE FORCE:  ARRESTEE - DURING ARREST',\n",
       "    'MISCELLANEOUS',\n",
       "    'ILLEGAL ARREST'],\n",
       "   'civ_complaint_force_desc': ['EXCESSIVE FORCE:  ARRESTEE - DURING ARREST',\n",
       "    'EXCESSIVE FORCE:  ARRESTEE - DURING ARREST',\n",
       "    'EXCESSIVE FORCE:  ARRESTEE - DURING ARREST'],\n",
       "   'civ_complaint_detain_desc': ['ILLEGAL ARREST'],\n",
       "   'civ_complaint_hate_desc': None,\n",
       "   'civ_complaint_crime_desc': None,\n",
       "   'force_count': 1.0,\n",
       "   'weapon_count': 0.0,\n",
       "   'action_force_desc': ['TAKE DOWN/EMERGENCY HANDCUFFING'],\n",
       "   'action_weapon_desc': None},\n",
       "  {'full_name': 'KEVIN T. FLANIGAN',\n",
       "   'birth_year': 1970.0,\n",
       "   'appointed_date': '1992-06-29',\n",
       "   'current_rank': 'SERGEANT OF POLICE',\n",
       "   'unit_description': 'ARSON SECTION',\n",
       "   'dept_complaint_cleaned_count': 0.0,\n",
       "   'civ_complaint_count': 12.0,\n",
       "   'civ_complaint_force': 7.0,\n",
       "   'civ_complaint_detain': 2.0,\n",
       "   'civ_complaint_hate': 1.0,\n",
       "   'civ_complaint_crime': 1.0,\n",
       "   'dept_complaint_desc': None,\n",
       "   'civ_complaint_desc': ['EXCESSIVE FORCE:  ARRESTEE - AFTER ARREST-PRIOR TO LOCKUP',\n",
       "    'EXCESSIVE FORCE:  ARRESTEE - DURING ARREST',\n",
       "    'EXCESSIVE FORCE:  NO ARREST',\n",
       "    'EXCESSIVE FORCE:  ARRESTEE - DURING ARREST',\n",
       "    'VERBAL ABUSE - USE OF PROFANITY',\n",
       "    'EXCESSIVE FORCE:  ARRESTEE - DURING ARREST',\n",
       "    'COMMISSION OF CRIME:  DAMAGE/TRESPASSING PROPERTY',\n",
       "    'EXCESSIVE FORCE:  ARRESTEE - AFTER ARREST-PRIOR TO LOCKUP',\n",
       "    'UNNECESSARY PHYSICAL CONTACT - ON DUTY',\n",
       "    'ARRESTEE - DURING ARREST',\n",
       "    'MISCELLANEOUS',\n",
       "    'ARRESTEE - AFTER ARREST, PRIOR TO LOCKUP'],\n",
       "   'civ_complaint_force_desc': ['EXCESSIVE FORCE:  ARRESTEE - AFTER ARREST-PRIOR TO LOCKUP',\n",
       "    'EXCESSIVE FORCE:  ARRESTEE - DURING ARREST',\n",
       "    'EXCESSIVE FORCE:  NO ARREST',\n",
       "    'EXCESSIVE FORCE:  ARRESTEE - DURING ARREST',\n",
       "    'EXCESSIVE FORCE:  ARRESTEE - DURING ARREST',\n",
       "    'EXCESSIVE FORCE:  ARRESTEE - AFTER ARREST-PRIOR TO LOCKUP',\n",
       "    'UNNECESSARY PHYSICAL CONTACT - ON DUTY'],\n",
       "   'civ_complaint_detain_desc': ['ARRESTEE - DURING ARREST',\n",
       "    'ARRESTEE - AFTER ARREST, PRIOR TO LOCKUP'],\n",
       "   'civ_complaint_hate_desc': ['VERBAL ABUSE - USE OF PROFANITY'],\n",
       "   'civ_complaint_crime_desc': ['COMMISSION OF CRIME:  DAMAGE/TRESPASSING PROPERTY'],\n",
       "   'force_count': 3.0,\n",
       "   'weapon_count': 0.0,\n",
       "   'action_force_desc': ['OPEN HAND STRIKE',\n",
       "    'TAKE DOWN/EMERGENCY HANDCUFFING',\n",
       "    'ARMBAR'],\n",
       "   'action_weapon_desc': None},\n",
       "  {'full_name': 'GREGORY J. GRANADON',\n",
       "   'birth_year': 1960.0,\n",
       "   'appointed_date': '1986-12-22',\n",
       "   'current_rank': 'PO AS DETECTIVE',\n",
       "   'unit_description': 'ARSON SECTION',\n",
       "   'dept_complaint_cleaned_count': 4.0,\n",
       "   'civ_complaint_count': 8.0,\n",
       "   'civ_complaint_force': 3.0,\n",
       "   'civ_complaint_detain': 3.0,\n",
       "   'civ_complaint_hate': 1.0,\n",
       "   'civ_complaint_crime': 1.0,\n",
       "   'dept_complaint_desc': ['OPERATION/PERSONNEL VIOLATION: INADEQUATE/FAIL TO PROVIDE SERVICE',\n",
       "    'OPERATION/PERSONNEL VIOLATION: INADEQUATE/FAIL TO PROVIDE SERVICE',\n",
       "    'OPERATION/PERSONNEL VIOLATION: INADEQUATE/FAIL TO PROVIDE SERVICE',\n",
       "    'OPERATION/PERSONNEL VIOLATION: INADEQUATE/FAIL TO PROVIDE SERVICE'],\n",
       "   'civ_complaint_desc': ['CIVIL RIGHTS VIOLATION:  SEARCH OF PREMISE/VEHICLE W/O WARRANT',\n",
       "    'VERBAL ABUSE - MISCELLANEOUS',\n",
       "    'EXCESSIVE FORCE:  NO ARREST',\n",
       "    'COMMISSION OF CRIME:  THEFT',\n",
       "    'EXCESSIVE FORCE:  ARRESTEE - AFTER ARREST-PRIOR TO LOCKUP',\n",
       "    'ARREST/LOCKUP PROCEDURE:  PRISONERS PROPERTY - INVENTORY/RECEIPT',\n",
       "    'CIVIL RIGHTS VIOLATION:  SEARCH OF PREMISE/VEHICLE W/O WARRANT',\n",
       "    'WEAPON, USE/DISPLAY OF'],\n",
       "   'civ_complaint_force_desc': ['EXCESSIVE FORCE:  NO ARREST',\n",
       "    'EXCESSIVE FORCE:  ARRESTEE - AFTER ARREST-PRIOR TO LOCKUP',\n",
       "    'WEAPON, USE/DISPLAY OF'],\n",
       "   'civ_complaint_detain_desc': ['CIVIL RIGHTS VIOLATION:  SEARCH OF PREMISE/VEHICLE W/O WARRANT',\n",
       "    'ARREST/LOCKUP PROCEDURE:  PRISONERS PROPERTY - INVENTORY/RECEIPT',\n",
       "    'CIVIL RIGHTS VIOLATION:  SEARCH OF PREMISE/VEHICLE W/O WARRANT'],\n",
       "   'civ_complaint_hate_desc': ['VERBAL ABUSE - MISCELLANEOUS'],\n",
       "   'civ_complaint_crime_desc': ['COMMISSION OF CRIME:  THEFT'],\n",
       "   'force_count': 1.0,\n",
       "   'weapon_count': 0.0,\n",
       "   'action_force_desc': ['OTHER (SPECIFY)'],\n",
       "   'action_weapon_desc': None},\n",
       "  {'full_name': 'DANIEL G. KRANZ',\n",
       "   'birth_year': 1967.0,\n",
       "   'appointed_date': '1997-09-02',\n",
       "   'current_rank': 'PO AS DETECTIVE',\n",
       "   'unit_description': 'ARSON SECTION',\n",
       "   'dept_complaint_cleaned_count': 4.0,\n",
       "   'civ_complaint_count': 2.0,\n",
       "   'civ_complaint_force': 2.0,\n",
       "   'civ_complaint_detain': 0.0,\n",
       "   'civ_complaint_hate': 0.0,\n",
       "   'civ_complaint_crime': 0.0,\n",
       "   'dept_complaint_desc': ['INADEQUATE/FAILURE TO PROVIDE SERVICE',\n",
       "    'INADEQUATE/FAILURE TO PROVIDE SERVICE',\n",
       "    'NEGLECT OF DUTY/CONDUCT UNBECOMING - ON DUTY',\n",
       "    'INADEQUATE/FAILURE TO PROVIDE SERVICE'],\n",
       "   'civ_complaint_desc': ['EXCESSIVE FORCE:  WEAPON, USE OF',\n",
       "    'WEAPON, USE/DISPLAY OF'],\n",
       "   'civ_complaint_force_desc': ['EXCESSIVE FORCE:  WEAPON, USE OF',\n",
       "    'WEAPON, USE/DISPLAY OF'],\n",
       "   'civ_complaint_detain_desc': None,\n",
       "   'civ_complaint_hate_desc': None,\n",
       "   'civ_complaint_crime_desc': None,\n",
       "   'force_count': 14.0,\n",
       "   'weapon_count': 0.0,\n",
       "   'action_force_desc': ['TAKE DOWN/EMERGENCY HANDCUFFING',\n",
       "    'ARMBAR',\n",
       "    'ESCORT HOLDS',\n",
       "    'OTHER (SPECIFY)',\n",
       "    'TAKE DOWN/EMERGENCY HANDCUFFING',\n",
       "    'OTHER (SPECIFY)',\n",
       "    'OPEN HAND STRIKE',\n",
       "    'TAKE DOWN/EMERGENCY HANDCUFFING',\n",
       "    'ELBOW STRIKE',\n",
       "    'KNEE STRIKE',\n",
       "    'TAKE DOWN/EMERGENCY HANDCUFFING',\n",
       "    'ARMBAR',\n",
       "    'TAKE DOWN/EMERGENCY HANDCUFFING',\n",
       "    'ARMBAR'],\n",
       "   'action_weapon_desc': None},\n",
       "  {'full_name': 'LOUIS A. LIGUORI',\n",
       "   'birth_year': 1968.0,\n",
       "   'appointed_date': '1999-11-29',\n",
       "   'current_rank': 'PO AS DETECTIVE',\n",
       "   'unit_description': 'ARSON SECTION',\n",
       "   'dept_complaint_cleaned_count': 5.0,\n",
       "   'civ_complaint_count': 12.0,\n",
       "   'civ_complaint_force': 2.0,\n",
       "   'civ_complaint_detain': 6.0,\n",
       "   'civ_complaint_hate': 2.0,\n",
       "   'civ_complaint_crime': 0.0,\n",
       "   'dept_complaint_desc': ['INADEQUATE/FAILURE TO PROVIDE SERVICE',\n",
       "    'NEGLECT OF DUTY/CONDUCT UNBECOMING - ON DUTY',\n",
       "    'INADEQUATE/FAILURE TO PROVIDE SERVICE',\n",
       "    'INADEQUATE/FAILURE TO PROVIDE SERVICE',\n",
       "    'INADEQUATE/FAILURE TO PROVIDE SERVICE'],\n",
       "   'civ_complaint_desc': ['MISCONDUCT DURING ISSUANCE OF CITATION',\n",
       "    'UNNECESSARY PHYSICAL CONTACT - ON DUTY',\n",
       "    'SEARCH OF PREMISE/VEHICLE WITHOUT WARRANT',\n",
       "    'USE OF PROFANITY',\n",
       "    'SEARCH OF PREMISE/VEHICLE WITHOUT WARRANT',\n",
       "    'SEARCH OF PERSON WITHOUT WARRANT',\n",
       "    'ILLEGAL ARREST',\n",
       "    'MISCELLANEOUS',\n",
       "    'RACIAL/ETHNIC, ETC.',\n",
       "    'WEAPON - UNNECESSARY DISPLAY OF',\n",
       "    'SEARCH, PERSON/PROPERTY',\n",
       "    \"PRISONER'S PROPERTY - INVENTORY/RECEIPT\"],\n",
       "   'civ_complaint_force_desc': ['UNNECESSARY PHYSICAL CONTACT - ON DUTY',\n",
       "    'WEAPON - UNNECESSARY DISPLAY OF'],\n",
       "   'civ_complaint_detain_desc': ['SEARCH OF PREMISE/VEHICLE WITHOUT WARRANT',\n",
       "    'SEARCH OF PREMISE/VEHICLE WITHOUT WARRANT',\n",
       "    'SEARCH OF PERSON WITHOUT WARRANT',\n",
       "    'ILLEGAL ARREST',\n",
       "    'SEARCH, PERSON/PROPERTY',\n",
       "    \"PRISONER'S PROPERTY - INVENTORY/RECEIPT\"],\n",
       "   'civ_complaint_hate_desc': ['USE OF PROFANITY', 'RACIAL/ETHNIC, ETC.'],\n",
       "   'civ_complaint_crime_desc': None,\n",
       "   'force_count': 30.0,\n",
       "   'weapon_count': 2.0,\n",
       "   'action_force_desc': ['O.C./CHEMICAL WEAPON',\n",
       "    'WRISTLOCK',\n",
       "    'TAKE DOWN/EMERGENCY HANDCUFFING',\n",
       "    'ARMBAR',\n",
       "    'TAKE DOWN/EMERGENCY HANDCUFFING',\n",
       "    'ARMBAR',\n",
       "    'ARMBAR',\n",
       "    'ESCORT HOLDS',\n",
       "    'FIREARM',\n",
       "    'TAKE DOWN/EMERGENCY HANDCUFFING',\n",
       "    'ARMBAR',\n",
       "    'ESCORT HOLDS',\n",
       "    'WRISTLOCK',\n",
       "    'OPEN HAND STRIKE',\n",
       "    'OTHER (SPECIFY)',\n",
       "    'TAKE DOWN/EMERGENCY HANDCUFFING',\n",
       "    'ELBOW STRIKE',\n",
       "    'KNEE STRIKE',\n",
       "    'ARMBAR',\n",
       "    'ESCORT HOLDS',\n",
       "    'PRESSURE SENSITIVE AREAS',\n",
       "    'WRISTLOCK',\n",
       "    'OPEN HAND STRIKE',\n",
       "    'TAKE DOWN/EMERGENCY HANDCUFFING',\n",
       "    'ARMBAR',\n",
       "    'ESCORT HOLDS',\n",
       "    'WRISTLOCK',\n",
       "    'TAKE DOWN/EMERGENCY HANDCUFFING',\n",
       "    'ARMBAR',\n",
       "    'ESCORT HOLDS'],\n",
       "   'action_weapon_desc': ['O.C./CHEMICAL WEAPON', 'FIREARM']},\n",
       "  {'full_name': 'ALVIN T. MOORE',\n",
       "   'birth_year': 1965.0,\n",
       "   'appointed_date': '1994-05-02',\n",
       "   'current_rank': 'PO AS DETECTIVE',\n",
       "   'unit_description': 'ARSON SECTION',\n",
       "   'dept_complaint_cleaned_count': 2.0,\n",
       "   'civ_complaint_count': 3.0,\n",
       "   'civ_complaint_force': 2.0,\n",
       "   'civ_complaint_detain': 0.0,\n",
       "   'civ_complaint_hate': 0.0,\n",
       "   'civ_complaint_crime': 1.0,\n",
       "   'dept_complaint_desc': ['OPERATION/PERSONNEL VIOLS.:  NEGLECT OF DUTY / CONDUCT UNBECOMING',\n",
       "    'OPERATION/PERSONNEL VIOLS.:  NEGLECT OF DUTY / CONDUCT UNBECOMING'],\n",
       "   'civ_complaint_desc': ['COMMISSION OF CRIME:  THEFT',\n",
       "    'EXCESSIVE FORCE:  NO ARREST',\n",
       "    'EXCESSIVE FORCE:  ARRESTEE - AFTER ARREST-PRIOR TO LOCKUP'],\n",
       "   'civ_complaint_force_desc': ['EXCESSIVE FORCE:  NO ARREST',\n",
       "    'EXCESSIVE FORCE:  ARRESTEE - AFTER ARREST-PRIOR TO LOCKUP'],\n",
       "   'civ_complaint_detain_desc': None,\n",
       "   'civ_complaint_hate_desc': None,\n",
       "   'civ_complaint_crime_desc': ['COMMISSION OF CRIME:  THEFT'],\n",
       "   'force_count': 1.0,\n",
       "   'weapon_count': 0.0,\n",
       "   'action_force_desc': ['OTHER (SPECIFY)'],\n",
       "   'action_weapon_desc': None},\n",
       "  {'full_name': 'JEONG G. PARK',\n",
       "   'birth_year': 1965.0,\n",
       "   'appointed_date': '1996-11-04',\n",
       "   'current_rank': 'PO AS DETECTIVE',\n",
       "   'unit_description': 'ARSON SECTION',\n",
       "   'dept_complaint_cleaned_count': 4.0,\n",
       "   'civ_complaint_count': 1.0,\n",
       "   'civ_complaint_force': 0.0,\n",
       "   'civ_complaint_detain': 0.0,\n",
       "   'civ_complaint_hate': 0.0,\n",
       "   'civ_complaint_crime': 0.0,\n",
       "   'dept_complaint_desc': ['INADEQUATE/FAILURE TO PROVIDE SERVICE',\n",
       "    'INADEQUATE/FAILURE TO PROVIDE SERVICE',\n",
       "    'INADEQUATE/FAILURE TO PROVIDE SERVICE',\n",
       "    'INADEQUATE/FAILURE TO PROVIDE SERVICE'],\n",
       "   'civ_complaint_desc': ['TRAFFIC (NOT BRIBERY/EX-FORCE):  MISCELLANEOUS'],\n",
       "   'civ_complaint_force_desc': None,\n",
       "   'civ_complaint_detain_desc': None,\n",
       "   'civ_complaint_hate_desc': None,\n",
       "   'civ_complaint_crime_desc': None,\n",
       "   'force_count': 7.0,\n",
       "   'weapon_count': 1.0,\n",
       "   'action_force_desc': ['TAKE DOWN/EMERGENCY HANDCUFFING',\n",
       "    'TAKE DOWN/EMERGENCY HANDCUFFING',\n",
       "    'O.C./CHEMICAL WEAPON',\n",
       "    'OTHER (SPECIFY)',\n",
       "    'TAKE DOWN/EMERGENCY HANDCUFFING',\n",
       "    'CLOSED HAND STRIKE/PUNCH',\n",
       "    'OTHER (SPECIFY)'],\n",
       "   'action_weapon_desc': ['O.C./CHEMICAL WEAPON']},\n",
       "  {'full_name': 'MICHAEL D. QUALLS',\n",
       "   'birth_year': 1970.0,\n",
       "   'appointed_date': '1993-05-17',\n",
       "   'current_rank': 'PO AS DETECTIVE',\n",
       "   'unit_description': 'ARSON SECTION',\n",
       "   'dept_complaint_cleaned_count': 2.0,\n",
       "   'civ_complaint_count': 12.0,\n",
       "   'civ_complaint_force': 4.0,\n",
       "   'civ_complaint_detain': 3.0,\n",
       "   'civ_complaint_hate': 0.0,\n",
       "   'civ_complaint_crime': 3.0,\n",
       "   'dept_complaint_desc': ['OPERATION/PERSONNEL VIOLATION:  COURT IRREGULARITIES',\n",
       "    'STATE CIVIL SUIT'],\n",
       "   'civ_complaint_desc': ['EXCESSIVE FORCE:  NO ARREST',\n",
       "    'EXCESSIVE FORCE:  WEAPON, USE OF',\n",
       "    'COMMISSION OF CRIME:  DAMAGE/TRESPASSING PROPERTY',\n",
       "    'CIVIL RIGHTS VIOLATION:  SEARCH OF PREMISE/VEHICLE W/O WARRANT',\n",
       "    'EXCESSIVE FORCE:  ARRESTEE - DURING ARREST',\n",
       "    'EXCESSIVE FORCE:  ARRESTEE - DURING ARREST',\n",
       "    'COMMISSION OF CRIME:DRUGS/CONTR.SUB. POSS. OR SALE',\n",
       "    'CIVIL RIGHTS VIOLATION:  SEARCH OF PREMISE/VEHICLE W/O WARRANT',\n",
       "    'SEARCH OF PERSON WITHOUT WARRANT',\n",
       "    'OTHER FELONY',\n",
       "    'MISCELLANEOUS',\n",
       "    'MISCELLANEOUS'],\n",
       "   'civ_complaint_force_desc': ['EXCESSIVE FORCE:  NO ARREST',\n",
       "    'EXCESSIVE FORCE:  WEAPON, USE OF',\n",
       "    'EXCESSIVE FORCE:  ARRESTEE - DURING ARREST',\n",
       "    'EXCESSIVE FORCE:  ARRESTEE - DURING ARREST'],\n",
       "   'civ_complaint_detain_desc': ['CIVIL RIGHTS VIOLATION:  SEARCH OF PREMISE/VEHICLE W/O WARRANT',\n",
       "    'CIVIL RIGHTS VIOLATION:  SEARCH OF PREMISE/VEHICLE W/O WARRANT',\n",
       "    'SEARCH OF PERSON WITHOUT WARRANT'],\n",
       "   'civ_complaint_hate_desc': None,\n",
       "   'civ_complaint_crime_desc': ['COMMISSION OF CRIME:  DAMAGE/TRESPASSING PROPERTY',\n",
       "    'COMMISSION OF CRIME:DRUGS/CONTR.SUB. POSS. OR SALE',\n",
       "    'OTHER FELONY'],\n",
       "   'force_count': 5.0,\n",
       "   'weapon_count': 0.0,\n",
       "   'action_force_desc': ['OTHER (SPECIFY)',\n",
       "    'ESCORT HOLDS',\n",
       "    'TAKE DOWN/EMERGENCY HANDCUFFING',\n",
       "    'TAKE DOWN/EMERGENCY HANDCUFFING',\n",
       "    'OTHER (SPECIFY)'],\n",
       "   'action_weapon_desc': None},\n",
       "  {'full_name': 'PETER E. SODINI',\n",
       "   'birth_year': 1971.0,\n",
       "   'appointed_date': '1997-08-04',\n",
       "   'current_rank': 'SERGEANT OF POLICE',\n",
       "   'unit_description': 'ARSON SECTION',\n",
       "   'dept_complaint_cleaned_count': 0.0,\n",
       "   'civ_complaint_count': 2.0,\n",
       "   'civ_complaint_force': 0.0,\n",
       "   'civ_complaint_detain': 2.0,\n",
       "   'civ_complaint_hate': 0.0,\n",
       "   'civ_complaint_crime': 0.0,\n",
       "   'dept_complaint_desc': None,\n",
       "   'civ_complaint_desc': ['ARRESTEE - AFTER ARREST, PRIOR TO LOCKUP',\n",
       "    'ARRESTEE - DURING ARREST'],\n",
       "   'civ_complaint_force_desc': None,\n",
       "   'civ_complaint_detain_desc': ['ARRESTEE - AFTER ARREST, PRIOR TO LOCKUP',\n",
       "    'ARRESTEE - DURING ARREST'],\n",
       "   'civ_complaint_hate_desc': None,\n",
       "   'civ_complaint_crime_desc': None,\n",
       "   'force_count': 7.0,\n",
       "   'weapon_count': 1.0,\n",
       "   'action_force_desc': ['OTHER (SPECIFY)',\n",
       "    'ESCORT HOLDS',\n",
       "    'O.C./CHEMICAL WEAPON',\n",
       "    'KNEE STRIKE',\n",
       "    'ARMBAR',\n",
       "    'TAKE DOWN/EMERGENCY HANDCUFFING',\n",
       "    'OTHER (SPECIFY)'],\n",
       "   'action_weapon_desc': ['O.C./CHEMICAL WEAPON']},\n",
       "  {'full_name': 'MARIA T. VITI',\n",
       "   'birth_year': 1962.0,\n",
       "   'appointed_date': '1991-01-30',\n",
       "   'current_rank': 'PO AS DETECTIVE',\n",
       "   'unit_description': 'ARSON SECTION',\n",
       "   'dept_complaint_cleaned_count': 3.0,\n",
       "   'civ_complaint_count': 1.0,\n",
       "   'civ_complaint_force': 0.0,\n",
       "   'civ_complaint_detain': 1.0,\n",
       "   'civ_complaint_hate': 0.0,\n",
       "   'civ_complaint_crime': 0.0,\n",
       "   'dept_complaint_desc': ['OPERATION/PERSONNEL VIOLATION: INADEQUATE/FAIL TO PROVIDE SERVICE',\n",
       "    'OPERATION/PERSONNEL VIOLS.:  NEGLECT OF DUTY / CONDUCT UNBECOMING',\n",
       "    'OPERATION/PERSONNEL VIOLS.:  NEGLECT OF DUTY / CONDUCT UNBECOMING'],\n",
       "   'civ_complaint_desc': ['ARREST/LOCKUP PROCEDURE:  BONDING/BOOKING/PROCESSING'],\n",
       "   'civ_complaint_force_desc': None,\n",
       "   'civ_complaint_detain_desc': ['ARREST/LOCKUP PROCEDURE:  BONDING/BOOKING/PROCESSING'],\n",
       "   'civ_complaint_hate_desc': None,\n",
       "   'civ_complaint_crime_desc': None,\n",
       "   'force_count': None,\n",
       "   'weapon_count': None,\n",
       "   'action_force_desc': None,\n",
       "   'action_weapon_desc': None}]}"
      ]
     },
     "execution_count": 28,
     "metadata": {},
     "output_type": "execute_result"
    }
   ],
   "source": [
    "#data[3]"
   ]
  }
 ],
 "metadata": {
  "kernelspec": {
   "display_name": "Python 3.10.7 64-bit",
   "language": "python",
   "name": "python3"
  },
  "language_info": {
   "codemirror_mode": {
    "name": "ipython",
    "version": 3
   },
   "file_extension": ".py",
   "mimetype": "text/x-python",
   "name": "python",
   "nbconvert_exporter": "python",
   "pygments_lexer": "ipython3",
   "version": "3.10.7"
  },
  "orig_nbformat": 4,
  "vscode": {
   "interpreter": {
    "hash": "adb2bf8b6556bf81de5750366772a94ffe20ef8871ec544847e0a0e2a34f4fd1"
   }
  }
 },
 "nbformat": 4,
 "nbformat_minor": 2
}
